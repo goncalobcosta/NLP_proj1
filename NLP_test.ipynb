{
  "cells": [
    {
      "cell_type": "code",
      "execution_count": 3,
      "metadata": {
        "id": "M5aWq3wPUnyk"
      },
      "outputs": [],
      "source": [
        "import pandas as pd\n",
        "import nltk\n",
        "import matplotlib.pyplot as plt\n",
        "import seaborn as sns\n",
        "import re\n",
        "from nltk.corpus import stopwords\n",
        "from collections import Counter\n",
        "from sklearn.feature_extraction.text import CountVectorizer, TfidfVectorizer\n",
        "from sklearn.model_selection import train_test_split\n",
        "from sklearn.naive_bayes import MultinomialNB\n",
        "from sklearn.metrics import classification_report\n",
        "from sklearn.linear_model import LogisticRegression\n",
        "from sklearn.utils import resample\n",
        "from imblearn.over_sampling import SMOTE\n",
        "from nltk.stem.porter import PorterStemmer\n",
        "from nltk.util import ngrams\n",
        "from nltk.tokenize import word_tokenize\n",
        "import os\n",
        "import joblib"
      ]
    },
    {
      "cell_type": "code",
      "execution_count": 2,
      "metadata": {
        "colab": {
          "base_uri": "https://localhost:8080/"
        },
        "id": "NdlcWJciUnym",
        "outputId": "cc1aef92-c9e2-49e7-ddc9-85582866ef14"
      },
      "outputs": [
        {
          "name": "stdout",
          "output_type": "stream",
          "text": [
            "Tentando baixar 'punkt_tab'...\n",
            "Tentando baixar 'stopwords'...\n"
          ]
        },
        {
          "name": "stderr",
          "output_type": "stream",
          "text": [
            "[nltk_data] Downloading package punkt_tab to\n",
            "[nltk_data]     C:\\Users\\User\\AppData\\Roaming\\nltk_data...\n",
            "[nltk_data]   Package punkt_tab is already up-to-date!\n",
            "[nltk_data] Downloading package stopwords to\n",
            "[nltk_data]     C:\\Users\\User\\AppData\\Roaming\\nltk_data...\n",
            "[nltk_data]   Package stopwords is already up-to-date!\n",
            "[nltk_data] Downloading package punkt to\n",
            "[nltk_data]     C:\\Users\\User\\AppData\\Roaming\\nltk_data...\n",
            "[nltk_data]   Package punkt is already up-to-date!\n",
            "[nltk_data] Downloading package stopwords to\n",
            "[nltk_data]     C:\\Users\\User\\AppData\\Roaming\\nltk_data...\n",
            "[nltk_data]   Package stopwords is already up-to-date!\n"
          ]
        },
        {
          "data": {
            "text/plain": [
              "True"
            ]
          },
          "execution_count": 2,
          "metadata": {},
          "output_type": "execute_result"
        }
      ],
      "source": [
        "print(\"Tentando baixar 'punkt_tab'...\")\n",
        "nltk.download('punkt_tab')\n",
        "print(\"Tentando baixar 'stopwords'...\")\n",
        "nltk.download('stopwords')\n",
        "\n",
        "# download do NLTK (só na primeira vez)\n",
        "nltk.download('punkt')\n",
        "nltk.download('stopwords')"
      ]
    },
    {
      "cell_type": "code",
      "execution_count": 3,
      "metadata": {
        "id": "iX3ZBC_uUnym"
      },
      "outputs": [],
      "source": [
        "# configs gerais\n",
        "sns.set(style=\"whitegrid\")\n",
        "plt.rcParams[\"figure.figsize\"] = (12, 6)"
      ]
    },
    {
      "cell_type": "markdown",
      "metadata": {
        "id": "fIbOQBKFUnym"
      },
      "source": [
        "# 1. CARREGAR E ENTENDER OS DADOS"
      ]
    },
    {
      "cell_type": "code",
      "execution_count": 4,
      "metadata": {
        "id": "qLmpib8TUnyn"
      },
      "outputs": [
        {
          "name": "stdout",
          "output_type": "stream",
          "text": [
            "Carregando dataset completo em partes...\n"
          ]
        }
      ],
      "source": [
        "print(\"Carregando dataset completo em partes...\")\n",
        "chunksize = 100000  # Processar em lotes de 100.000 linhas\n",
        "data_chunks = []\n",
        "for chunk in pd.read_csv('complaints.csv', chunksize=chunksize):\n",
        "    chunk = chunk.dropna(subset=[\"narrative\"])\n",
        "    data_chunks.append(chunk)\n",
        "data = pd.concat(data_chunks, ignore_index=True)"
      ]
    },
    {
      "cell_type": "code",
      "execution_count": 5,
      "metadata": {
        "id": "5O-r8fVOy5TY"
      },
      "outputs": [
        {
          "name": "stdout",
          "output_type": "stream",
          "text": [
            "Primeiras 5 linhas do dataset:\n",
            "   Unnamed: 0         product_5  \\\n",
            "0         234  Credit Reporting   \n",
            "1         240   Debt Collection   \n",
            "2         257  Credit Reporting   \n",
            "3         271  Credit Reporting   \n",
            "4         276             Loans   \n",
            "\n",
            "                                           narrative  \\\n",
            "0  Dear Possible Financial Inc you guyss aree rep...   \n",
            "1  XXXX XXXX XXXX ( debt collector ), sent my boy...   \n",
            "2  I been receiving alerts my information was fou...   \n",
            "3  Subject : Dispute of Inaccurate Information on...   \n",
            "4  They allowed me to use the account for about a...   \n",
            "\n",
            "                                             Product Date received  \\\n",
            "0  Credit reporting or other personal consumer re...    2024-07-27   \n",
            "1                                    Debt collection    2024-07-27   \n",
            "2  Credit reporting or other personal consumer re...    2024-07-23   \n",
            "3  Credit reporting or other personal consumer re...    2024-07-27   \n",
            "4  Payday loan, title loan, personal loan, or adv...    2024-07-26   \n",
            "\n",
            "        Sub-product                                              Issue  \\\n",
            "0  Credit reporting               Incorrect information on your report   \n",
            "1     I do not know  Threatened to contact someone or share informa...   \n",
            "2  Credit reporting                        Improper use of your report   \n",
            "3  Credit reporting                        Improper use of your report   \n",
            "4       Payday loan               Received a loan you didn't apply for   \n",
            "\n",
            "                                           Sub-issue                 Company  \\\n",
            "0                      Account information incorrect  Possible Financial Inc   \n",
            "1            Talked to a third-party about your debt      BlueChip Financial   \n",
            "2  Credit inquiries on your report that you don't...           FC HoldCo LLC   \n",
            "3      Reporting company used your report improperly           CORELOGIC INC   \n",
            "4                                                NaN          MoneyLion Inc.   \n",
            "\n",
            "  State Timely response?  \n",
            "0    MI              Yes  \n",
            "1    TX              Yes  \n",
            "2    SC              Yes  \n",
            "3    GA              Yes  \n",
            "4    PA              Yes  \n"
          ]
        }
      ],
      "source": [
        "print(\"Primeiras 5 linhas do dataset:\")\n",
        "print(data.head())"
      ]
    },
    {
      "cell_type": "code",
      "execution_count": 6,
      "metadata": {
        "id": "SASG_FLbUnyn"
      },
      "outputs": [
        {
          "name": "stdout",
          "output_type": "stream",
          "text": [
            "\n",
            "Informações do dataset:\n",
            "<class 'pandas.core.frame.DataFrame'>\n",
            "RangeIndex: 2023066 entries, 0 to 2023065\n",
            "Data columns (total 11 columns):\n",
            " #   Column            Dtype \n",
            "---  ------            ----- \n",
            " 0   Unnamed: 0        int64 \n",
            " 1   product_5         object\n",
            " 2   narrative         object\n",
            " 3   Product           object\n",
            " 4   Date received     object\n",
            " 5   Sub-product       object\n",
            " 6   Issue             object\n",
            " 7   Sub-issue         object\n",
            " 8   Company           object\n",
            " 9   State             object\n",
            " 10  Timely response?  object\n",
            "dtypes: int64(1), object(10)\n",
            "memory usage: 169.8+ MB\n",
            "None\n"
          ]
        }
      ],
      "source": [
        "print(\"\\nInformações do dataset:\")\n",
        "print(data.info())"
      ]
    },
    {
      "cell_type": "markdown",
      "metadata": {
        "id": "FLB3Mc1kUnyn"
      },
      "source": [
        "#### Características\n"
      ]
    },
    {
      "cell_type": "code",
      "execution_count": 7,
      "metadata": {
        "id": "GOelzy5bUnyn"
      },
      "outputs": [
        {
          "name": "stdout",
          "output_type": "stream",
          "text": [
            "- Origem: Consumer Financial Protection Bureau (CFPB), EUA.\n",
            "- Periodo: de 2015-03-19 00:00:00 a 2024-07-31 00:00:00\n",
            "- Gênero: Reclamações textuais de consumidores sobre serviços financeiros.\n",
            "- Língua: Inglês.\n",
            "- Anotação: Rótulos ('Product') atribuídos pelos consumidores ao submeter reclamações.\n",
            "- Total de reclamações: 2023066\n",
            "- Colunas disponíveis: ['Unnamed: 0', 'product_5', 'narrative', 'Product', 'Date received', 'Sub-product', 'Issue', 'Sub-issue', 'Company', 'State', 'Timely response?']\n",
            "\n",
            "Total de reclamações: 2023066\n"
          ]
        }
      ],
      "source": [
        "print(\"- Origem: Consumer Financial Protection Bureau (CFPB), EUA.\")\n",
        "data[\"Date received\"] = pd.to_datetime(data[\"Date received\"])\n",
        "print(f\"- Periodo: de {data['Date received'].min()} a {data['Date received'].max()}\")\n",
        "print(\"- Gênero: Reclamações textuais de consumidores sobre serviços financeiros.\")\n",
        "print(\"- Língua: Inglês.\")\n",
        "print(\"- Anotação: Rótulos ('Product') atribuídos pelos consumidores ao submeter reclamações.\")\n",
        "print(f\"- Total de reclamações: {len(data)}\")\n",
        "print(f\"- Colunas disponíveis: {list(data.columns)}\")\n",
        "data = data.dropna(subset=[\"narrative\"])\n",
        "print(f\"\\nTotal de reclamações: {len(data)}\")"
      ]
    },
    {
      "cell_type": "markdown",
      "metadata": {
        "id": "eznJGnePUnyn"
      },
      "source": [
        "# 2. ANÁLISE EXPLORATÓRIA DOS DADOS (EDA)"
      ]
    },
    {
      "cell_type": "code",
      "execution_count": 8,
      "metadata": {
        "id": "cOxJF7WQUnyn"
      },
      "outputs": [
        {
          "name": "stdout",
          "output_type": "stream",
          "text": [
            "\n",
            "### Distribuição das Classes (Produtos) ###\n",
            "product_5\n",
            "Credit Reporting              1205275\n",
            "Debt Collection                266842\n",
            "Loans                          228599\n",
            "Credit Card Services           163710\n",
            "Bank Accounts and Services     158640\n",
            "Name: count, dtype: int64\n",
            "product_5\n",
            "Credit Reporting              0.595767\n",
            "Debt Collection               0.131900\n",
            "Loans                         0.112996\n",
            "Credit Card Services          0.080922\n",
            "Bank Accounts and Services    0.078416\n",
            "Name: count, dtype: float64\n"
          ]
        },
        {
          "data": {
            "image/png": "[encoded data removed]",
            "text/plain": [
              "<Figure size 1200x600 with 1 Axes>"
            ]
          },
          "metadata": {},
          "output_type": "display_data"
        }
      ],
      "source": [
        "# a) Distribuição de classes\n",
        "print(\"\\n### Distribuição das Classes (Produtos) ###\")\n",
        "class_counts = data[\"product_5\"].value_counts()\n",
        "print(class_counts)\n",
        "print(class_counts / len(data))  # Proporção, como no Notebook 2\n",
        "\n",
        "# Gráfico de barras (como no Notebook 2)\n",
        "plt.figure()\n",
        "class_counts.plot(kind=\"bar\")\n",
        "plt.title(\"Distribuição de Reclamações por Produto\")\n",
        "plt.xlabel(\"Produto\")\n",
        "plt.ylabel(\"Número de Reclamações\")\n",
        "plt.xticks(rotation=45, ha=\"right\")\n",
        "plt.tight_layout()\n",
        "plt.show()\n",
        "\n"
      ]
    },
    {
      "cell_type": "code",
      "execution_count": 4,
      "metadata": {
        "id": "JQ5FW48vdDsP"
      },
      "outputs": [],
      "source": [
        "ps = PorterStemmer()\n",
        "sw = set(stopwords.words(\"english\"))\n",
        "data = pd.read_csv('complaints.csv', nrows=50000)"
      ]
    },
    {
      "cell_type": "code",
      "execution_count": 10,
      "metadata": {
        "id": "Oxv5hHoAuU4v"
      },
      "outputs": [
        {
          "name": "stdout",
          "output_type": "stream",
          "text": [
            "Pré-processando dataset completo em lotes...\n",
            "Corpus processado criado e salvo como 'consumer_complaints_processed_full.csv'.\n"
          ]
        }
      ],
      "source": [
        "# b) Pré-processamento (remover não alfabéticos e stopwords + converter p minúsculas + stemming: \"reporting\" → \"report\", \"reports\" → \"report\")\n",
        "if \"processed_text_stemmed\" not in data.columns or not os.path.exists(\"consumer_complaints_processed_full.csv\"):\n",
        "    print(\"Pré-processando dataset completo em lotes...\")\n",
        "    corpus = []\n",
        "    for i in range(0, len(data), chunksize):\n",
        "        batch = data[\"narrative\"][i:i + chunksize]\n",
        "        batch_corpus = []\n",
        "        for review in batch:\n",
        "            review = re.sub('[^a-zA-Z]', ' ', str(review)).lower()\n",
        "            tokens = [ps.stem(w) for w in review.split() if w not in sw]\n",
        "            batch_corpus.append(' '.join(tokens))\n",
        "        corpus.extend(batch_corpus)\n",
        "    data[\"processed_text_stemmed\"] = corpus\n",
        "    data.to_csv(\"consumer_complaints_processed_full.csv\", index=False)\n",
        "    print(\"Corpus processado criado e salvo como 'consumer_complaints_processed_full.csv'.\")\n",
        "else:\n",
        "    data = pd.read_csv(\"consumer_complaints_processed_full.csv\")\n",
        "    print(\"Carregando corpus processado salvo...\")"
      ]
    },
    {
      "cell_type": "code",
      "execution_count": 11,
      "metadata": {
        "id": "ibldgKyBUnyo"
      },
      "outputs": [
        {
          "name": "stdout",
          "output_type": "stream",
          "text": [
            "\n",
            "### Estatísticas do Comprimento das Reclamações ###\n",
            "count    50000.000000\n",
            "mean        87.263400\n",
            "std        125.667783\n",
            "min          1.000000\n",
            "25%         27.000000\n",
            "50%         55.000000\n",
            "75%        106.000000\n",
            "max       4509.000000\n",
            "Name: word_count, dtype: float64\n"
          ]
        }
      ],
      "source": [
        "# c) Comprimento das reclamações\n",
        "data[\"word_count\"] = data[\"processed_text_stemmed\"].apply(lambda x: len(word_tokenize(x)))\n",
        "print(\"\\n### Estatísticas do Comprimento das Reclamações ###\")\n",
        "print(data[\"word_count\"].describe())"
      ]
    },
    {
      "cell_type": "code",
      "execution_count": 12,
      "metadata": {
        "id": "fgWwoVigzKsN"
      },
      "outputs": [
        {
          "data": {
            "image/png": "[encoded data removed]",
            "text/plain": [
              "<Figure size 1200x600 with 1 Axes>"
            ]
          },
          "metadata": {},
          "output_type": "display_data"
        }
      ],
      "source": [
        "# Histograma (inspirado em visualizações do Notebook 2)\n",
        "plt.figure()\n",
        "sns.histplot(data[\"word_count\"], bins=50, kde=True)\n",
        "plt.title(\"Distribuição do Comprimento das Reclamações (em palavras)\")\n",
        "plt.xlabel(\"Número de Palavras\")\n",
        "plt.ylabel(\"Frequência\")\n",
        "plt.tight_layout()\n",
        "plt.show()"
      ]
    },
    {
      "cell_type": "code",
      "execution_count": 13,
      "metadata": {
        "id": "HsI2zpcyUnyo"
      },
      "outputs": [
        {
          "name": "stdout",
          "output_type": "stream",
          "text": [
            "\n",
            "### Top 20 Palavras no Vocabulário (Bag-of-Words, sem tokens de 'x') ###\n",
            "['account' 'agenc' 'consum' 'credit' 'disput' 'inaccur' 'inform' 'item'\n",
            " 'late' 'payment' 'person' 'pleas' 'provid' 'remov' 'report' 'request'\n",
            " 'right' 'section' 'state' 'violat']\n"
          ]
        }
      ],
      "source": [
        "# d) Análise de vocabulário com CountVectorizer (Notebook 2)\n",
        "vectorizer = CountVectorizer(max_features=20)  # Primeiro, cria o vectorizer sem stop_words personalizados\n",
        "X = vectorizer.fit_transform(data[\"processed_text_stemmed\"]).toarray()\n",
        "vocab = vectorizer.get_feature_names_out()  # Define vocab aqui\n",
        "\n",
        "# Cria custom_stopwords usando o vocab agora definido\n",
        "custom_stopwords = set(stopwords.words(\"english\")) | {word for word in vocab if all(c == 'x' for c in word.lower())}\n",
        "vectorizer = CountVectorizer(max_features=20, stop_words=list(custom_stopwords))  # Recria o vectorizer com stop_words\n",
        "X = vectorizer.fit_transform(data[\"processed_text_stemmed\"]).toarray()\n",
        "vocab = vectorizer.get_feature_names_out()\n",
        "print(\"\\n### Top 20 Palavras no Vocabulário (Bag-of-Words, sem tokens de 'x') ###\")\n",
        "print(vocab)"
      ]
    },
    {
      "cell_type": "code",
      "execution_count": 14,
      "metadata": {
        "id": "2c6_Mi-9Unyo"
      },
      "outputs": [
        {
          "name": "stdout",
          "output_type": "stream",
          "text": [
            "\n",
            "### Top 10 Bigramas Mais Frequentes ###\n",
            "credit report: 54242\n",
            "consum report: 31496\n",
            "report agenc: 19933\n",
            "fair credit: 10380\n",
            "report act: 9746\n",
            "ident theft: 9113\n",
            "u code: 9108\n",
            "late payment: 8885\n",
            "c section: 8782\n",
            "account number: 7993\n"
          ]
        },
        {
          "data": {
            "image/png": "[encoded data removed]",
            "text/plain": [
              "<Figure size 1200x600 with 1 Axes>"
            ]
          },
          "metadata": {},
          "output_type": "display_data"
        }
      ],
      "source": [
        "# e) N-gramas mais frequentes (como no Notebook 1)\n",
        "bigram_counts = Counter()\n",
        "batch_size = 10000 # Processar em lotes de 10.000 reclamações\n",
        "for i in range(0, len(data[\"processed_text_stemmed\"]), batch_size):\n",
        "    batch_corpus = data[\"processed_text_stemmed\"][i:i + batch_size].tolist()\n",
        "    all_tokens = \" \".join(batch_corpus).split()\n",
        "    bigrams = (bigram for bigram in ngrams(all_tokens, 2)\n",
        "               if not any(all(c == 'x' for c in str(w).lower()) for w in bigram)\n",
        "               and ' '.join(bigram) != 'u c')\n",
        "    bigram_counts.update(bigrams)\n",
        "\n",
        "# Os 10 bigramas mais frequentes\n",
        "bigram_counts = bigram_counts.most_common(10)\n",
        "\n",
        "print(\"\\n### Top 10 Bigramas Mais Frequentes ###\")\n",
        "for bigram, count in bigram_counts:\n",
        "    print(f\"{' '.join(bigram)}: {count}\")\n",
        "\n",
        "# Gráfico de barras para bigramas\n",
        "bigram_labels = [\" \".join(bigram[0]) for bigram in bigram_counts]\n",
        "bigram_values = [bigram[1] for bigram in bigram_counts]\n",
        "plt.figure()\n",
        "sns.barplot(x=bigram_labels, y=bigram_values)\n",
        "plt.title(\"Top 10 Bigramas Mais Frequentes\")\n",
        "plt.xlabel(\"Bigrama\")\n",
        "plt.ylabel(\"Frequência\")\n",
        "plt.xticks(rotation=45, ha=\"right\")\n",
        "plt.tight_layout()\n",
        "plt.show()"
      ]
    },
    {
      "cell_type": "code",
      "execution_count": 15,
      "metadata": {
        "id": "wSng-ChpUnyo"
      },
      "outputs": [
        {
          "name": "stdout",
          "output_type": "stream",
          "text": [
            "\n",
            "Dataset processado salvo como 'consumer_complaints_processed.csv'.\n"
          ]
        }
      ],
      "source": [
        "# Salvar dataset processado\n",
        "data.to_csv(\"consumer_complaints_processed.csv\", index=False)\n",
        "print(\"\\nDataset processado salvo como 'consumer_complaints_processed.csv'.\")"
      ]
    },
    {
      "cell_type": "markdown",
      "metadata": {
        "id": "XwRMkdI6vQZZ"
      },
      "source": [
        "# 3. Undersampling (Credit Reporting para 250.000)"
      ]
    },
    {
      "cell_type": "code",
      "execution_count": 6,
      "metadata": {},
      "outputs": [
        {
          "name": "stdout",
          "output_type": "stream",
          "text": [
            "\n",
            "Distribuição antes undersampling:\n",
            "product_5\n",
            "Credit Reporting              37871\n",
            "Debt Collection                4569\n",
            "Credit Card Services           2676\n",
            "Bank Accounts and Services     2618\n",
            "Loans                          2266\n",
            "Name: count, dtype: int64\n"
          ]
        }
      ],
      "source": [
        "print(\"\\nDistribuição antes undersampling:\")\n",
        "print(data[\"product_5\"].value_counts())"
      ]
    },
    {
      "cell_type": "code",
      "execution_count": 16,
      "metadata": {
        "id": "AD_SOUYxvOwQ"
      },
      "outputs": [
        {
          "name": "stdout",
          "output_type": "stream",
          "text": [
            "\n",
            "Distribuição após undersampling:\n",
            "product_5\n",
            "Debt Collection               4569\n",
            "Credit Reporting              4500\n",
            "Credit Card Services          2676\n",
            "Bank Accounts and Services    2618\n",
            "Loans                         2266\n",
            "Name: count, dtype: int64\n"
          ]
        }
      ],
      "source": [
        "df_majority = data[data[\"product_5\"] == \"Credit Reporting\"]\n",
        "df_minority = data[data[\"product_5\"] != \"Credit Reporting\"]\n",
        "df_majority_downsampled = resample(df_majority,\n",
        "                                  replace=False,    # Sem substituição\n",
        "                                  n_samples=4500, # Reduzir \n",
        "                                  random_state=42)\n",
        "data_balanced = pd.concat([df_majority_downsampled, df_minority])\n",
        "print(\"\\nDistribuição após undersampling:\")\n",
        "print(data_balanced[\"product_5\"].value_counts())"
      ]
    },
    {
      "cell_type": "code",
      "execution_count": 17,
      "metadata": {
        "id": "MR_19ju70W-b"
      },
      "outputs": [],
      "source": [
        "# Reutilizar corpus processado\n",
        "data_balanced[\"processed_text_stemmed\"] = data_balanced[\"processed_text_stemmed\"].fillna('').astype(str)"
      ]
    },
    {
      "cell_type": "code",
      "execution_count": 18,
      "metadata": {
        "id": "suqpC6sAvYEk"
      },
      "outputs": [
        {
          "name": "stdout",
          "output_type": "stream",
          "text": [
            "Tamanho do espaço de features (BoW): 5000 features\n"
          ]
        }
      ],
      "source": [
        "# Análise de vocabulário com CountVectorizer (Notebook 2)\n",
        "vectorizer = CountVectorizer(max_features=5000, stop_words=list(custom_stopwords))\n",
        "X = vectorizer.fit_transform(data_balanced[\"processed_text_stemmed\"])\n",
        "print(f\"Tamanho do espaço de features (BoW): {X.shape[1]} features\")"
      ]
    },
    {
      "cell_type": "markdown",
      "metadata": {
        "id": "cJIfhAjjlsPg"
      },
      "source": [
        "## 3.1 - Classificadores"
      ]
    },
    {
      "cell_type": "code",
      "execution_count": 19,
      "metadata": {
        "id": "OzoNcqJYva0T"
      },
      "outputs": [],
      "source": [
        "X_train, X_test, y_train, y_test = train_test_split(X, data_balanced[\"product_5\"], test_size=0.2, random_state=42)"
      ]
    },
    {
      "cell_type": "code",
      "execution_count": 20,
      "metadata": {
        "id": "KgAuJM6evbIq"
      },
      "outputs": [
        {
          "name": "stdout",
          "output_type": "stream",
          "text": [
            "Baseline Naive Bayes com BoW (Undersampling):\n",
            "                             precision    recall  f1-score   support\n",
            "\n",
            "Bank Accounts and Services       0.80      0.89      0.84       527\n",
            "      Credit Card Services       0.74      0.70      0.72       550\n",
            "          Credit Reporting       0.79      0.82      0.81       907\n",
            "           Debt Collection       0.83      0.76      0.80       900\n",
            "                     Loans       0.77      0.81      0.79       442\n",
            "\n",
            "                  accuracy                           0.79      3326\n",
            "                 macro avg       0.79      0.80      0.79      3326\n",
            "              weighted avg       0.79      0.79      0.79      3326\n",
            "\n"
          ]
        }
      ],
      "source": [
        "# Baseline (Naive Bayes com BoW)\n",
        "nb = MultinomialNB()\n",
        "nb.fit(X_train, y_train)\n",
        "y_pred_nb = nb.predict(X_test)\n",
        "print(\"Baseline Naive Bayes com BoW (Undersampling):\\n\", classification_report(y_test, y_pred_nb, zero_division=0))"
      ]
    },
    {
      "cell_type": "code",
      "execution_count": 21,
      "metadata": {
        "id": "bwD_A3T2vck8"
      },
      "outputs": [
        {
          "name": "stdout",
          "output_type": "stream",
          "text": [
            "Logistic Regression com BoW (Undersampling):\n",
            "                             precision    recall  f1-score   support\n",
            "\n",
            "Bank Accounts and Services       0.86      0.84      0.85       527\n",
            "      Credit Card Services       0.79      0.77      0.78       550\n",
            "          Credit Reporting       0.83      0.81      0.82       907\n",
            "           Debt Collection       0.79      0.86      0.82       900\n",
            "                     Loans       0.80      0.74      0.77       442\n",
            "\n",
            "                  accuracy                           0.81      3326\n",
            "                 macro avg       0.81      0.80      0.81      3326\n",
            "              weighted avg       0.81      0.81      0.81      3326\n",
            "\n"
          ]
        }
      ],
      "source": [
        "# Logistic Regression\n",
        "lr = LogisticRegression(max_iter=1000)\n",
        "lr.fit(X_train, y_train)\n",
        "y_pred_lr = lr.predict(X_test)\n",
        "print(\"Logistic Regression com BoW (Undersampling):\\n\", classification_report(y_test, y_pred_lr, zero_division=0))"
      ]
    },
    {
      "cell_type": "markdown",
      "metadata": {
        "id": "ZvBbz5mRl0RC"
      },
      "source": [
        "## 3.2 - Classificadores com N-Grams como features"
      ]
    },
    {
      "cell_type": "code",
      "execution_count": 22,
      "metadata": {
        "id": "G9zhYMnel91y"
      },
      "outputs": [
        {
          "name": "stdout",
          "output_type": "stream",
          "text": [
            "Tamanho do espaço de features com N-grams: 5000\n"
          ]
        }
      ],
      "source": [
        "# N-grams (unigramas e bigramas) como features\n",
        "vectorizer_ngrams = CountVectorizer(max_features=5000, ngram_range=(1, 2), stop_words=list(custom_stopwords))\n",
        "X_ngrams = vectorizer_ngrams.fit_transform(data_balanced[\"processed_text_stemmed\"])\n",
        "print(f\"Tamanho do espaço de features com N-grams: {X_ngrams.shape[1]}\")"
      ]
    },
    {
      "cell_type": "code",
      "execution_count": 23,
      "metadata": {
        "id": "rSnrAeIGmE-R"
      },
      "outputs": [],
      "source": [
        "X_train_ng, X_test_ng, y_train_ng, y_test_ng = train_test_split(X_ngrams, data_balanced[\"product_5\"], test_size=0.2, random_state=42)"
      ]
    },
    {
      "cell_type": "code",
      "execution_count": 24,
      "metadata": {
        "id": "QgQAGsz9mHRz"
      },
      "outputs": [
        {
          "name": "stdout",
          "output_type": "stream",
          "text": [
            "Naive Bayes com N-grams (Undersampling):\n",
            "                             precision    recall  f1-score   support\n",
            "\n",
            "Bank Accounts and Services       0.83      0.91      0.87       527\n",
            "      Credit Card Services       0.73      0.77      0.75       550\n",
            "          Credit Reporting       0.83      0.79      0.81       907\n",
            "           Debt Collection       0.84      0.76      0.79       900\n",
            "                     Loans       0.75      0.84      0.79       442\n",
            "\n",
            "                  accuracy                           0.80      3326\n",
            "                 macro avg       0.80      0.81      0.80      3326\n",
            "              weighted avg       0.80      0.80      0.80      3326\n",
            "\n"
          ]
        }
      ],
      "source": [
        "# Naïve Bayes com N-grams\n",
        "nb = MultinomialNB()\n",
        "nb.fit(X_train_ng, y_train_ng)\n",
        "y_pred_nb_ng = nb.predict(X_test_ng)\n",
        "print(\"Naive Bayes com N-grams (Undersampling):\\n\", classification_report(y_test_ng, y_pred_nb_ng, zero_division=0))"
      ]
    },
    {
      "cell_type": "code",
      "execution_count": 25,
      "metadata": {
        "id": "m40l7FDTmBFi"
      },
      "outputs": [
        {
          "name": "stdout",
          "output_type": "stream",
          "text": [
            "Logistic Regression com BoW (Undersampling):\n",
            "                             precision    recall  f1-score   support\n",
            "\n",
            "Bank Accounts and Services       0.85      0.86      0.86       527\n",
            "      Credit Card Services       0.78      0.78      0.78       550\n",
            "          Credit Reporting       0.84      0.80      0.82       907\n",
            "           Debt Collection       0.80      0.86      0.83       900\n",
            "                     Loans       0.81      0.75      0.78       442\n",
            "\n",
            "                  accuracy                           0.82      3326\n",
            "                 macro avg       0.82      0.81      0.81      3326\n",
            "              weighted avg       0.82      0.82      0.82      3326\n",
            "\n"
          ]
        }
      ],
      "source": [
        "# Logistic Regression N-grams\n",
        "lr = LogisticRegression(max_iter=1000)\n",
        "lr.fit(X_train_ng, y_train_ng)\n",
        "y_pred_lr_ng = lr.predict(X_test_ng)\n",
        "print(\"Logistic Regression com BoW (Undersampling):\\n\", classification_report(y_test_ng, y_pred_lr_ng, zero_division=0))"
      ]
    },
    {
      "cell_type": "code",
      "execution_count": 26,
      "metadata": {
        "id": "WU51Rxhyvei8"
      },
      "outputs": [
        {
          "name": "stdout",
          "output_type": "stream",
          "text": [
            "\n",
            "Dataset processado salvo como 'consumer_complaints_undersampled.csv'.\n"
          ]
        }
      ],
      "source": [
        "# Salvar dataset processado\n",
        "data_balanced.to_csv(\"consumer_complaints_undersampled.csv\", index=False)\n",
        "print(\"\\nDataset processado salvo como 'consumer_complaints_undersampled.csv'.\")"
      ]
    },
    {
      "cell_type": "markdown",
      "metadata": {
        "id": "-gBdEO9iUnyo"
      },
      "source": [
        "# 4. Undersampling + Oversampling (SMOTE com TF-IDF)"
      ]
    },
    {
      "cell_type": "code",
      "execution_count": 27,
      "metadata": {
        "id": "KFs1q00mtLJK"
      },
      "outputs": [],
      "source": [
        "df_majority = data[data[\"product_5\"] == \"Credit Reporting\"]\n",
        "df_minority = data[data[\"product_5\"] != \"Credit Reporting\"]\n",
        "df_majority_downsampled = resample(df_majority,\n",
        "                                  replace=False,\n",
        "                                  n_samples=10000,  # Reduzir para 400.000\n",
        "                                  random_state=42)"
      ]
    },
    {
      "cell_type": "code",
      "execution_count": 28,
      "metadata": {
        "id": "V9Uj1L8x0mfo"
      },
      "outputs": [
        {
          "name": "stderr",
          "output_type": "stream",
          "text": [
            "C:\\Users\\User\\AppData\\Local\\Temp\\ipykernel_14472\\154207512.py:3: SettingWithCopyWarning: \n",
            "A value is trying to be set on a copy of a slice from a DataFrame.\n",
            "Try using .loc[row_indexer,col_indexer] = value instead\n",
            "\n",
            "See the caveats in the documentation: https://pandas.pydata.org/pandas-docs/stable/user_guide/indexing.html#returning-a-view-versus-a-copy\n",
            "  df_minority[\"processed_text_stemmed\"] = df_minority[\"processed_text_stemmed\"].fillna('').astype(str)\n"
          ]
        }
      ],
      "source": [
        "# Reutilizar corpus processado\n",
        "df_majority_downsampled[\"processed_text_stemmed\"] = df_majority_downsampled[\"processed_text_stemmed\"].fillna('').astype(str)\n",
        "df_minority[\"processed_text_stemmed\"] = df_minority[\"processed_text_stemmed\"].fillna('').astype(str)"
      ]
    },
    {
      "cell_type": "code",
      "execution_count": 29,
      "metadata": {
        "id": "bDT3ix2GtO09"
      },
      "outputs": [
        {
          "name": "stdout",
          "output_type": "stream",
          "text": [
            "Aplicando TF-IDF em lotes...\n"
          ]
        }
      ],
      "source": [
        "# Transformar texto em features TF-IDF mas em lotes para evitar memory error\n",
        "import scipy\n",
        "\n",
        "print(\"Aplicando TF-IDF em lotes...\")\n",
        "tfidf = TfidfVectorizer(max_features=5000, stop_words=list(custom_stopwords))\n",
        "X_tfidf_chunks = []\n",
        "for i in range(0, len(pd.concat([df_majority_downsampled, df_minority])), chunksize):\n",
        "    batch = pd.concat([df_majority_downsampled, df_minority])[\"processed_text_stemmed\"][i:i + chunksize]\n",
        "    X_tfidf_chunks.append(tfidf.fit_transform(batch))\n",
        "X_tfidf = scipy.sparse.vstack(X_tfidf_chunks)\n",
        "y = pd.concat([df_majority_downsampled[\"product_5\"], df_minority[\"product_5\"]])"
      ]
    },
    {
      "cell_type": "code",
      "execution_count": 30,
      "metadata": {
        "id": "p0es4kMytSQf"
      },
      "outputs": [],
      "source": [
        "# Aplicar SMOTE após TF-IDF\n",
        "smote = SMOTE(random_state=42, sampling_strategy={c: 10000 for c in df_minority[\"product_5\"].unique()})\n",
        "X_tfidf_res, y_res = smote.fit_resample(X_tfidf, y)"
      ]
    },
    {
      "cell_type": "code",
      "execution_count": 31,
      "metadata": {},
      "outputs": [],
      "source": [
        "# Criar DataFrame com dados balanceados\n",
        "data_resampled = pd.DataFrame({\n",
        "    \"processed_text_stemmed\": [' '.join(tokens) for tokens in tfidf.inverse_transform(X_tfidf_res)],\n",
        "    \"product_5\": y_res\n",
        "})\n",
        "oversampled_file = \"consumer_complaints_undersampled_oversampled_smote.csv.gz\"\n",
        "data_resampled.to_csv(oversampled_file, index=False, compression='gzip')"
      ]
    },
    {
      "cell_type": "code",
      "execution_count": 32,
      "metadata": {
        "id": "mrMwRp2ftsd-"
      },
      "outputs": [
        {
          "name": "stdout",
          "output_type": "stream",
          "text": [
            "\n",
            "Distribuição após undersampling + oversampling (SMOTE):\n",
            "product_5\n",
            "Credit Reporting              10000\n",
            "Debt Collection               10000\n",
            "Loans                         10000\n",
            "Bank Accounts and Services    10000\n",
            "Credit Card Services          10000\n",
            "Name: count, dtype: int64\n"
          ]
        }
      ],
      "source": [
        "print(\"\\nDistribuição após undersampling + oversampling (SMOTE):\")\n",
        "print(y_res.value_counts())"
      ]
    },
    {
      "cell_type": "markdown",
      "metadata": {
        "id": "Qys9H6sPmSVI"
      },
      "source": [
        "## 4.1 - Classificadores"
      ]
    },
    {
      "cell_type": "code",
      "execution_count": 33,
      "metadata": {
        "id": "WJAeIR7XtvFX"
      },
      "outputs": [],
      "source": [
        "X_train, X_test, y_train, y_test = train_test_split(X_tfidf_res, y_res, test_size=0.2, random_state=42)"
      ]
    },
    {
      "cell_type": "code",
      "execution_count": 34,
      "metadata": {
        "id": "z9fWjr-MtwKQ"
      },
      "outputs": [
        {
          "name": "stdout",
          "output_type": "stream",
          "text": [
            "Baseline Naive Bayes com TF-IDF (Undersampling + SMOTE):\n",
            "                             precision    recall  f1-score   support\n",
            "\n",
            "Bank Accounts and Services       0.83      0.95      0.89      1954\n",
            "      Credit Card Services       0.85      0.79      0.82      2038\n",
            "          Credit Reporting       0.81      0.84      0.82      2043\n",
            "           Debt Collection       0.87      0.76      0.81      2008\n",
            "                     Loans       0.88      0.90      0.89      1957\n",
            "\n",
            "                  accuracy                           0.85     10000\n",
            "                 macro avg       0.85      0.85      0.85     10000\n",
            "              weighted avg       0.85      0.85      0.85     10000\n",
            "\n"
          ]
        }
      ],
      "source": [
        "# Baseline (Naive Bayes com BoW)\n",
        "nb = MultinomialNB()\n",
        "nb.fit(X_train, y_train)\n",
        "y_pred_nb = nb.predict(X_test)\n",
        "print(\"Baseline Naive Bayes com TF-IDF (Undersampling + SMOTE):\\n\", classification_report(y_test, y_pred_nb, zero_division=0))"
      ]
    },
    {
      "cell_type": "code",
      "execution_count": 35,
      "metadata": {
        "id": "itFhSOFatxHw"
      },
      "outputs": [
        {
          "name": "stdout",
          "output_type": "stream",
          "text": [
            "Logistic Regression com TF-IDF (Undersampling + SMOTE):\n",
            "                             precision    recall  f1-score   support\n",
            "\n",
            "Bank Accounts and Services       0.94      0.96      0.95      1954\n",
            "      Credit Card Services       0.92      0.92      0.92      2038\n",
            "          Credit Reporting       0.87      0.87      0.87      2043\n",
            "           Debt Collection       0.88      0.88      0.88      2008\n",
            "                     Loans       0.94      0.94      0.94      1957\n",
            "\n",
            "                  accuracy                           0.91     10000\n",
            "                 macro avg       0.91      0.91      0.91     10000\n",
            "              weighted avg       0.91      0.91      0.91     10000\n",
            "\n"
          ]
        }
      ],
      "source": [
        "# Logistic Regression\n",
        "lr = LogisticRegression(max_iter=1000)\n",
        "lr.fit(X_train, y_train)\n",
        "y_pred_lr = lr.predict(X_test)\n",
        "print(\"Logistic Regression com TF-IDF (Undersampling + SMOTE):\\n\", classification_report(y_test, y_pred_lr, zero_division=0))"
      ]
    },
    {
      "cell_type": "markdown",
      "metadata": {
        "id": "2HV2SeqOmX54"
      },
      "source": [
        "## 4.2 - Classificadores com N-Grams como features"
      ]
    },
    {
      "cell_type": "code",
      "execution_count": 36,
      "metadata": {
        "id": "rG5cyomXntTl"
      },
      "outputs": [
        {
          "name": "stdout",
          "output_type": "stream",
          "text": [
            "Aplicando TF-IDF com N-grams em lotes...\n"
          ]
        },
        {
          "data": {
            "text/plain": [
              "['tfidf_ngrams_vectorizer.joblib']"
            ]
          },
          "execution_count": 36,
          "metadata": {},
          "output_type": "execute_result"
        }
      ],
      "source": [
        "# N-grams (unigramas e bigramas) com TF-IDF\n",
        "print(\"Aplicando TF-IDF com N-grams em lotes...\")\n",
        "tfidf_ngrams = TfidfVectorizer(max_features=5000, ngram_range=(1, 2), stop_words=list(custom_stopwords))\n",
        "X_tfidf_ngrams_chunks = []\n",
        "for i in range(0, len(data_resampled), chunksize):\n",
        "    batch = data_resampled[\"processed_text_stemmed\"][i:i + chunksize]\n",
        "    X_tfidf_ngrams_chunks.append(tfidf_ngrams.fit_transform(batch))\n",
        "X_tfidf_ngrams = scipy.sparse.vstack(X_tfidf_ngrams_chunks)\n",
        "joblib.dump(tfidf_ngrams, 'tfidf_ngrams_vectorizer.joblib')"
      ]
    },
    {
      "cell_type": "code",
      "execution_count": 37,
      "metadata": {
        "id": "3L_OQJGKn0Yi"
      },
      "outputs": [
        {
          "name": "stdout",
          "output_type": "stream",
          "text": [
            "Tamanho do espaço de features com N-grams (TF-IDF): 5000\n"
          ]
        }
      ],
      "source": [
        "# Aplicar SMOTE novamente para consistência\n",
        "X_tfidf_ngrams_res, y_ngrams_res = smote.fit_resample(X_tfidf_ngrams, y_res)  # Usar y_res do SMOTE anterior\n",
        "print(f\"Tamanho do espaço de features com N-grams (TF-IDF): {X_tfidf_ngrams_res.shape[1]}\")"
      ]
    },
    {
      "cell_type": "code",
      "execution_count": 38,
      "metadata": {
        "id": "wsK00vV-n3bq"
      },
      "outputs": [],
      "source": [
        "X_train_ng, X_test_ng, y_train_ng, y_test_ng = train_test_split(X_tfidf_ngrams_res, y_ngrams_res, test_size=0.2, random_state=42)"
      ]
    },
    {
      "cell_type": "code",
      "execution_count": 39,
      "metadata": {
        "id": "zap9zpqCn57c"
      },
      "outputs": [
        {
          "name": "stdout",
          "output_type": "stream",
          "text": [
            "Naive Bayes com N-grams e TF-IDF (Undersampling + SMOTE):\n",
            "                             precision    recall  f1-score   support\n",
            "\n",
            "Bank Accounts and Services       0.82      0.92      0.87      1954\n",
            "      Credit Card Services       0.84      0.76      0.80      2038\n",
            "          Credit Reporting       0.78      0.93      0.85      2043\n",
            "           Debt Collection       0.88      0.65      0.75      2008\n",
            "                     Loans       0.86      0.89      0.87      1957\n",
            "\n",
            "                  accuracy                           0.83     10000\n",
            "                 macro avg       0.84      0.83      0.83     10000\n",
            "              weighted avg       0.83      0.83      0.83     10000\n",
            "\n"
          ]
        },
        {
          "data": {
            "text/plain": [
              "['naive_bayes_ngrams_tfidf.joblib']"
            ]
          },
          "execution_count": 39,
          "metadata": {},
          "output_type": "execute_result"
        }
      ],
      "source": [
        "# Naïve Bayes com N-grams\n",
        "nb = MultinomialNB()\n",
        "nb.fit(X_train_ng, y_train_ng)\n",
        "y_pred_nb_ng = nb.predict(X_test_ng)\n",
        "print(\"Naive Bayes com N-grams e TF-IDF (Undersampling + SMOTE):\\n\", classification_report(y_test_ng, y_pred_nb_ng, zero_division=0))\n",
        "joblib.dump(nb, 'naive_bayes_ngrams_tfidf.joblib')"
      ]
    },
    {
      "cell_type": "code",
      "execution_count": 40,
      "metadata": {
        "id": "4LnAtg9ln9Cz"
      },
      "outputs": [
        {
          "name": "stdout",
          "output_type": "stream",
          "text": [
            "Logistic Regression com TF-IDF (Undersampling + SMOTE):\n",
            "                             precision    recall  f1-score   support\n",
            "\n",
            "Bank Accounts and Services       0.95      0.96      0.95      1954\n",
            "      Credit Card Services       0.93      0.92      0.92      2038\n",
            "          Credit Reporting       0.89      0.92      0.90      2043\n",
            "           Debt Collection       0.92      0.88      0.90      2008\n",
            "                     Loans       0.95      0.95      0.95      1957\n",
            "\n",
            "                  accuracy                           0.93     10000\n",
            "                 macro avg       0.93      0.93      0.93     10000\n",
            "              weighted avg       0.93      0.93      0.93     10000\n",
            "\n"
          ]
        },
        {
          "data": {
            "text/plain": [
              "['logistic_regression_ngrams_tfidf.joblib']"
            ]
          },
          "execution_count": 40,
          "metadata": {},
          "output_type": "execute_result"
        }
      ],
      "source": [
        "# Logistic Regression com N-grams\n",
        "lr = LogisticRegression(max_iter=1000)\n",
        "lr.fit(X_train_ng, y_train_ng)\n",
        "y_pred_lr_ng = lr.predict(X_test_ng)\n",
        "print(\"Logistic Regression com TF-IDF (Undersampling + SMOTE):\\n\", classification_report(y_test_ng, y_pred_lr_ng, zero_division=0))\n",
        "joblib.dump(lr, 'logistic_regression_ngrams_tfidf.joblib')"
      ]
    },
    {
      "cell_type": "code",
      "execution_count": 41,
      "metadata": {
        "id": "5enfHOFptxBY"
      },
      "outputs": [
        {
          "name": "stdout",
          "output_type": "stream",
          "text": [
            "\n",
            "Dataset processado não salvo para economizar espaço, descomente se necessário.\n"
          ]
        }
      ],
      "source": [
        "# Salvar dataset processado\n",
        "#data_resampled.to_csv(\"consumer_complaints_undersampled_oversampled_smote.csv\", index=False)\n",
        "print(\"\\nDataset processado não salvo para economizar espaço, descomente se necessário.\")"
      ]
    }
  ],
  "metadata": {
    "colab": {
      "provenance": []
    },
    "kernelspec": {
      "display_name": "Python 3",
      "language": "python",
      "name": "python3"
    },
    "language_info": {
      "codemirror_mode": {
        "name": "ipython",
        "version": 3
      },
      "file_extension": ".py",
      "mimetype": "text/x-python",
      "name": "python",
      "nbconvert_exporter": "python",
      "pygments_lexer": "ipython3",
      "version": "3.12.6"
    }
  },
  "nbformat": 4,
  "nbformat_minor": 0
}
