{
 "cells": [
  {
   "cell_type": "code",
   "execution_count": 75,
   "metadata": {},
   "outputs": [],
   "source": [
    "import pandas as pd\n",
    "import nltk\n",
    "import matplotlib.pyplot as plt\n",
    "import seaborn as sns\n",
    "import re\n",
    "from nltk.corpus import stopwords\n",
    "from collections import Counter\n",
    "from sklearn.feature_extraction.text import CountVectorizer, TfidfVectorizer\n",
    "from sklearn.model_selection import train_test_split\n",
    "from sklearn.naive_bayes import MultinomialNB\n",
    "from sklearn.metrics import classification_report, accuracy_score\n",
    "from sklearn.linear_model import LogisticRegression, SGDClassifier\n",
    "from sklearn.preprocessing import StandardScaler\n",
    "from nltk.stem.porter import PorterStemmer\n",
    "from nltk.util import ngrams\n",
    "from nltk.tokenize import word_tokenize\n",
    "import os\n",
    "import joblib\n",
    "import numpy as np"
   ]
  },
  {
   "cell_type": "code",
   "execution_count": 76,
   "metadata": {},
   "outputs": [
    {
     "name": "stdout",
     "output_type": "stream",
     "text": [
      "Tentando baixar 'punkt_tab'...\n",
      "Tentando baixar 'stopwords'...\n"
     ]
    },
    {
     "name": "stderr",
     "output_type": "stream",
     "text": [
      "[nltk_data] Downloading package punkt_tab to\n",
      "[nltk_data]     C:\\Users\\User\\AppData\\Roaming\\nltk_data...\n",
      "[nltk_data]   Package punkt_tab is already up-to-date!\n",
      "[nltk_data] Downloading package stopwords to\n",
      "[nltk_data]     C:\\Users\\User\\AppData\\Roaming\\nltk_data...\n",
      "[nltk_data]   Package stopwords is already up-to-date!\n"
     ]
    },
    {
     "data": {
      "text/plain": [
       "True"
      ]
     },
     "execution_count": 76,
     "metadata": {},
     "output_type": "execute_result"
    }
   ],
   "source": [
    "print(\"Tentando baixar 'punkt_tab'...\")\n",
    "nltk.download('punkt_tab')\n",
    "print(\"Tentando baixar 'stopwords'...\")\n",
    "nltk.download('stopwords')"
   ]
  },
  {
   "cell_type": "code",
   "execution_count": 77,
   "metadata": {},
   "outputs": [
    {
     "name": "stderr",
     "output_type": "stream",
     "text": [
      "[nltk_data] Downloading package punkt to\n",
      "[nltk_data]     C:\\Users\\User\\AppData\\Roaming\\nltk_data...\n",
      "[nltk_data]   Package punkt is already up-to-date!\n",
      "[nltk_data] Downloading package stopwords to\n",
      "[nltk_data]     C:\\Users\\User\\AppData\\Roaming\\nltk_data...\n",
      "[nltk_data]   Package stopwords is already up-to-date!\n"
     ]
    },
    {
     "data": {
      "text/plain": [
       "True"
      ]
     },
     "execution_count": 77,
     "metadata": {},
     "output_type": "execute_result"
    }
   ],
   "source": [
    "# Download do NLTK (só na primeira vez)\n",
    "nltk.download('punkt')\n",
    "nltk.download('stopwords')"
   ]
  },
  {
   "cell_type": "code",
   "execution_count": 78,
   "metadata": {},
   "outputs": [],
   "source": [
    "# Configurações gerais\n",
    "sns.set(style=\"whitegrid\")\n",
    "plt.rcParams[\"figure.figsize\"] = (12, 6)"
   ]
  },
  {
   "cell_type": "markdown",
   "metadata": {},
   "source": [
    "# 1. CARREGAR E ENTENDER OS DADOS"
   ]
  },
  {
   "cell_type": "code",
   "execution_count": 79,
   "metadata": {},
   "outputs": [
    {
     "name": "stdout",
     "output_type": "stream",
     "text": [
      "Carregando dataset completo em partes...\n",
      "Primeiras 5 linhas do dataset:\n",
      "   Unnamed: 0         product_5  \\\n",
      "0         234  Credit Reporting   \n",
      "1         240   Debt Collection   \n",
      "2         257  Credit Reporting   \n",
      "3         271  Credit Reporting   \n",
      "4         276             Loans   \n",
      "\n",
      "                                           narrative  \\\n",
      "0  Dear Possible Financial Inc you guyss aree rep...   \n",
      "1  XXXX XXXX XXXX ( debt collector ), sent my boy...   \n",
      "2  I been receiving alerts my information was fou...   \n",
      "3  Subject : Dispute of Inaccurate Information on...   \n",
      "4  They allowed me to use the account for about a...   \n",
      "\n",
      "                                             Product Date received  \\\n",
      "0  Credit reporting or other personal consumer re...    2024-07-27   \n",
      "1                                    Debt collection    2024-07-27   \n",
      "2  Credit reporting or other personal consumer re...    2024-07-23   \n",
      "3  Credit reporting or other personal consumer re...    2024-07-27   \n",
      "4  Payday loan, title loan, personal loan, or adv...    2024-07-26   \n",
      "\n",
      "        Sub-product                                              Issue  \\\n",
      "0  Credit reporting               Incorrect information on your report   \n",
      "1     I do not know  Threatened to contact someone or share informa...   \n",
      "2  Credit reporting                        Improper use of your report   \n",
      "3  Credit reporting                        Improper use of your report   \n",
      "4       Payday loan               Received a loan you didn't apply for   \n",
      "\n",
      "                                           Sub-issue                 Company  \\\n",
      "0                      Account information incorrect  Possible Financial Inc   \n",
      "1            Talked to a third-party about your debt      BlueChip Financial   \n",
      "2  Credit inquiries on your report that you don't...           FC HoldCo LLC   \n",
      "3      Reporting company used your report improperly           CORELOGIC INC   \n",
      "4                                                NaN          MoneyLion Inc.   \n",
      "\n",
      "  State Timely response?  \n",
      "0    MI              Yes  \n",
      "1    TX              Yes  \n",
      "2    SC              Yes  \n",
      "3    GA              Yes  \n",
      "4    PA              Yes  \n",
      "\n",
      "Informações do dataset:\n",
      "<class 'pandas.core.frame.DataFrame'>\n",
      "RangeIndex: 2023066 entries, 0 to 2023065\n",
      "Data columns (total 11 columns):\n",
      " #   Column            Dtype \n",
      "---  ------            ----- \n",
      " 0   Unnamed: 0        int64 \n",
      " 1   product_5         object\n",
      " 2   narrative         object\n",
      " 3   Product           object\n",
      " 4   Date received     object\n",
      " 5   Sub-product       object\n",
      " 6   Issue             object\n",
      " 7   Sub-issue         object\n",
      " 8   Company           object\n",
      " 9   State             object\n",
      " 10  Timely response?  object\n",
      "dtypes: int64(1), object(10)\n",
      "memory usage: 169.8+ MB\n",
      "None\n"
     ]
    }
   ],
   "source": [
    "print(\"Carregando dataset completo em partes...\")\n",
    "chunksize = 100000  # Processar em lotes de 100.000 linhas\n",
    "data_chunks = []\n",
    "for chunk in pd.read_csv('complaints.csv', chunksize=chunksize):\n",
    "    chunk = chunk.dropna(subset=[\"narrative\"])\n",
    "    data_chunks.append(chunk)\n",
    "data = pd.concat(data_chunks, ignore_index=True)\n",
    "\n",
    "print(\"Primeiras 5 linhas do dataset:\")\n",
    "print(data.head())\n",
    "print(\"\\nInformações do dataset:\")\n",
    "print(data.info())"
   ]
  },
  {
   "cell_type": "code",
   "execution_count": 80,
   "metadata": {},
   "outputs": [
    {
     "name": "stdout",
     "output_type": "stream",
     "text": [
      "- Origem: Consumer Financial Protection Bureau (CFPB), EUA.\n",
      "- Periodo: de 2015-03-19 00:00:00 a 2024-07-31 00:00:00\n",
      "- Gênero: Reclamações textuais de consumidores sobre serviços financeiros.\n",
      "- Língua: Inglês.\n",
      "- Anotação: Rótulos ('Product') atribuídos pelos consumidores ao submeter reclamações.\n",
      "- Total de reclamações: 2023066\n",
      "- Colunas disponíveis: ['Unnamed: 0', 'product_5', 'narrative', 'Product', 'Date received', 'Sub-product', 'Issue', 'Sub-issue', 'Company', 'State', 'Timely response?']\n",
      "\n",
      "Total de reclamações: 2023066\n"
     ]
    }
   ],
   "source": [
    "# Características\n",
    "print(\"- Origem: Consumer Financial Protection Bureau (CFPB), EUA.\")\n",
    "data[\"Date received\"] = pd.to_datetime(data[\"Date received\"])\n",
    "print(f\"- Periodo: de {data['Date received'].min()} a {data['Date received'].max()}\")\n",
    "print(\"- Gênero: Reclamações textuais de consumidores sobre serviços financeiros.\")\n",
    "print(\"- Língua: Inglês.\")\n",
    "print(\"- Anotação: Rótulos ('Product') atribuídos pelos consumidores ao submeter reclamações.\")\n",
    "print(f\"- Total de reclamações: {len(data)}\")\n",
    "print(f\"- Colunas disponíveis: {list(data.columns)}\")\n",
    "data = data.dropna(subset=[\"narrative\"])\n",
    "print(f\"\\nTotal de reclamações: {len(data)}\")"
   ]
  },
  {
   "cell_type": "markdown",
   "metadata": {},
   "source": [
    "## 1.1 Seleção Balanceada: 10.000 exemplos por classe (total 50.000)"
   ]
  },
  {
   "cell_type": "code",
   "execution_count": 81,
   "metadata": {},
   "outputs": [],
   "source": [
    "n_samples_per_class = 10000\n",
    "classes = data[\"product_5\"].unique()\n",
    "balanced_data = []\n",
    "\n",
    "for class_name in classes:\n",
    "    class_data = data[data[\"product_5\"] == class_name]\n",
    "    if len(class_data) < n_samples_per_class:\n",
    "        print(f\"Aviso: Classe '{class_name}' tem apenas {len(class_data)} exemplos, usando todos.\")\n",
    "        balanced_data.append(class_data)\n",
    "    else:\n",
    "        class_sample = class_data.sample(n=n_samples_per_class, random_state=42)\n",
    "        balanced_data.append(class_sample)"
   ]
  },
  {
   "cell_type": "code",
   "execution_count": 82,
   "metadata": {},
   "outputs": [
    {
     "name": "stdout",
     "output_type": "stream",
     "text": [
      "\n",
      "Distribuição das classes após seleção balanceada:\n",
      "product_5\n",
      "Credit Reporting              10000\n",
      "Debt Collection               10000\n",
      "Loans                         10000\n",
      "Bank Accounts and Services    10000\n",
      "Credit Card Services          10000\n",
      "Name: count, dtype: int64\n",
      "Total de exemplos: 50000\n"
     ]
    }
   ],
   "source": [
    "# Concatenar os dados balanceados\n",
    "data_balanced = pd.concat(balanced_data, ignore_index=True)\n",
    "print(\"\\nDistribuição das classes após seleção balanceada:\")\n",
    "print(data_balanced[\"product_5\"].value_counts())\n",
    "print(f\"Total de exemplos: {len(data_balanced)}\")"
   ]
  },
  {
   "cell_type": "markdown",
   "metadata": {},
   "source": [
    "# 2. ANÁLISE EXPLORATÓRIA DOS DADOS (EDA)"
   ]
  },
  {
   "cell_type": "code",
   "execution_count": 83,
   "metadata": {},
   "outputs": [
    {
     "name": "stdout",
     "output_type": "stream",
     "text": [
      "\n",
      "### Distribuição das Classes (Produtos) ###\n",
      "product_5\n",
      "Credit Reporting              10000\n",
      "Debt Collection               10000\n",
      "Loans                         10000\n",
      "Bank Accounts and Services    10000\n",
      "Credit Card Services          10000\n",
      "Name: count, dtype: int64\n",
      "product_5\n",
      "Credit Reporting              0.2\n",
      "Debt Collection               0.2\n",
      "Loans                         0.2\n",
      "Bank Accounts and Services    0.2\n",
      "Credit Card Services          0.2\n",
      "Name: count, dtype: float64\n"
     ]
    }
   ],
   "source": [
    "# a) Distribuição de classes\n",
    "print(\"\\n### Distribuição das Classes (Produtos) ###\")\n",
    "class_counts = data_balanced[\"product_5\"].value_counts()\n",
    "print(class_counts)\n",
    "print(class_counts / len(data_balanced))  # Proporção"
   ]
  },
  {
   "cell_type": "code",
   "execution_count": 84,
   "metadata": {},
   "outputs": [
    {
     "data": {
      "image/png": "[encoded data removed]",
      "text/plain": [
       "<Figure size 1200x600 with 1 Axes>"
      ]
     },
     "metadata": {},
     "output_type": "display_data"
    }
   ],
   "source": [
    "# Gráfico de barras\n",
    "plt.figure()\n",
    "class_counts.plot(kind=\"bar\")\n",
    "plt.title(\"Distribuição de Reclamações por Produto (50.000 Exemplos Balanceados)\")\n",
    "plt.xlabel(\"Produto\")\n",
    "plt.ylabel(\"Número de Reclamações\")\n",
    "plt.xticks(rotation=45, ha=\"right\")\n",
    "plt.tight_layout()\n",
    "plt.show()"
   ]
  },
  {
   "cell_type": "code",
   "execution_count": 85,
   "metadata": {},
   "outputs": [],
   "source": [
    "# Pré-processamento\n",
    "ps = PorterStemmer()\n",
    "sw = set(stopwords.words(\"english\"))"
   ]
  },
  {
   "cell_type": "code",
   "execution_count": 86,
   "metadata": {},
   "outputs": [
    {
     "name": "stdout",
     "output_type": "stream",
     "text": [
      "Pré-processando dataset balanceado...\n"
     ]
    },
    {
     "name": "stdout",
     "output_type": "stream",
     "text": [
      "Corpus processado criado e salvo como 'consumer_complaints_processed_50000.csv'.\n"
     ]
    }
   ],
   "source": [
    "# b) Pré-processamento (remover não alfabéticos, stopwords, converter para minúsculas, stemming)\n",
    "if \"processed_text_stemmed\" not in data_balanced.columns or not os.path.exists(\"consumer_complaints_processed_50000.csv\"):\n",
    "    print(\"Pré-processando dataset balanceado...\")\n",
    "    corpus = []\n",
    "    for review in data_balanced[\"narrative\"]:\n",
    "        # Feito como no notebook \"Text Classification with Traditional ML\" (conversão para minúsculas, remoção de caracteres especiais e stopwords)\n",
    "        review = re.sub('[^a-zA-Z]', ' ', str(review)).lower()\n",
    "        tokens = [ps.stem(w) for w in review.split() if w not in sw]\n",
    "        corpus.append(' '.join(tokens))\n",
    "    data_balanced[\"processed_text_stemmed\"] = corpus\n",
    "    data_balanced.to_csv(\"consumer_complaints_processed_50000.csv\", index=False)\n",
    "    print(\"Corpus processado criado e salvo como 'consumer_complaints_processed_50000.csv'.\")\n",
    "else:\n",
    "    data_balanced = pd.read_csv(\"consumer_complaints_processed_50000.csv\")\n",
    "    print(\"Carregando corpus processado salvo...\")"
   ]
  },
  {
   "cell_type": "code",
   "execution_count": 87,
   "metadata": {},
   "outputs": [
    {
     "name": "stdout",
     "output_type": "stream",
     "text": [
      "\n",
      "### Estatísticas do Comprimento das Reclamações ###\n",
      "count    50000.000000\n",
      "mean       104.174780\n",
      "std        121.686658\n",
      "min          0.000000\n",
      "25%         36.000000\n",
      "50%         71.000000\n",
      "75%        128.250000\n",
      "max       3025.000000\n",
      "Name: word_count, dtype: float64\n"
     ]
    }
   ],
   "source": [
    "# c) Comprimento das reclamações\n",
    "data_balanced[\"word_count\"] = data_balanced[\"processed_text_stemmed\"].apply(lambda x: len(word_tokenize(str(x))))\n",
    "print(\"\\n### Estatísticas do Comprimento das Reclamações ###\")\n",
    "print(data_balanced[\"word_count\"].describe())"
   ]
  },
  {
   "cell_type": "code",
   "execution_count": 88,
   "metadata": {},
   "outputs": [
    {
     "data": {
      "image/png": "[encoded data removed]",
      "text/plain": [
       "<Figure size 1200x600 with 1 Axes>"
      ]
     },
     "metadata": {},
     "output_type": "display_data"
    }
   ],
   "source": [
    "# Histograma\n",
    "plt.figure()\n",
    "sns.histplot(data_balanced[\"word_count\"], bins=50, kde=True)\n",
    "plt.title(\"Distribuição do Comprimento das Reclamações (em palavras)\")\n",
    "plt.xlabel(\"Número de Palavras\")\n",
    "plt.ylabel(\"Frequência\")\n",
    "plt.tight_layout()\n",
    "plt.show()"
   ]
  },
  {
   "cell_type": "code",
   "execution_count": 89,
   "metadata": {},
   "outputs": [],
   "source": [
    "# d) Análise de vocabulário com CountVectorizer\n",
    "vectorizer = CountVectorizer(max_features=20)\n",
    "X = vectorizer.fit_transform(data_balanced[\"processed_text_stemmed\"]).toarray()\n",
    "vocab = vectorizer.get_feature_names_out()"
   ]
  },
  {
   "cell_type": "code",
   "execution_count": 90,
   "metadata": {},
   "outputs": [
    {
     "name": "stdout",
     "output_type": "stream",
     "text": [
      "\n",
      "### Top 20 Palavras no Vocabulário (Bag-of-Words, sem tokens de 'x') ###\n",
      "['account' 'bank' 'call' 'card' 'charg' 'check' 'compani' 'consum'\n",
      " 'credit' 'day' 'debt' 'inform' 'loan' 'payment' 'receiv' 'report' 'state'\n",
      " 'time' 'told' 'would']\n"
     ]
    }
   ],
   "source": [
    "# Cria custom_stopwords\n",
    "custom_stopwords = set(stopwords.words(\"english\")) | {word for word in vocab if all(c == 'x' for c in word.lower())}\n",
    "vectorizer = CountVectorizer(max_features=20, stop_words=list(custom_stopwords))\n",
    "X = vectorizer.fit_transform(data_balanced[\"processed_text_stemmed\"]).toarray()\n",
    "vocab = vectorizer.get_feature_names_out()\n",
    "print(\"\\n### Top 20 Palavras no Vocabulário (Bag-of-Words, sem tokens de 'x') ###\")\n",
    "print(vocab)"
   ]
  },
  {
   "cell_type": "code",
   "execution_count": 91,
   "metadata": {},
   "outputs": [],
   "source": [
    "# e) N-gramas mais frequentes\n",
    "bigram_counts = Counter()\n",
    "batch_size = 10000\n",
    "for i in range(0, len(data_balanced[\"processed_text_stemmed\"]), batch_size):\n",
    "    batch_corpus = data_balanced[\"processed_text_stemmed\"][i:i + batch_size].astype(str).tolist()\n",
    "    all_tokens = \" \".join(batch_corpus).split()\n",
    "    # bigrams = ngrams(all_tokens, 2)\n",
    "    bigrams = (bigram for bigram in ngrams(all_tokens, 2)\n",
    "               if not any(all(c == 'x' for c in str(w).lower()) for w in bigram)\n",
    "               and ' '.join(bigram) != 'u c')\n",
    "    bigram_counts.update(bigrams)"
   ]
  },
  {
   "cell_type": "code",
   "execution_count": 92,
   "metadata": {},
   "outputs": [
    {
     "name": "stdout",
     "output_type": "stream",
     "text": [
      "\n",
      "### Top 10 Bigramas Mais Frequentes ###\n",
      "credit report: 22609\n",
      "credit card: 12548\n",
      "consum report: 7728\n",
      "well fargo: 6414\n",
      "report agenc: 6078\n",
      "custom servic: 5518\n",
      "credit bureau: 5270\n",
      "bank america: 5076\n",
      "check account: 4817\n",
      "ident theft: 4464\n"
     ]
    }
   ],
   "source": [
    "# Os 10 bigramas mais frequentes\n",
    "bigram_counts = bigram_counts.most_common(10)\n",
    "print(\"\\n### Top 10 Bigramas Mais Frequentes ###\")\n",
    "for bigram, count in bigram_counts:\n",
    "    print(f\"{' '.join(bigram)}: {count}\")"
   ]
  },
  {
   "cell_type": "code",
   "execution_count": 93,
   "metadata": {},
   "outputs": [
    {
     "data": {
      "image/png": "[encoded data removed]",
      "text/plain": [
       "<Figure size 1200x600 with 1 Axes>"
      ]
     },
     "metadata": {},
     "output_type": "display_data"
    }
   ],
   "source": [
    "# Gráfico de barras para bigramas\n",
    "bigram_labels = [\" \".join(bigram[0]) for bigram in bigram_counts]\n",
    "bigram_values = [bigram[1] for bigram in bigram_counts]\n",
    "plt.figure()\n",
    "sns.barplot(x=bigram_labels, y=bigram_values)\n",
    "plt.title(\"Top 10 Bigramas Mais Frequentes\")\n",
    "plt.xlabel(\"Bigrama\")\n",
    "plt.ylabel(\"Frequência\")\n",
    "plt.xticks(rotation=45, ha=\"right\")\n",
    "plt.tight_layout()\n",
    "plt.show()"
   ]
  },
  {
   "cell_type": "markdown",
   "metadata": {},
   "source": [
    "# 3. CLASSIFICADORES"
   ]
  },
  {
   "cell_type": "code",
   "execution_count": 94,
   "metadata": {},
   "outputs": [
    {
     "name": "stdout",
     "output_type": "stream",
     "text": [
      "Tamanho do espaço de features (BoW): 2000 features\n"
     ]
    }
   ],
   "source": [
    "# Bag-of-Words com CountVectorizer\n",
    "vectorizer = CountVectorizer(max_features=2000, stop_words=list(custom_stopwords))\n",
    "X = vectorizer.fit_transform(data_balanced[\"processed_text_stemmed\"])\n",
    "print(f\"Tamanho do espaço de features (BoW): {X.shape[1]} features\")"
   ]
  },
  {
   "cell_type": "code",
   "execution_count": 95,
   "metadata": {},
   "outputs": [],
   "source": [
    "# Divisão treino/teste\n",
    "X_train, X_test, y_train, y_test = train_test_split(X, data_balanced[\"product_5\"], test_size=0.2, random_state=42)"
   ]
  },
  {
   "cell_type": "markdown",
   "metadata": {},
   "source": [
    "## 3.1 - Classificadores com Bag-of-Words"
   ]
  },
  {
   "cell_type": "code",
   "execution_count": 96,
   "metadata": {},
   "outputs": [
    {
     "name": "stdout",
     "output_type": "stream",
     "text": [
      "Naive Bayes com BoW:\n",
      "                             precision    recall  f1-score   support\n",
      "\n",
      "Bank Accounts and Services       0.86      0.88      0.87      1998\n",
      "      Credit Card Services       0.79      0.75      0.77      1950\n",
      "          Credit Reporting       0.73      0.83      0.78      2043\n",
      "           Debt Collection       0.79      0.67      0.73      1993\n",
      "                     Loans       0.84      0.86      0.85      2016\n",
      "\n",
      "                  accuracy                           0.80     10000\n",
      "                 macro avg       0.80      0.80      0.80     10000\n",
      "              weighted avg       0.80      0.80      0.80     10000\n",
      "\n"
     ]
    },
    {
     "data": {
      "text/plain": [
       "['naive_bayes_bow_50000.joblib']"
      ]
     },
     "execution_count": 96,
     "metadata": {},
     "output_type": "execute_result"
    }
   ],
   "source": [
    "# Naive Bayes\n",
    "nb = MultinomialNB()\n",
    "nb.fit(X_train, y_train)\n",
    "y_pred_nb = nb.predict(X_test)\n",
    "print(\"Naive Bayes com BoW:\\n\", classification_report(y_test, y_pred_nb, zero_division=0))\n",
    "joblib.dump(nb, 'naive_bayes_bow_50000.joblib')"
   ]
  },
  {
   "cell_type": "code",
   "execution_count": 97,
   "metadata": {},
   "outputs": [
    {
     "name": "stdout",
     "output_type": "stream",
     "text": [
      "Logistic Regression (L2) com BoW:\n",
      "                             precision    recall  f1-score   support\n",
      "\n",
      "Bank Accounts and Services       0.85      0.87      0.86      1998\n",
      "      Credit Card Services       0.81      0.80      0.80      1950\n",
      "          Credit Reporting       0.79      0.82      0.81      2043\n",
      "           Debt Collection       0.78      0.78      0.78      1993\n",
      "                     Loans       0.87      0.83      0.85      2016\n",
      "\n",
      "                  accuracy                           0.82     10000\n",
      "                 macro avg       0.82      0.82      0.82     10000\n",
      "              weighted avg       0.82      0.82      0.82     10000\n",
      "\n",
      "Features ativas (L2): 10000\n"
     ]
    },
    {
     "data": {
      "text/plain": [
       "['logistic_regression_l2_bow_50000.joblib']"
      ]
     },
     "execution_count": 97,
     "metadata": {},
     "output_type": "execute_result"
    }
   ],
   "source": [
    "# Logistic Regression com diferentes regularizações\n",
    "# L2 Regularization\n",
    "lr_l2 = LogisticRegression(penalty='l2', C=1.0, max_iter=1000, solver='liblinear')\n",
    "lr_l2.fit(X_train, y_train)\n",
    "y_pred_lr_l2 = lr_l2.predict(X_test)\n",
    "print(\"Logistic Regression (L2) com BoW:\\n\", classification_report(y_test, y_pred_lr_l2, zero_division=0))\n",
    "print(f\"Features ativas (L2): {(lr_l2.coef_ != 0).sum()}\")\n",
    "joblib.dump(lr_l2, 'logistic_regression_l2_bow_50000.joblib')"
   ]
  },
  {
   "cell_type": "code",
   "execution_count": 98,
   "metadata": {},
   "outputs": [
    {
     "name": "stdout",
     "output_type": "stream",
     "text": [
      "Logistic Regression (L1) com BoW:\n",
      "                             precision    recall  f1-score   support\n",
      "\n",
      "Bank Accounts and Services       0.86      0.87      0.86      1998\n",
      "      Credit Card Services       0.81      0.81      0.81      1950\n",
      "          Credit Reporting       0.80      0.82      0.81      2043\n",
      "           Debt Collection       0.78      0.78      0.78      1993\n",
      "                     Loans       0.87      0.83      0.85      2016\n",
      "\n",
      "                  accuracy                           0.82     10000\n",
      "                 macro avg       0.82      0.82      0.82     10000\n",
      "              weighted avg       0.82      0.82      0.82     10000\n",
      "\n",
      "Features ativas (L1): 8300\n"
     ]
    },
    {
     "data": {
      "text/plain": [
       "['logistic_regression_l1_bow_50000.joblib']"
      ]
     },
     "execution_count": 98,
     "metadata": {},
     "output_type": "execute_result"
    }
   ],
   "source": [
    "# L1 Regularization\n",
    "lr_l1 = LogisticRegression(penalty='l1', C=1.0, max_iter=1000, solver='liblinear')\n",
    "lr_l1.fit(X_train, y_train)\n",
    "y_pred_lr_l1 = lr_l1.predict(X_test)\n",
    "print(\"Logistic Regression (L1) com BoW:\\n\", classification_report(y_test, y_pred_lr_l1, zero_division=0))\n",
    "print(f\"Features ativas (L1): {(lr_l1.coef_ != 0).sum()}\")\n",
    "joblib.dump(lr_l1, 'logistic_regression_l1_bow_50000.joblib')"
   ]
  },
  {
   "cell_type": "code",
   "execution_count": 99,
   "metadata": {},
   "outputs": [
    {
     "name": "stdout",
     "output_type": "stream",
     "text": [
      "Logistic Regression (Elastic Net) com BoW:\n",
      "                             precision    recall  f1-score   support\n",
      "\n",
      "Bank Accounts and Services       0.86      0.88      0.87      1998\n",
      "      Credit Card Services       0.83      0.81      0.82      1950\n",
      "          Credit Reporting       0.77      0.84      0.80      2043\n",
      "           Debt Collection       0.79      0.74      0.76      1993\n",
      "                     Loans       0.87      0.85      0.86      2016\n",
      "\n",
      "                  accuracy                           0.82     10000\n",
      "                 macro avg       0.82      0.82      0.82     10000\n",
      "              weighted avg       0.82      0.82      0.82     10000\n",
      "\n",
      "Features ativas (Elastic Net): 9947\n"
     ]
    },
    {
     "data": {
      "text/plain": [
       "['logistic_regression_elastic_bow_50000.joblib']"
      ]
     },
     "execution_count": 99,
     "metadata": {},
     "output_type": "execute_result"
    }
   ],
   "source": [
    "# Elastic Net\n",
    "lr_elastic = LogisticRegression(penalty='elasticnet', l1_ratio=0.5, C=1.0, max_iter=1000, solver='saga', tol=1e-2)\n",
    "lr_elastic.fit(X_train, y_train)\n",
    "y_pred_lr_elastic = lr_elastic.predict(X_test)\n",
    "print(\"Logistic Regression (Elastic Net) com BoW:\\n\", classification_report(y_test, y_pred_lr_elastic, zero_division=0))\n",
    "print(f\"Features ativas (Elastic Net): {(lr_elastic.coef_ != 0).sum()}\")\n",
    "joblib.dump(lr_elastic, 'logistic_regression_elastic_bow_50000.joblib')"
   ]
  },
  {
   "cell_type": "code",
   "execution_count": 100,
   "metadata": {},
   "outputs": [],
   "source": [
    "# SGD Classifier\n",
    "batch_size = 10000\n",
    "n_epochs = 10"
   ]
  },
  {
   "cell_type": "code",
   "execution_count": 101,
   "metadata": {},
   "outputs": [
    {
     "name": "stdout",
     "output_type": "stream",
     "text": [
      "Epoch 1/10 (SGD L2)\n",
      "Acurácia no teste após época 1: 0.7498\n",
      "Epoch 2/10 (SGD L2)\n",
      "Acurácia no teste após época 2: 0.7977\n",
      "Epoch 3/10 (SGD L2)\n",
      "Acurácia no teste após época 3: 0.7935\n",
      "Epoch 4/10 (SGD L2)\n",
      "Acurácia no teste após época 4: 0.7968\n",
      "Epoch 5/10 (SGD L2)\n",
      "Acurácia no teste após época 5: 0.8017\n",
      "Epoch 6/10 (SGD L2)\n",
      "Acurácia no teste após época 6: 0.7926\n",
      "Epoch 7/10 (SGD L2)\n",
      "Acurácia no teste após época 7: 0.8070\n",
      "Epoch 8/10 (SGD L2)\n",
      "Acurácia no teste após época 8: 0.7815\n",
      "Epoch 9/10 (SGD L2)\n",
      "Acurácia no teste após época 9: 0.8052\n",
      "Epoch 10/10 (SGD L2)\n",
      "Acurácia no teste após época 10: 0.7954\n",
      "SGD Classifier (L2) com BoW:\n",
      "                             precision    recall  f1-score   support\n",
      "\n",
      "Bank Accounts and Services       0.84      0.86      0.85      1998\n",
      "      Credit Card Services       0.81      0.77      0.79      1950\n",
      "          Credit Reporting       0.80      0.73      0.77      2043\n",
      "           Debt Collection       0.71      0.79      0.75      1993\n",
      "                     Loans       0.83      0.83      0.83      2016\n",
      "\n",
      "                  accuracy                           0.80     10000\n",
      "                 macro avg       0.80      0.80      0.80     10000\n",
      "              weighted avg       0.80      0.80      0.80     10000\n",
      "\n",
      "Features ativas (SGD L2): 10000\n"
     ]
    }
   ],
   "source": [
    "# SGD com L2\n",
    "sgd_l2 = SGDClassifier(loss='log_loss', penalty='l2', alpha=0.0001, max_iter=1000, tol=1e-3, random_state=42, early_stopping=False)\n",
    "best_acc = 0\n",
    "for epoch in range(n_epochs):\n",
    "    print(f\"Epoch {epoch + 1}/{n_epochs} (SGD L2)\")\n",
    "    indices = np.random.permutation(X_train.shape[0])\n",
    "    X_train_shuffled = X_train[indices]\n",
    "    y_train_shuffled = y_train.iloc[indices] if isinstance(y_train, pd.Series) else y_train[indices]\n",
    "    for start in range(0, X_train.shape[0], batch_size):\n",
    "        end = min(start + batch_size, X_train.shape[0])\n",
    "        X_batch = X_train_shuffled[start:end]\n",
    "        y_batch = y_train_shuffled[start:end]\n",
    "        if epoch == 0 and start == 0:\n",
    "            sgd_l2.partial_fit(X_batch, y_batch, classes=np.unique(y_train))\n",
    "        else:\n",
    "            sgd_l2.partial_fit(X_batch, y_batch)\n",
    "    y_pred_sgd = sgd_l2.predict(X_test)\n",
    "    acc = accuracy_score(y_test, y_pred_sgd)\n",
    "    print(f\"Acurácia no teste após época {epoch + 1}: {acc:.4f}\")\n",
    "    if acc > best_acc:\n",
    "        best_acc = acc\n",
    "        joblib.dump(sgd_l2, 'sgd_l2_bow_50000.joblib')\n",
    "print(\"SGD Classifier (L2) com BoW:\\n\", classification_report(y_test, sgd_l2.predict(X_test), zero_division=0))\n",
    "print(f\"Features ativas (SGD L2): {(sgd_l2.coef_ != 0).sum()}\")"
   ]
  },
  {
   "cell_type": "code",
   "execution_count": 102,
   "metadata": {},
   "outputs": [
    {
     "name": "stdout",
     "output_type": "stream",
     "text": [
      "Epoch 1/10 (SGD L1)\n",
      "Acurácia no teste após época 1: 0.7893\n",
      "Epoch 2/10 (SGD L1)\n",
      "Acurácia no teste após época 2: 0.8008\n",
      "Epoch 3/10 (SGD L1)\n",
      "Acurácia no teste após época 3: 0.8003\n",
      "Epoch 4/10 (SGD L1)\n",
      "Acurácia no teste após época 4: 0.7993\n",
      "Epoch 5/10 (SGD L1)\n",
      "Acurácia no teste após época 5: 0.7970\n",
      "Epoch 6/10 (SGD L1)\n",
      "Acurácia no teste após época 6: 0.7990\n",
      "Epoch 7/10 (SGD L1)\n",
      "Acurácia no teste após época 7: 0.8003\n",
      "Epoch 8/10 (SGD L1)\n",
      "Acurácia no teste após época 8: 0.7986\n",
      "Epoch 9/10 (SGD L1)\n",
      "Acurácia no teste após época 9: 0.7943\n",
      "Epoch 10/10 (SGD L1)\n",
      "Acurácia no teste após época 10: 0.7935\n",
      "SGD Classifier (L1) com BoW:\n",
      "                             precision    recall  f1-score   support\n",
      "\n",
      "Bank Accounts and Services       0.84      0.84      0.84      1998\n",
      "      Credit Card Services       0.74      0.81      0.77      1950\n",
      "          Credit Reporting       0.80      0.75      0.77      2043\n",
      "           Debt Collection       0.76      0.74      0.75      1993\n",
      "                     Loans       0.82      0.83      0.83      2016\n",
      "\n",
      "                  accuracy                           0.79     10000\n",
      "                 macro avg       0.79      0.79      0.79     10000\n",
      "              weighted avg       0.79      0.79      0.79     10000\n",
      "\n",
      "Features ativas (SGD L1): 9371\n"
     ]
    }
   ],
   "source": [
    "# SGD com L1\n",
    "sgd_l1 = SGDClassifier(loss='log_loss', penalty='l1', alpha=0.0001, max_iter=1000, tol=1e-3, random_state=42, early_stopping=False)\n",
    "best_acc = 0\n",
    "for epoch in range(n_epochs):\n",
    "    print(f\"Epoch {epoch + 1}/{n_epochs} (SGD L1)\")\n",
    "    indices = np.random.permutation(X_train.shape[0])\n",
    "    X_train_shuffled = X_train[indices]\n",
    "    y_train_shuffled = y_train.iloc[indices] if isinstance(y_train, pd.Series) else y_train[indices]\n",
    "    for start in range(0, X_train.shape[0], batch_size):\n",
    "        end = min(start + batch_size, X_train.shape[0])\n",
    "        X_batch = X_train_shuffled[start:end]\n",
    "        y_batch = y_train_shuffled[start:end]\n",
    "        if epoch == 0 and start == 0:\n",
    "            sgd_l1.partial_fit(X_batch, y_batch, classes=np.unique(y_train))\n",
    "        else:\n",
    "            sgd_l1.partial_fit(X_batch, y_batch)\n",
    "    y_pred_sgd = sgd_l1.predict(X_test)\n",
    "    acc = accuracy_score(y_test, y_pred_sgd)\n",
    "    print(f\"Acurácia no teste após época {epoch + 1}: {acc:.4f}\")\n",
    "    if acc > best_acc:\n",
    "        best_acc = acc\n",
    "        joblib.dump(sgd_l1, 'sgd_l1_bow_50000.joblib')\n",
    "print(\"SGD Classifier (L1) com BoW:\\n\", classification_report(y_test, sgd_l1.predict(X_test), zero_division=0))\n",
    "print(f\"Features ativas (SGD L1): {(sgd_l1.coef_ != 0).sum()}\")"
   ]
  },
  {
   "cell_type": "code",
   "execution_count": 103,
   "metadata": {},
   "outputs": [
    {
     "name": "stdout",
     "output_type": "stream",
     "text": [
      "Aplicando TF-IDF com N-grams...\n",
      "Tamanho do espaço de features com N-grams (TF-IDF): 2000\n"
     ]
    },
    {
     "data": {
      "text/plain": [
       "['tfidf_ngrams_vectorizer_50000.joblib']"
      ]
     },
     "execution_count": 103,
     "metadata": {},
     "output_type": "execute_result"
    }
   ],
   "source": [
    "# 3.2 - Classificadores com TF-IDF e N-grams\n",
    "print(\"Aplicando TF-IDF com N-grams...\")\n",
    "tfidf_ngrams = TfidfVectorizer(max_features=2000, ngram_range=(1, 2), stop_words=list(custom_stopwords))\n",
    "X_tfidf_ngrams = tfidf_ngrams.fit_transform(data_balanced[\"processed_text_stemmed\"])\n",
    "print(f\"Tamanho do espaço de features com N-grams (TF-IDF): {X_tfidf_ngrams.shape[1]}\")\n",
    "joblib.dump(tfidf_ngrams, 'tfidf_ngrams_vectorizer_50000.joblib')"
   ]
  },
  {
   "cell_type": "code",
   "execution_count": 104,
   "metadata": {},
   "outputs": [],
   "source": [
    "# Divisão treino/teste\n",
    "X_train_ng, X_test_ng, y_train_ng, y_test_ng = train_test_split(X_tfidf_ngrams, data_balanced[\"product_5\"], test_size=0.2, random_state=42)"
   ]
  },
  {
   "cell_type": "code",
   "execution_count": 105,
   "metadata": {},
   "outputs": [
    {
     "name": "stdout",
     "output_type": "stream",
     "text": [
      "Naive Bayes com N-grams e TF-IDF:\n",
      "                             precision    recall  f1-score   support\n",
      "\n",
      "Bank Accounts and Services       0.83      0.90      0.86      1998\n",
      "      Credit Card Services       0.80      0.77      0.78      1950\n",
      "          Credit Reporting       0.78      0.80      0.79      2043\n",
      "           Debt Collection       0.79      0.70      0.74      1993\n",
      "                     Loans       0.83      0.86      0.84      2016\n",
      "\n",
      "                  accuracy                           0.81     10000\n",
      "                 macro avg       0.81      0.81      0.80     10000\n",
      "              weighted avg       0.80      0.81      0.80     10000\n",
      "\n"
     ]
    },
    {
     "data": {
      "text/plain": [
       "['naive_bayes_ngrams_tfidf_50000.joblib']"
      ]
     },
     "execution_count": 105,
     "metadata": {},
     "output_type": "execute_result"
    }
   ],
   "source": [
    "# Naive Bayes com N-grams\n",
    "nb = MultinomialNB()\n",
    "nb.fit(X_train_ng, y_train_ng)\n",
    "y_pred_nb_ng = nb.predict(X_test_ng)\n",
    "print(\"Naive Bayes com N-grams e TF-IDF:\\n\", classification_report(y_test_ng, y_pred_nb_ng, zero_division=0))\n",
    "joblib.dump(nb, 'naive_bayes_ngrams_tfidf_50000.joblib')"
   ]
  },
  {
   "cell_type": "code",
   "execution_count": 106,
   "metadata": {},
   "outputs": [
    {
     "name": "stdout",
     "output_type": "stream",
     "text": [
      "Logistic Regression (L2) com TF-IDF e N-grams:\n",
      "                             precision    recall  f1-score   support\n",
      "\n",
      "Bank Accounts and Services       0.88      0.90      0.89      1998\n",
      "      Credit Card Services       0.84      0.84      0.84      1950\n",
      "          Credit Reporting       0.82      0.83      0.82      2043\n",
      "           Debt Collection       0.81      0.78      0.80      1993\n",
      "                     Loans       0.87      0.87      0.87      2016\n",
      "\n",
      "                  accuracy                           0.85     10000\n",
      "                 macro avg       0.85      0.85      0.85     10000\n",
      "              weighted avg       0.85      0.85      0.85     10000\n",
      "\n",
      "Features ativas (L2): 10000\n"
     ]
    },
    {
     "data": {
      "text/plain": [
       "['logistic_regression_l2_ngrams_tfidf_50000.joblib']"
      ]
     },
     "execution_count": 106,
     "metadata": {},
     "output_type": "execute_result"
    }
   ],
   "source": [
    "# Logistic Regression com N-grams\n",
    "# L2 Regularization\n",
    "lr_l2 = LogisticRegression(penalty='l2', C=1.0, max_iter=1000, solver='liblinear')\n",
    "lr_l2.fit(X_train_ng, y_train_ng)\n",
    "y_pred_lr_l2 = lr_l2.predict(X_test_ng)\n",
    "print(\"Logistic Regression (L2) com TF-IDF e N-grams:\\n\", classification_report(y_test_ng, y_pred_lr_l2, zero_division=0))\n",
    "print(f\"Features ativas (L2): {(lr_l2.coef_ != 0).sum()}\")\n",
    "joblib.dump(lr_l2, 'logistic_regression_l2_ngrams_tfidf_50000.joblib')"
   ]
  },
  {
   "cell_type": "code",
   "execution_count": 107,
   "metadata": {},
   "outputs": [
    {
     "name": "stdout",
     "output_type": "stream",
     "text": [
      "Logistic Regression (L1) com TF-IDF e N-grams:\n",
      "                             precision    recall  f1-score   support\n",
      "\n",
      "Bank Accounts and Services       0.88      0.89      0.89      1998\n",
      "      Credit Card Services       0.84      0.85      0.84      1950\n",
      "          Credit Reporting       0.82      0.84      0.83      2043\n",
      "           Debt Collection       0.81      0.78      0.79      1993\n",
      "                     Loans       0.87      0.87      0.87      2016\n",
      "\n",
      "                  accuracy                           0.85     10000\n",
      "                 macro avg       0.85      0.85      0.85     10000\n",
      "              weighted avg       0.85      0.85      0.85     10000\n",
      "\n",
      "Features ativas (L1): 3450\n"
     ]
    },
    {
     "data": {
      "text/plain": [
       "['logistic_regression_l1_ngrams_tfidf_50000.joblib']"
      ]
     },
     "execution_count": 107,
     "metadata": {},
     "output_type": "execute_result"
    }
   ],
   "source": [
    "# L1 Regularization\n",
    "lr_l1 = LogisticRegression(penalty='l1', C=1.0, max_iter=1000, solver='liblinear')\n",
    "lr_l1.fit(X_train_ng, y_train_ng)\n",
    "y_pred_lr_l1 = lr_l1.predict(X_test_ng)\n",
    "print(\"Logistic Regression (L1) com TF-IDF e N-grams:\\n\", classification_report(y_test_ng, y_pred_lr_l1, zero_division=0))\n",
    "print(f\"Features ativas (L1): {(lr_l1.coef_ != 0).sum()}\")\n",
    "joblib.dump(lr_l1, 'logistic_regression_l1_ngrams_tfidf_50000.joblib')"
   ]
  },
  {
   "cell_type": "code",
   "execution_count": 108,
   "metadata": {},
   "outputs": [
    {
     "name": "stdout",
     "output_type": "stream",
     "text": [
      "Logistic Regression (Elastic Net) com TF-IDF e N-grams:\n",
      "                             precision    recall  f1-score   support\n",
      "\n",
      "Bank Accounts and Services       0.89      0.89      0.89      1998\n",
      "      Credit Card Services       0.84      0.84      0.84      1950\n",
      "          Credit Reporting       0.82      0.84      0.83      2043\n",
      "           Debt Collection       0.81      0.78      0.79      1993\n",
      "                     Loans       0.87      0.87      0.87      2016\n",
      "\n",
      "                  accuracy                           0.84     10000\n",
      "                 macro avg       0.84      0.84      0.84     10000\n",
      "              weighted avg       0.84      0.84      0.84     10000\n",
      "\n",
      "Features ativas (Elastic Net): 6031\n"
     ]
    },
    {
     "data": {
      "text/plain": [
       "['logistic_regression_elastic_ngrams_tfidf_50000.joblib']"
      ]
     },
     "execution_count": 108,
     "metadata": {},
     "output_type": "execute_result"
    }
   ],
   "source": [
    "# Elastic Net\n",
    "lr_elastic = LogisticRegression(penalty='elasticnet', l1_ratio=0.5, C=1.0, max_iter=1000, solver='saga', tol=1e-2)\n",
    "lr_elastic.fit(X_train_ng, y_train_ng)\n",
    "y_pred_lr_elastic = lr_elastic.predict(X_test_ng)\n",
    "print(\"Logistic Regression (Elastic Net) com TF-IDF e N-grams:\\n\", classification_report(y_test_ng, y_pred_lr_elastic, zero_division=0))\n",
    "print(f\"Features ativas (Elastic Net): {(lr_elastic.coef_ != 0).sum()}\")\n",
    "joblib.dump(lr_elastic, 'logistic_regression_elastic_ngrams_tfidf_50000.joblib')"
   ]
  },
  {
   "cell_type": "code",
   "execution_count": 109,
   "metadata": {},
   "outputs": [
    {
     "name": "stdout",
     "output_type": "stream",
     "text": [
      "Epoch 1/10 (SGD L2)\n",
      "Acurácia no teste após época 1: 0.8393\n",
      "Epoch 2/10 (SGD L2)\n",
      "Acurácia no teste após época 2: 0.8413\n",
      "Epoch 3/10 (SGD L2)\n",
      "Acurácia no teste após época 3: 0.8417\n",
      "Epoch 4/10 (SGD L2)\n",
      "Acurácia no teste após época 4: 0.8424\n",
      "Epoch 5/10 (SGD L2)\n",
      "Acurácia no teste após época 5: 0.8417\n",
      "Epoch 6/10 (SGD L2)\n",
      "Acurácia no teste após época 6: 0.8422\n",
      "Epoch 7/10 (SGD L2)\n",
      "Acurácia no teste após época 7: 0.8409\n",
      "Epoch 8/10 (SGD L2)\n",
      "Acurácia no teste após época 8: 0.8423\n",
      "Epoch 9/10 (SGD L2)\n",
      "Acurácia no teste após época 9: 0.8425\n",
      "Epoch 10/10 (SGD L2)\n",
      "Acurácia no teste após época 10: 0.8421\n",
      "SGD Classifier (L2) com TF-IDF e N-grams:\n",
      "                             precision    recall  f1-score   support\n",
      "\n",
      "Bank Accounts and Services       0.88      0.90      0.89      1998\n",
      "      Credit Card Services       0.84      0.84      0.84      1950\n",
      "          Credit Reporting       0.81      0.83      0.82      2043\n",
      "           Debt Collection       0.81      0.77      0.79      1993\n",
      "                     Loans       0.87      0.87      0.87      2016\n",
      "\n",
      "                  accuracy                           0.84     10000\n",
      "                 macro avg       0.84      0.84      0.84     10000\n",
      "              weighted avg       0.84      0.84      0.84     10000\n",
      "\n",
      "Features ativas (SGD L2): 10000\n"
     ]
    }
   ],
   "source": [
    "# SGD Classifier com N-grams\n",
    "# SGD com L2\n",
    "sgd_l2 = SGDClassifier(loss='log_loss', penalty='l2', alpha=0.0001, max_iter=1000, tol=1e-3, random_state=42, early_stopping=False)\n",
    "best_acc = 0\n",
    "for epoch in range(n_epochs):\n",
    "    print(f\"Epoch {epoch + 1}/{n_epochs} (SGD L2)\")\n",
    "    indices = np.random.permutation(X_train_ng.shape[0])\n",
    "    X_train_shuffled = X_train_ng[indices]\n",
    "    y_train_shuffled = y_train_ng.iloc[indices] if isinstance(y_train_ng, pd.Series) else y_train_ng[indices]\n",
    "    for start in range(0, X_train_ng.shape[0], batch_size):\n",
    "        end = min(start + batch_size, X_train_ng.shape[0])\n",
    "        X_batch = X_train_shuffled[start:end]\n",
    "        y_batch = y_train_shuffled[start:end]\n",
    "        if epoch == 0 and start == 0:\n",
    "            sgd_l2.partial_fit(X_batch, y_batch, classes=np.unique(y_train_ng))\n",
    "        else:\n",
    "            sgd_l2.partial_fit(X_batch, y_batch)\n",
    "    y_pred_sgd = sgd_l2.predict(X_test_ng)\n",
    "    acc = accuracy_score(y_test_ng, y_pred_sgd)\n",
    "    print(f\"Acurácia no teste após época {epoch + 1}: {acc:.4f}\")\n",
    "    if acc > best_acc:\n",
    "        best_acc = acc\n",
    "        joblib.dump(sgd_l2, 'sgd_l2_ngrams_tfidf_50000.joblib')\n",
    "print(\"SGD Classifier (L2) com TF-IDF e N-grams:\\n\", classification_report(y_test_ng, sgd_l2.predict(X_test_ng), zero_division=0))\n",
    "print(f\"Features ativas (SGD L2): {(sgd_l2.coef_ != 0).sum()}\")"
   ]
  },
  {
   "cell_type": "code",
   "execution_count": 110,
   "metadata": {},
   "outputs": [
    {
     "name": "stdout",
     "output_type": "stream",
     "text": [
      "Epoch 1/10 (SGD L1)\n",
      "Acurácia no teste após época 1: 0.8379\n",
      "Epoch 2/10 (SGD L1)\n",
      "Acurácia no teste após época 2: 0.8391\n",
      "Epoch 3/10 (SGD L1)\n",
      "Acurácia no teste após época 3: 0.8386\n",
      "Epoch 4/10 (SGD L1)\n",
      "Acurácia no teste após época 4: 0.8381\n",
      "Epoch 5/10 (SGD L1)\n",
      "Acurácia no teste após época 5: 0.8388\n",
      "Epoch 6/10 (SGD L1)\n",
      "Acurácia no teste após época 6: 0.8386\n",
      "Epoch 7/10 (SGD L1)\n",
      "Acurácia no teste após época 7: 0.8383\n",
      "Epoch 8/10 (SGD L1)\n",
      "Acurácia no teste após época 8: 0.8389\n",
      "Epoch 9/10 (SGD L1)\n",
      "Acurácia no teste após época 9: 0.8383\n",
      "Epoch 10/10 (SGD L1)\n",
      "Acurácia no teste após época 10: 0.8382\n",
      "SGD Classifier (L1) com TF-IDF e N-grams:\n",
      "                             precision    recall  f1-score   support\n",
      "\n",
      "Bank Accounts and Services       0.87      0.89      0.88      1998\n",
      "      Credit Card Services       0.83      0.85      0.84      1950\n",
      "          Credit Reporting       0.81      0.82      0.82      2043\n",
      "           Debt Collection       0.81      0.77      0.79      1993\n",
      "                     Loans       0.87      0.86      0.86      2016\n",
      "\n",
      "                  accuracy                           0.84     10000\n",
      "                 macro avg       0.84      0.84      0.84     10000\n",
      "              weighted avg       0.84      0.84      0.84     10000\n",
      "\n",
      "Features ativas (SGD L1): 1872\n"
     ]
    }
   ],
   "source": [
    "# SGD com L1\n",
    "sgd_l1 = SGDClassifier(loss='log_loss', penalty='l1', alpha=0.0001, max_iter=1000, tol=1e-3, random_state=42, early_stopping=False)\n",
    "best_acc = 0\n",
    "for epoch in range(n_epochs):\n",
    "    print(f\"Epoch {epoch + 1}/{n_epochs} (SGD L1)\")\n",
    "    indices = np.random.permutation(X_train_ng.shape[0])\n",
    "    X_train_shuffled = X_train_ng[indices]\n",
    "    y_train_shuffled = y_train_ng.iloc[indices] if isinstance(y_train_ng, pd.Series) else y_train_ng[indices]\n",
    "    for start in range(0, X_train_ng.shape[0], batch_size):\n",
    "        end = min(start + batch_size, X_train_ng.shape[0])\n",
    "        X_batch = X_train_shuffled[start:end]\n",
    "        y_batch = y_train_shuffled[start:end]\n",
    "        if epoch == 0 and start == 0:\n",
    "            sgd_l1.partial_fit(X_batch, y_batch, classes=np.unique(y_train_ng))\n",
    "        else:\n",
    "            sgd_l1.partial_fit(X_batch, y_batch)\n",
    "    y_pred_sgd = sgd_l1.predict(X_test_ng)\n",
    "    acc = accuracy_score(y_test_ng, y_pred_sgd)\n",
    "    print(f\"Acurácia no teste após época {epoch + 1}: {acc:.4f}\")\n",
    "    if acc > best_acc:\n",
    "        best_acc = acc\n",
    "        joblib.dump(sgd_l1, 'sgd_l1_ngrams_tfidf_50000.joblib')\n",
    "print(\"SGD Classifier (L1) com TF-IDF e N-grams:\\n\", classification_report(y_test_ng, sgd_l1.predict(X_test_ng), zero_division=0))\n",
    "print(f\"Features ativas (SGD L1): {(sgd_l1.coef_ != 0).sum()}\")"
   ]
  },
  {
   "cell_type": "code",
   "execution_count": 111,
   "metadata": {},
   "outputs": [],
   "source": [
    "# 3.3 - Normalização com StandardScaler\n",
    "scaler = StandardScaler(with_mean=False)\n",
    "X_train_ng_scaled = scaler.fit_transform(X_train_ng)\n",
    "X_test_ng_scaled = scaler.transform(X_test_ng)"
   ]
  },
  {
   "cell_type": "code",
   "execution_count": 112,
   "metadata": {},
   "outputs": [
    {
     "name": "stdout",
     "output_type": "stream",
     "text": [
      "Naive Bayes com N-grams e TF-IDF normalizado:\n",
      "                             precision    recall  f1-score   support\n",
      "\n",
      "Bank Accounts and Services       0.81      0.89      0.85      1998\n",
      "      Credit Card Services       0.77      0.74      0.75      1950\n",
      "          Credit Reporting       0.80      0.76      0.78      2043\n",
      "           Debt Collection       0.75      0.72      0.74      1993\n",
      "                     Loans       0.81      0.84      0.83      2016\n",
      "\n",
      "                  accuracy                           0.79     10000\n",
      "                 macro avg       0.79      0.79      0.79     10000\n",
      "              weighted avg       0.79      0.79      0.79     10000\n",
      "\n"
     ]
    },
    {
     "data": {
      "text/plain": [
       "['naive_bayes_ngrams_tfidf_normalized_50000.joblib']"
      ]
     },
     "execution_count": 112,
     "metadata": {},
     "output_type": "execute_result"
    }
   ],
   "source": [
    "# Naive Bayes com N-grams (normalizado)\n",
    "nb = MultinomialNB()\n",
    "nb.fit(X_train_ng_scaled, y_train_ng)\n",
    "y_pred_nb_ng = nb.predict(X_test_ng_scaled)\n",
    "print(\"Naive Bayes com N-grams e TF-IDF normalizado:\\n\", classification_report(y_test_ng, y_pred_nb_ng, zero_division=0))\n",
    "joblib.dump(nb, 'naive_bayes_ngrams_tfidf_normalized_50000.joblib')"
   ]
  },
  {
   "cell_type": "code",
   "execution_count": 113,
   "metadata": {},
   "outputs": [
    {
     "name": "stdout",
     "output_type": "stream",
     "text": [
      "Logistic Regression (L2) com TF-IDF e N-grams normalizado:\n",
      "                             precision    recall  f1-score   support\n",
      "\n",
      "Bank Accounts and Services       0.87      0.87      0.87      1998\n",
      "      Credit Card Services       0.83      0.83      0.83      1950\n",
      "          Credit Reporting       0.81      0.82      0.82      2043\n",
      "           Debt Collection       0.79      0.78      0.78      1993\n",
      "                     Loans       0.86      0.85      0.85      2016\n",
      "\n",
      "                  accuracy                           0.83     10000\n",
      "                 macro avg       0.83      0.83      0.83     10000\n",
      "              weighted avg       0.83      0.83      0.83     10000\n",
      "\n",
      "Features ativas (L2): 10000\n"
     ]
    },
    {
     "data": {
      "text/plain": [
       "['logistic_regression_l2_ngrams_tfidf_normalized_50000.joblib']"
      ]
     },
     "execution_count": 113,
     "metadata": {},
     "output_type": "execute_result"
    }
   ],
   "source": [
    "# Logistic Regression com N-grams (normalizado)\n",
    "# L2 Regularization\n",
    "lr_l2 = LogisticRegression(penalty='l2', C=1.0, max_iter=1000, solver='liblinear')\n",
    "lr_l2.fit(X_train_ng_scaled, y_train_ng)\n",
    "y_pred_lr_l2 = lr_l2.predict(X_test_ng_scaled)\n",
    "print(\"Logistic Regression (L2) com TF-IDF e N-grams normalizado:\\n\", classification_report(y_test_ng, y_pred_lr_l2, zero_division=0))\n",
    "print(f\"Features ativas (L2): {(lr_l2.coef_ != 0).sum()}\")\n",
    "joblib.dump(lr_l2, 'logistic_regression_l2_ngrams_tfidf_normalized_50000.joblib')"
   ]
  },
  {
   "cell_type": "code",
   "execution_count": 114,
   "metadata": {},
   "outputs": [
    {
     "name": "stdout",
     "output_type": "stream",
     "text": [
      "Logistic Regression (L1) com TF-IDF e N-grams normalizado:\n",
      "                             precision    recall  f1-score   support\n",
      "\n",
      "Bank Accounts and Services       0.87      0.88      0.87      1998\n",
      "      Credit Card Services       0.83      0.83      0.83      1950\n",
      "          Credit Reporting       0.82      0.82      0.82      2043\n",
      "           Debt Collection       0.79      0.79      0.79      1993\n",
      "                     Loans       0.86      0.85      0.85      2016\n",
      "\n",
      "                  accuracy                           0.83     10000\n",
      "                 macro avg       0.83      0.83      0.83     10000\n",
      "              weighted avg       0.83      0.83      0.83     10000\n",
      "\n",
      "Features ativas (L1): 9732\n"
     ]
    },
    {
     "data": {
      "text/plain": [
       "['logistic_regression_l1_ngrams_tfidf_normalized_50000.joblib']"
      ]
     },
     "execution_count": 114,
     "metadata": {},
     "output_type": "execute_result"
    }
   ],
   "source": [
    "# L1 Regularization\n",
    "lr_l1 = LogisticRegression(penalty='l1', C=1.0, max_iter=1000, solver='liblinear')\n",
    "lr_l1.fit(X_train_ng_scaled, y_train_ng)\n",
    "y_pred_lr_l1 = lr_l1.predict(X_test_ng_scaled)\n",
    "print(\"Logistic Regression (L1) com TF-IDF e N-grams normalizado:\\n\", classification_report(y_test_ng, y_pred_lr_l1, zero_division=0))\n",
    "print(f\"Features ativas (L1): {(lr_l1.coef_ != 0).sum()}\")\n",
    "joblib.dump(lr_l1, 'logistic_regression_l1_ngrams_tfidf_normalized_50000.joblib')"
   ]
  },
  {
   "cell_type": "code",
   "execution_count": 115,
   "metadata": {},
   "outputs": [
    {
     "name": "stdout",
     "output_type": "stream",
     "text": [
      "Logistic Regression (Elastic Net) com TF-IDF e N-grams normalizado:\n",
      "                             precision    recall  f1-score   support\n",
      "\n",
      "Bank Accounts and Services       0.87      0.86      0.87      1998\n",
      "      Credit Card Services       0.81      0.81      0.81      1950\n",
      "          Credit Reporting       0.80      0.81      0.81      2043\n",
      "           Debt Collection       0.78      0.78      0.78      1993\n",
      "                     Loans       0.84      0.83      0.84      2016\n",
      "\n",
      "                  accuracy                           0.82     10000\n",
      "                 macro avg       0.82      0.82      0.82     10000\n",
      "              weighted avg       0.82      0.82      0.82     10000\n",
      "\n",
      "Features ativas (Elastic Net): 9982\n"
     ]
    },
    {
     "data": {
      "text/plain": [
       "['logistic_regression_elastic_ngrams_tfidf_normalized_50000.joblib']"
      ]
     },
     "execution_count": 115,
     "metadata": {},
     "output_type": "execute_result"
    }
   ],
   "source": [
    "# Elastic Net\n",
    "lr_elastic = LogisticRegression(penalty='elasticnet', l1_ratio=0.5, C=1.0, max_iter=1000, solver='saga', tol=1e-2)\n",
    "lr_elastic.fit(X_train_ng_scaled, y_train_ng)\n",
    "y_pred_lr_elastic = lr_elastic.predict(X_test_ng_scaled)\n",
    "print(\"Logistic Regression (Elastic Net) com TF-IDF e N-grams normalizado:\\n\", classification_report(y_test_ng, y_pred_lr_elastic, zero_division=0))\n",
    "print(f\"Features ativas (Elastic Net): {(lr_elastic.coef_ != 0).sum()}\")\n",
    "joblib.dump(lr_elastic, 'logistic_regression_elastic_ngrams_tfidf_normalized_50000.joblib')"
   ]
  },
  {
   "cell_type": "code",
   "execution_count": 116,
   "metadata": {},
   "outputs": [
    {
     "name": "stdout",
     "output_type": "stream",
     "text": [
      "Epoch 1/10 (SGD L2)\n",
      "Acurácia no teste após época 1: 0.7809\n",
      "Epoch 2/10 (SGD L2)\n",
      "Acurácia no teste após época 2: 0.7838\n",
      "Epoch 3/10 (SGD L2)\n",
      "Acurácia no teste após época 3: 0.7927\n",
      "Epoch 4/10 (SGD L2)\n",
      "Acurácia no teste após época 4: 0.7972\n",
      "Epoch 5/10 (SGD L2)\n",
      "Acurácia no teste após época 5: 0.7898\n",
      "Epoch 6/10 (SGD L2)\n",
      "Acurácia no teste após época 6: 0.7973\n",
      "Epoch 7/10 (SGD L2)\n",
      "Acurácia no teste após época 7: 0.7887\n",
      "Epoch 8/10 (SGD L2)\n",
      "Acurácia no teste após época 8: 0.7882\n",
      "Epoch 9/10 (SGD L2)\n",
      "Acurácia no teste após época 9: 0.7868\n",
      "Epoch 10/10 (SGD L2)\n",
      "Acurácia no teste após época 10: 0.8011\n",
      "SGD Classifier (L2) com TF-IDF e N-grams normalizado:\n",
      "                             precision    recall  f1-score   support\n",
      "\n",
      "Bank Accounts and Services       0.83      0.86      0.84      1998\n",
      "      Credit Card Services       0.80      0.76      0.78      1950\n",
      "          Credit Reporting       0.79      0.80      0.79      2043\n",
      "           Debt Collection       0.76      0.76      0.76      1993\n",
      "                     Loans       0.83      0.82      0.83      2016\n",
      "\n",
      "                  accuracy                           0.80     10000\n",
      "                 macro avg       0.80      0.80      0.80     10000\n",
      "              weighted avg       0.80      0.80      0.80     10000\n",
      "\n",
      "Features ativas (SGD L2): 10000\n"
     ]
    }
   ],
   "source": [
    "# SGD Classifier com N-grams (normalizado)\n",
    "# SGD com L2\n",
    "sgd_l2 = SGDClassifier(loss='log_loss', penalty='l2', alpha=0.0001, max_iter=1000, tol=1e-3, random_state=42, early_stopping=False)\n",
    "best_acc = 0\n",
    "for epoch in range(n_epochs):\n",
    "    print(f\"Epoch {epoch + 1}/{n_epochs} (SGD L2)\")\n",
    "    indices = np.random.permutation(X_train_ng.shape[0])\n",
    "    X_train_shuffled = X_train_ng[indices]\n",
    "    y_train_shuffled = y_train_ng.iloc[indices] if isinstance(y_train_ng, pd.Series) else y_train_ng[indices]\n",
    "    for start in range(0, X_train_ng.shape[0], batch_size):\n",
    "        end = min(start + batch_size, X_train_ng.shape[0])\n",
    "        X_batch = X_train_shuffled[start:end]\n",
    "        X_batch_scaled = scaler.transform(X_batch)\n",
    "        y_batch = y_train_shuffled[start:end]\n",
    "        if epoch == 0 and start == 0:\n",
    "            sgd_l2.partial_fit(X_batch_scaled, y_batch, classes=np.unique(y_train_ng))\n",
    "        else:\n",
    "            sgd_l2.partial_fit(X_batch_scaled, y_batch)\n",
    "    y_pred_sgd = sgd_l2.predict(X_test_ng_scaled)\n",
    "    acc = accuracy_score(y_test_ng, y_pred_sgd)\n",
    "    print(f\"Acurácia no teste após época {epoch + 1}: {acc:.4f}\")\n",
    "    if acc > best_acc:\n",
    "        best_acc = acc\n",
    "        joblib.dump(sgd_l2, 'sgd_l2_ngrams_tfidf_normalized_50000.joblib')\n",
    "print(\"SGD Classifier (L2) com TF-IDF e N-grams normalizado:\\n\", classification_report(y_test_ng, sgd_l2.predict(X_test_ng_scaled), zero_division=0))\n",
    "print(f\"Features ativas (SGD L2): {(sgd_l2.coef_ != 0).sum()}\")"
   ]
  },
  {
   "cell_type": "code",
   "execution_count": 117,
   "metadata": {},
   "outputs": [
    {
     "name": "stdout",
     "output_type": "stream",
     "text": [
      "Epoch 1/10 (SGD L1)\n",
      "Acurácia no teste após época 1: 0.8102\n",
      "Epoch 2/10 (SGD L1)\n",
      "Acurácia no teste após época 2: 0.8128\n",
      "Epoch 3/10 (SGD L1)\n",
      "Acurácia no teste após época 3: 0.8122\n",
      "Epoch 4/10 (SGD L1)\n",
      "Acurácia no teste após época 4: 0.8102\n",
      "Epoch 5/10 (SGD L1)\n",
      "Acurácia no teste após época 5: 0.8095\n",
      "Epoch 6/10 (SGD L1)\n",
      "Acurácia no teste após época 6: 0.8101\n",
      "Epoch 7/10 (SGD L1)\n",
      "Acurácia no teste após época 7: 0.8091\n",
      "Epoch 8/10 (SGD L1)\n",
      "Acurácia no teste após época 8: 0.8096\n",
      "Epoch 9/10 (SGD L1)\n",
      "Acurácia no teste após época 9: 0.8093\n",
      "Epoch 10/10 (SGD L1)\n",
      "Acurácia no teste após época 10: 0.8090\n",
      "SGD Classifier (L1) com TF-IDF e N-grams normalizado:\n",
      "                             precision    recall  f1-score   support\n",
      "\n",
      "Bank Accounts and Services       0.86      0.86      0.86      1998\n",
      "      Credit Card Services       0.79      0.81      0.80      1950\n",
      "          Credit Reporting       0.79      0.79      0.79      2043\n",
      "           Debt Collection       0.76      0.77      0.76      1993\n",
      "                     Loans       0.84      0.82      0.83      2016\n",
      "\n",
      "                  accuracy                           0.81     10000\n",
      "                 macro avg       0.81      0.81      0.81     10000\n",
      "              weighted avg       0.81      0.81      0.81     10000\n",
      "\n",
      "Features ativas (SGD L1): 9980\n"
     ]
    }
   ],
   "source": [
    "# SGD com L1\n",
    "sgd_l1 = SGDClassifier(loss='log_loss', penalty='l1', alpha=0.0001, max_iter=1000, tol=1e-3, random_state=42, early_stopping=False)\n",
    "best_acc = 0\n",
    "for epoch in range(n_epochs):\n",
    "    print(f\"Epoch {epoch + 1}/{n_epochs} (SGD L1)\")\n",
    "    indices = np.random.permutation(X_train_ng.shape[0])\n",
    "    X_train_shuffled = X_train_ng[indices]\n",
    "    y_train_shuffled = y_train_ng.iloc[indices] if isinstance(y_train_ng, pd.Series) else y_train_ng[indices]\n",
    "    for start in range(0, X_train_ng.shape[0], batch_size):\n",
    "        end = min(start + batch_size, X_train_ng.shape[0])\n",
    "        X_batch = X_train_shuffled[start:end]\n",
    "        X_batch_scaled = scaler.transform(X_batch)\n",
    "        y_batch = y_train_shuffled[start:end]\n",
    "        if epoch == 0 and start == 0:\n",
    "            sgd_l1.partial_fit(X_batch_scaled, y_batch, classes=np.unique(y_train_ng))\n",
    "        else:\n",
    "            sgd_l1.partial_fit(X_batch_scaled, y_batch)\n",
    "    y_pred_sgd = sgd_l1.predict(X_test_ng_scaled)\n",
    "    acc = accuracy_score(y_test_ng, y_pred_sgd)\n",
    "    print(f\"Acurácia no teste após época {epoch + 1}: {acc:.4f}\")\n",
    "    if acc > best_acc:\n",
    "        best_acc = acc\n",
    "        joblib.dump(sgd_l1, 'sgd_l1_ngrams_tfidf_normalized_50000.joblib')\n",
    "print(\"SGD Classifier (L1) com TF-IDF e N-grams normalizado:\\n\", classification_report(y_test_ng, sgd_l1.predict(X_test_ng_scaled), zero_division=0))\n",
    "print(f\"Features ativas (SGD L1): {(sgd_l1.coef_ != 0).sum()}\")"
   ]
  },
  {
   "cell_type": "code",
   "execution_count": 118,
   "metadata": {},
   "outputs": [
    {
     "name": "stdout",
     "output_type": "stream",
     "text": [
      "\n",
      "Dataset processado salvo como 'consumer_complaints_50000_original.csv'.\n"
     ]
    }
   ],
   "source": [
    "# Salvar dataset processado\n",
    "data_balanced.to_csv(\"consumer_complaints_50000_original.csv\", index=False)\n",
    "print(\"\\nDataset processado salvo como 'consumer_complaints_50000_original.csv'.\")"
   ]
  }
 ],
 "metadata": {
  "kernelspec": {
   "display_name": "Python 3",
   "language": "python",
   "name": "python3"
  },
  "language_info": {
   "codemirror_mode": {
    "name": "ipython",
    "version": 3
   },
   "file_extension": ".py",
   "mimetype": "text/x-python",
   "name": "python",
   "nbconvert_exporter": "python",
   "pygments_lexer": "ipython3",
   "version": "3.12.6"
  }
 },
 "nbformat": 4,
 "nbformat_minor": 2
}
