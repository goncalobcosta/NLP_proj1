{
 "cells": [
  {
   "cell_type": "code",
   "execution_count": 1,
   "metadata": {},
   "outputs": [
    {
     "name": "stderr",
     "output_type": "stream",
     "text": [
      "[nltk_data] Downloading package punkt to\n",
      "[nltk_data]     C:\\Users\\User\\AppData\\Roaming\\nltk_data...\n",
      "[nltk_data]   Package punkt is already up-to-date!\n",
      "[nltk_data] Downloading package punkt_tab to\n",
      "[nltk_data]     C:\\Users\\User\\AppData\\Roaming\\nltk_data...\n",
      "[nltk_data]   Package punkt_tab is already up-to-date!\n",
      "[nltk_data] Downloading package stopwords to\n",
      "[nltk_data]     C:\\Users\\User\\AppData\\Roaming\\nltk_data...\n",
      "[nltk_data]   Package stopwords is already up-to-date!\n"
     ]
    },
    {
     "data": {
      "text/plain": [
       "True"
      ]
     },
     "execution_count": 1,
     "metadata": {},
     "output_type": "execute_result"
    }
   ],
   "source": [
    "import pandas as pd\n",
    "import nltk\n",
    "import matplotlib.pyplot as plt\n",
    "import seaborn as sns\n",
    "from nltk.corpus import stopwords\n",
    "from collections import Counter\n",
    "from sklearn.feature_extraction.text import CountVectorizer, TfidfVectorizer\n",
    "from sklearn.model_selection import train_test_split\n",
    "from sklearn.naive_bayes import MultinomialNB\n",
    "from sklearn.metrics import classification_report, accuracy_score, f1_score\n",
    "from sklearn.linear_model import LogisticRegression\n",
    "from sklearn.preprocessing import StandardScaler\n",
    "from nltk.stem.porter import PorterStemmer\n",
    "from nltk.util import ngrams\n",
    "from nltk.tokenize import word_tokenize, regexp_tokenize\n",
    "import numpy as np\n",
    "import spacy\n",
    "from xgboost import XGBClassifier\n",
    "from sklearn.preprocessing import LabelEncoder\n",
    "from gensim.models import Word2Vec\n",
    "\n",
    "nltk.download('punkt')\n",
    "nltk.download('punkt_tab')\n",
    "nltk.download('stopwords')"
   ]
  },
  {
   "cell_type": "code",
   "execution_count": 2,
   "metadata": {},
   "outputs": [],
   "source": [
    "# Configurações gerais\n",
    "sns.set(style=\"whitegrid\")\n",
    "plt.rcParams[\"figure.figsize\"] = (12, 6)"
   ]
  },
  {
   "cell_type": "markdown",
   "metadata": {},
   "source": [
    "# 1. CARREGAR OS DADOS"
   ]
  },
  {
   "cell_type": "code",
   "execution_count": 3,
   "metadata": {},
   "outputs": [],
   "source": [
    "chunksize = 100000  # Processar em lotes de 100.000 linhas\n",
    "data_chunks = []\n",
    "for chunk in pd.read_csv('complaints.csv', chunksize=chunksize):\n",
    "    chunk = chunk.dropna()\n",
    "    data_chunks.append(chunk)\n",
    "data = pd.concat(data_chunks, ignore_index=True)"
   ]
  },
  {
   "cell_type": "markdown",
   "metadata": {},
   "source": [
    "## 1.1 Balancear (10.000 exemplos p/ classe)"
   ]
  },
  {
   "cell_type": "code",
   "execution_count": 4,
   "metadata": {},
   "outputs": [],
   "source": [
    "n_samples_per_class = 10000\n",
    "classes = data[\"product_5\"].unique()\n",
    "balanced_data = []\n",
    "\n",
    "for class_name in classes:\n",
    "    class_data = data[data[\"product_5\"] == class_name]\n",
    "    class_sample = class_data.sample(n=n_samples_per_class, random_state=42)\n",
    "    balanced_data.append(class_sample)"
   ]
  },
  {
   "cell_type": "code",
   "execution_count": 5,
   "metadata": {},
   "outputs": [
    {
     "name": "stdout",
     "output_type": "stream",
     "text": [
      "\n",
      "Distribuição das classes após seleção balanceada:\n",
      "product_5\n",
      "Credit Reporting              10000\n",
      "Debt Collection               10000\n",
      "Loans                         10000\n",
      "Bank Accounts and Services    10000\n",
      "Credit Card Services          10000\n",
      "Name: count, dtype: int64\n"
     ]
    }
   ],
   "source": [
    "# Concatenar os dados balanceados\n",
    "data_balanced = pd.concat(balanced_data, ignore_index=True)\n",
    "print(\"\\nDistribuição das classes após seleção balanceada:\")\n",
    "print(data_balanced[\"product_5\"].value_counts())"
   ]
  },
  {
   "cell_type": "code",
   "execution_count": 6,
   "metadata": {},
   "outputs": [
    {
     "name": "stdout",
     "output_type": "stream",
     "text": [
      "Tamanho da reclamação: 90  palavras.\n",
      "Classe: Credit Reporting\n",
      "Reclamação: '\n",
      " I was reviewing my consumer report and noticed these inquiries that does not belong to me. '.\n"
     ]
    }
   ],
   "source": [
    "# Guardar uma reclamação pequena\n",
    "complaint_index = None\n",
    "for complaint_index in range(50):\n",
    "    example_complaint = data[\"narrative\"].iloc[complaint_index]\n",
    "    if len(example_complaint) < 150:\n",
    "        print(\"Tamanho da reclamação:\", len(example_complaint), \" palavras.\")\n",
    "        print(\"Classe:\", data[\"product_5\"].iloc[complaint_index])\n",
    "        print(\"Reclamação: '\\n\", example_complaint, \"'.\")\n",
    "        break"
   ]
  },
  {
   "cell_type": "markdown",
   "metadata": {},
   "source": [
    "# 2. PRÉ-PROCESSAMENTO"
   ]
  },
  {
   "cell_type": "code",
   "execution_count": 7,
   "metadata": {},
   "outputs": [],
   "source": [
    "ps = PorterStemmer()\n",
    "nlp = spacy.load(\"en_core_web_sm\")\n",
    "sw = set(stopwords.words(\"english\"))"
   ]
  },
  {
   "cell_type": "code",
   "execution_count": 8,
   "metadata": {},
   "outputs": [],
   "source": [
    "REGEX_PATTERN = r'''(?x)  # Retirado do Notebook do Professor \"preprocessing.ipynb\"\n",
    "    (?:[A-Z]\\.)+         \n",
    "    | (?!x+\\b)\\w+(?:-\\w+)*  # Exclui palavras só com \"x\"\n",
    "    | \\$?\\d+(?:\\.\\d+)?%? \n",
    "    | \\.\\.\\.             \n",
    "    | [][.,;\"'?():-_`]  \n",
    "'''"
   ]
  },
  {
   "cell_type": "code",
   "execution_count": 9,
   "metadata": {},
   "outputs": [],
   "source": [
    "def preprocess_stemming(text):\n",
    "    tokens = regexp_tokenize(str(text).lower(), REGEX_PATTERN)\n",
    "    tokens = [ps.stem(w) for w in tokens if w not in sw]\n",
    "    return ' '.join(tokens)\n",
    "\n",
    "def preprocess_lemmatization(text):\n",
    "    tokens = regexp_tokenize(str(text).lower(), REGEX_PATTERN)\n",
    "    doc = nlp(' '.join(tokens))\n",
    "    tokens = [token.lemma_ for token in doc if token.text not in sw and token.is_alpha]\n",
    "    return ' '.join(tokens)"
   ]
  },
  {
   "cell_type": "code",
   "execution_count": 10,
   "metadata": {},
   "outputs": [],
   "source": [
    "# Dicionário com as configurações de pré-processamento de forma a verificar resultados\n",
    "preprocessing_configs = {\n",
    "    \"stemming\": (preprocess_stemming, \"consumer_complaints_stem_50000.csv\", \"processed_text_stem\"),\n",
    "    \"lemmatization\": (preprocess_lemmatization, \"consumer_complaints_lem_50000.csv\", \"processed_text_lem\")\n",
    "}"
   ]
  },
  {
   "cell_type": "code",
   "execution_count": 11,
   "metadata": {},
   "outputs": [],
   "source": [
    "# Aplicar pré-processamento para cada configuração\n",
    "for config_name, (preprocess_func, file_name, column_name) in preprocessing_configs.items():\n",
    "    corpus = [preprocess_func(review) for review in data_balanced[\"narrative\"]]\n",
    "    data_balanced[column_name] = corpus"
   ]
  },
  {
   "cell_type": "code",
   "execution_count": 12,
   "metadata": {},
   "outputs": [],
   "source": [
    "comparison_data = {\n",
    "    \"Original\": word_tokenize(example_complaint.lower()),\n",
    "    \"Stemming\": preprocess_stemming(example_complaint).split(),\n",
    "    \"Lemmatization\": preprocess_lemmatization(example_complaint).split()\n",
    "}"
   ]
  },
  {
   "cell_type": "code",
   "execution_count": 13,
   "metadata": {},
   "outputs": [
    {
     "name": "stdout",
     "output_type": "stream",
     "text": [
      "\n",
      "Comparação entre Stemming e Lemmatization:\n",
      "     Original Stemming Lemmatization\n",
      "0           i   review        review\n",
      "1         was   consum      consumer\n",
      "2   reviewing   report        report\n",
      "3          my    notic        notice\n",
      "4    consumer  inquiri       inquiry\n",
      "5      report   belong        belong\n",
      "6         and        .              \n",
      "7     noticed                       \n",
      "8       these                       \n",
      "9   inquiries                       \n",
      "10       that                       \n",
      "11       does                       \n",
      "12        not                       \n",
      "13     belong                       \n",
      "14         to                       \n",
      "15         me                       \n",
      "16          .                       \n"
     ]
    }
   ],
   "source": [
    "# Ajustar comprimentos para o DataFrame\n",
    "max_len = max(len(tokens) for tokens in comparison_data.values())\n",
    "for key in comparison_data:\n",
    "    comparison_data[key] += [''] * (max_len - len(comparison_data[key]))\n",
    "\n",
    "comparison_df = pd.DataFrame(comparison_data)\n",
    "print(\"\\nComparação entre Stemming e Lemmatization:\")\n",
    "print(comparison_df)"
   ]
  },
  {
   "cell_type": "markdown",
   "metadata": {},
   "source": [
    "# 3. EDA (Para steeming e lemmatization)"
   ]
  },
  {
   "cell_type": "code",
   "execution_count": 14,
   "metadata": {},
   "outputs": [],
   "source": [
    "# Função para realizar EDA num corpus\n",
    "def perform_eda(corpus, config_name):\n",
    "    \n",
    "    # a) Comprimento das reclamações\n",
    "    word_counts = corpus.apply(lambda x: len(str(x).split()))  # Split simples, pois o corpus já está tokenizado\n",
    "    print(\"\\nEstatísticas do Comprimento das Reclamações:\")\n",
    "    print(word_counts.describe())\n",
    "    \n",
    "    # Histograma com ajuste do eixo X\n",
    "    plt.figure()\n",
    "    sns.histplot(word_counts, bins=50, kde=True)\n",
    "    plt.title(f\"Distribuição do Comprimento das Reclamações ({config_name})\")\n",
    "    plt.xlabel(\"Número de Palavras\")\n",
    "    plt.ylabel(\"Frequência\")\n",
    "    xlim_max = word_counts.quantile(0.99)\n",
    "    plt.xlim(0, xlim_max)\n",
    "    plt.tight_layout()\n",
    "    plt.savefig(f\"word_count_distribution_{config_name.lower().replace(' ', '_')}.png\")\n",
    "    plt.show()\n",
    "    \n",
    "    # b) Análise de vocabulário com CountVectorizer\n",
    "    vectorizer = CountVectorizer(max_features=20, stop_words=list(sw))\n",
    "    X = vectorizer.fit_transform(corpus).toarray()\n",
    "    vocab = vectorizer.get_feature_names_out()\n",
    "    print(f\"\\nTop 20 Palavras no Vocabulário ({config_name}):\")\n",
    "    print(vocab)\n",
    "    \n",
    "    # c) N-gramas mais frequentes\n",
    "    bigram_counts = Counter()\n",
    "    batch_size = 10000\n",
    "    for i in range(0, len(corpus), batch_size):\n",
    "        batch_corpus = corpus[i:i + batch_size].astype(str).tolist()\n",
    "        for doc in batch_corpus:\n",
    "            tokens = doc.split()  # Tokens já estão stemmed ou lematizados\n",
    "            bigrams = ngrams(tokens, 2)\n",
    "            bigram_counts.update(bigrams)\n",
    "    \n",
    "    bigram_counts = bigram_counts.most_common(10)\n",
    "    print(f\"\\nTop 10 Bigramas Mais Frequentes ({config_name}):\")\n",
    "    for bigram, count in bigram_counts:\n",
    "        print(f\"{' '.join(bigram)}: {count}\")\n",
    "    \n",
    "    plt.figure()\n",
    "    bigram_labels = [\" \".join(bigram[0]) for bigram in bigram_counts]\n",
    "    bigram_values = [bigram[1] for bigram in bigram_counts]\n",
    "    sns.barplot(x=bigram_labels, y=bigram_values)\n",
    "    plt.title(f\"Top 10 Bigramas Mais Frequentes ({config_name})\")\n",
    "    plt.xlabel(\"Bigrama\")\n",
    "    plt.ylabel(\"Frequência\")\n",
    "    plt.xticks(rotation=45, ha=\"right\")\n",
    "    plt.tight_layout()\n",
    "    plt.savefig(f\"top_bigrams_{config_name.lower().replace(' ', '_')}.png\")\n",
    "    plt.show()\n",
    "    \n",
    "    return sw"
   ]
  },
  {
   "cell_type": "code",
   "execution_count": 15,
   "metadata": {},
   "outputs": [],
   "source": [
    "eda_results = {}"
   ]
  },
  {
   "cell_type": "markdown",
   "metadata": {},
   "source": [
    "### 3.1 Executar EDA para lemmatização"
   ]
  },
  {
   "cell_type": "code",
   "execution_count": 16,
   "metadata": {},
   "outputs": [
    {
     "name": "stdout",
     "output_type": "stream",
     "text": [
      "\n",
      "Estatísticas do Comprimento das Reclamações:\n",
      "count    50000.000000\n",
      "mean        88.824440\n",
      "std        107.606569\n",
      "min          0.000000\n",
      "25%         30.000000\n",
      "50%         59.000000\n",
      "75%        109.000000\n",
      "max       3608.000000\n",
      "Name: processed_text_lem, dtype: float64\n"
     ]
    },
    {
     "data": {
      "image/png": "[encoded data removed]",
      "text/plain": [
       "<Figure size 1200x600 with 1 Axes>"
      ]
     },
     "metadata": {},
     "output_type": "display_data"
    },
    {
     "name": "stdout",
     "output_type": "stream",
     "text": [
      "\n",
      "Top 20 Palavras no Vocabulário (Lemmatization):\n",
      "['account' 'bank' 'call' 'card' 'charge' 'credit' 'debt' 'get'\n",
      " 'information' 'loan' 'make' 'pay' 'payment' 'receive' 'report' 'say'\n",
      " 'send' 'tell' 'time' 'would']\n",
      "\n",
      "Top 10 Bigramas Mais Frequentes (Lemmatization):\n",
      "credit report: 17600\n",
      "credit card: 12542\n",
      "reporting agency: 6225\n",
      "wells fargo: 5969\n",
      "customer service: 5750\n",
      "credit reporting: 5658\n",
      "make payment: 5540\n",
      "u c: 5224\n",
      "capital one: 4846\n",
      "consumer reporting: 4747\n"
     ]
    },
    {
     "data": {
      "image/png": "[encoded data removed]",
      "text/plain": [
       "<Figure size 1200x600 with 1 Axes>"
      ]
     },
     "metadata": {},
     "output_type": "display_data"
    }
   ],
   "source": [
    "eda_results[\"Lemmatization\"] = perform_eda(data_balanced[\"processed_text_lem\"], \"Lemmatization\")"
   ]
  },
  {
   "cell_type": "markdown",
   "metadata": {},
   "source": [
    "### 3.2 Executar EDA para Stemming"
   ]
  },
  {
   "cell_type": "code",
   "execution_count": 17,
   "metadata": {},
   "outputs": [
    {
     "name": "stdout",
     "output_type": "stream",
     "text": [
      "\n",
      "Estatísticas do Comprimento das Reclamações:\n",
      "count    50000.000000\n",
      "mean       112.424500\n",
      "std        138.540453\n",
      "min          0.000000\n",
      "25%         38.000000\n",
      "50%         75.000000\n",
      "75%        137.000000\n",
      "max       4579.000000\n",
      "Name: processed_text_stem, dtype: float64\n"
     ]
    },
    {
     "data": {
      "image/png": "[encoded data removed]",
      "text/plain": [
       "<Figure size 1200x600 with 1 Axes>"
      ]
     },
     "metadata": {},
     "output_type": "display_data"
    },
    {
     "name": "stdout",
     "output_type": "stream",
     "text": [
      "\n",
      "Top 20 Palavras no Vocabulário (Stemming):\n",
      "['00' 'account' 'bank' 'call' 'card' 'charg' 'check' 'consum' 'credit'\n",
      " 'day' 'debt' 'inform' 'loan' 'payment' 'receiv' 'report' 'state' 'time'\n",
      " 'told' 'would']\n",
      "\n",
      "Top 10 Bigramas Mais Frequentes (Stemming):\n",
      "credit report: 23176\n",
      "account .: 16705\n",
      "( ): 14691\n",
      "' ': 13633\n",
      "credit card: 12521\n",
      ". .: 12491\n",
      ". call: 11922\n",
      ", ,: 10593\n",
      "report .: 10163\n",
      ". ,: 9809\n"
     ]
    },
    {
     "data": {
      "image/png": "[encoded data removed]",
      "text/plain": [
       "<Figure size 1200x600 with 1 Axes>"
      ]
     },
     "metadata": {},
     "output_type": "display_data"
    }
   ],
   "source": [
    "eda_results[\"Stemming\"] = perform_eda(data_balanced[\"processed_text_stem\"], \"Stemming\")"
   ]
  },
  {
   "cell_type": "markdown",
   "metadata": {},
   "source": [
    "# 4. ENCONTRAR O MELHOR N-GRAMA"
   ]
  },
  {
   "cell_type": "markdown",
   "metadata": {},
   "source": [
    "Com `Logistic Regression com L2` assumindo que esse será o melhor modelo."
   ]
  },
  {
   "cell_type": "code",
   "execution_count": 18,
   "metadata": {},
   "outputs": [],
   "source": [
    "ngram_ranges = [\n",
    "    (1, 1),  # Apenas unigramas\n",
    "    (1, 2),  # Unigramas e bigramas\n",
    "    (1, 3),  # Unigramas, bigramas e trigramas\n",
    "    (1, 4),  # Unigramas, bigramas, trigramas e quadrigramas\n",
    "    (2, 2),  # Apenas bigramas\n",
    "    (2, 3),  # Bigramas e trigramas\n",
    "    (3, 3),  # Apenas trigramas\n",
    "]"
   ]
  },
  {
   "cell_type": "code",
   "execution_count": 19,
   "metadata": {},
   "outputs": [],
   "source": [
    "best_ngrams = {}"
   ]
  },
  {
   "cell_type": "code",
   "execution_count": 20,
   "metadata": {},
   "outputs": [],
   "source": [
    "def find_best_ngram(config_name, column_name):\n",
    "    ngram_results = []\n",
    "    for ngram_range in ngram_ranges:\n",
    "        tfidf = TfidfVectorizer(max_features=4000, ngram_range=ngram_range, stop_words=list(sw))\n",
    "        X = tfidf.fit_transform(data_balanced[column_name])\n",
    "        y = data_balanced[\"product_5\"]\n",
    "        \n",
    "        X_train, X_test, y_train, y_test = train_test_split(X, y, test_size=0.2, random_state=42)\n",
    "        \n",
    "        lr_l2 = LogisticRegression(penalty='l2', C=1.0, max_iter=1000, solver='liblinear')\n",
    "        lr_l2.fit(X_train, y_train)\n",
    "        y_pred = lr_l2.predict(X_test)\n",
    "        \n",
    "        acc = accuracy_score(y_test, y_pred)\n",
    "        f1 = f1_score(y_test, y_pred, average='macro', zero_division=0)\n",
    "        \n",
    "        ngram_results.append({\n",
    "            \"N-gram Range\": ngram_range,\n",
    "            \"Accuracy\": acc,\n",
    "            \"F1-score (macro)\": f1\n",
    "        })\n",
    "    \n",
    "    ngram_results_df = pd.DataFrame(ngram_results)\n",
    "    print(f\"\\nResultados dos Testes de N-gramas para {config_name}:\")\n",
    "    print(ngram_results_df)\n",
    "    \n",
    "    best_ngram = ngram_results_df.loc[ngram_results_df[\"F1-score (macro)\"].idxmax()]\n",
    "    print(f\"\\nMelhor N-grama para {config_name}: {best_ngram['N-gram Range']}\")\n",
    "    print(f\"Accuracy: {best_ngram['Accuracy']:.4f}\")\n",
    "    print(f\"F1-score (macro): {best_ngram['F1-score (macro)']:.4f}\")\n",
    "    \n",
    "    return best_ngram[\"N-gram Range\"]"
   ]
  },
  {
   "cell_type": "markdown",
   "metadata": {},
   "source": [
    "### 4.1 Encontrar o Melhor N-grama para Lemmatization"
   ]
  },
  {
   "cell_type": "code",
   "execution_count": 21,
   "metadata": {},
   "outputs": [
    {
     "name": "stdout",
     "output_type": "stream",
     "text": [
      "\n",
      "Resultados dos Testes de N-gramas para lemmatization:\n",
      "  N-gram Range  Accuracy  F1-score (macro)\n",
      "0       (1, 1)    0.8536          0.853144\n",
      "1       (1, 2)    0.8520          0.851529\n",
      "2       (1, 3)    0.8516          0.851125\n",
      "3       (1, 4)    0.8531          0.852673\n",
      "4       (2, 2)    0.8054          0.804769\n",
      "5       (2, 3)    0.8004          0.799829\n",
      "6       (3, 3)    0.6463          0.650235\n",
      "\n",
      "Melhor N-grama para lemmatization: (1, 1)\n",
      "Accuracy: 0.8536\n",
      "F1-score (macro): 0.8531\n"
     ]
    }
   ],
   "source": [
    "column_name = preprocessing_configs[\"lemmatization\"][2]\n",
    "best_ngrams[\"lemmatization\"] = find_best_ngram(\"lemmatization\", column_name)"
   ]
  },
  {
   "cell_type": "markdown",
   "metadata": {},
   "source": [
    "### 4.2 Encontrar o Melhor N-grama para Stemming"
   ]
  },
  {
   "cell_type": "code",
   "execution_count": 22,
   "metadata": {},
   "outputs": [
    {
     "name": "stdout",
     "output_type": "stream",
     "text": [
      "\n",
      "Resultados dos Testes de N-gramas para stemming:\n",
      "  N-gram Range  Accuracy  F1-score (macro)\n",
      "0       (1, 1)    0.8516          0.851166\n",
      "1       (1, 2)    0.8529          0.852461\n",
      "2       (1, 3)    0.8528          0.852370\n",
      "3       (1, 4)    0.8525          0.852067\n",
      "4       (2, 2)    0.8052          0.804469\n",
      "5       (2, 3)    0.8014          0.800620\n",
      "6       (3, 3)    0.6495          0.653117\n",
      "\n",
      "Melhor N-grama para stemming: (1, 2)\n",
      "Accuracy: 0.8529\n",
      "F1-score (macro): 0.8525\n"
     ]
    }
   ],
   "source": [
    "column_name = preprocessing_configs[\"stemming\"][2]\n",
    "best_ngrams[\"stemming\"] = find_best_ngram(\"stemming\", column_name)"
   ]
  },
  {
   "cell_type": "markdown",
   "metadata": {},
   "source": [
    "# Embedings (Glove)"
   ]
  },
  {
   "cell_type": "code",
   "execution_count": 23,
   "metadata": {},
   "outputs": [],
   "source": [
    "def load_glove_embeddings(file_path):\n",
    "    embeddings = {}\n",
    "    with open(file_path, 'r', encoding='utf-8') as f:\n",
    "        for line in f:\n",
    "            values = line.strip().split()\n",
    "            word = values[0]\n",
    "            vector = np.array(values[1:], dtype='float32')\n",
    "            embeddings[word] = vector\n",
    "    print(f\"Carregados {len(embeddings)} embeddings GloVe.\")\n",
    "    return embeddings"
   ]
  },
  {
   "cell_type": "code",
   "execution_count": 24,
   "metadata": {},
   "outputs": [],
   "source": [
    "def glove_vectorize(corpus, glove_embeddings, embedding_dim=300):\n",
    "    \n",
    "    # Função interna para vetorizar um documento\n",
    "    def document_vector(doc):\n",
    "        words = doc.split()\n",
    "        word_vectors = [glove_embeddings[word] for word in words if word in glove_embeddings]\n",
    "        if len(word_vectors) == 0:\n",
    "            return np.zeros(embedding_dim)  # Retorna vetor zerado se nenhuma palavra for encontrada\n",
    "        return np.mean(word_vectors, axis=0)  # Média dos vetores das palavras\n",
    "    \n",
    "    # Vetorizar todos os documentos\n",
    "    X_glove = np.array([document_vector(doc) for doc in corpus])\n",
    "    print(f\"Tamanho do espaço de features com GloVe: {X_glove.shape[1]} dimensões\")\n",
    "    \n",
    "    return X_glove"
   ]
  },
  {
   "cell_type": "code",
   "execution_count": 26,
   "metadata": {},
   "outputs": [
    {
     "name": "stdout",
     "output_type": "stream",
     "text": [
      "Carregados 1917494 embeddings GloVe.\n"
     ]
    }
   ],
   "source": [
    "glove_path = \"glove.42B.300d.txt\"  # Ajuste o caminho conforme necessário\n",
    "glove_embeddings = load_glove_embeddings(glove_path)"
   ]
  },
  {
   "cell_type": "markdown",
   "metadata": {},
   "source": [
    "# 5. CLASSIFICADORES"
   ]
  },
  {
   "cell_type": "code",
   "execution_count": 27,
   "metadata": {},
   "outputs": [],
   "source": [
    "def train_and_evaluate_classifiers(X, y, config_name, vectorizer_type, use_naive_bayes=True):\n",
    "\n",
    "    X_train, X_test, y_train, y_test = train_test_split(X, y, test_size=0.2, random_state=42)\n",
    "\n",
    "    # Naive Bayes (não funciona com embedings porque é só com esparsas)\n",
    "    if use_naive_bayes:\n",
    "        nb = MultinomialNB()\n",
    "        nb.fit(X_train, y_train)\n",
    "        y_pred_nb = nb.predict(X_test)\n",
    "        print(f\"Naive Bayes ({vectorizer_type}):\\n\", classification_report(y_test, y_pred_nb, zero_division=0))\n",
    "\n",
    "    # Logistic Regression com L2\n",
    "    lr_l2 = LogisticRegression(penalty='l2', max_iter=1000, solver='liblinear')\n",
    "    lr_l2.fit(X_train, y_train)\n",
    "    y_pred_lr_l2 = lr_l2.predict(X_test)\n",
    "    print(f\"Logistic Regression (L2) ({vectorizer_type}):\\n\", classification_report(y_test, y_pred_lr_l2, zero_division=0))\n",
    "    print(f\"Features ativas (L2): {(lr_l2.coef_ != 0).sum()}\")\n",
    "\n",
    "    # XGBoost\n",
    "    le = LabelEncoder()\n",
    "    y_encoded = le.fit_transform(y)\n",
    "    X_train, X_test, y_train_enc, y_test_enc = train_test_split(X, y_encoded, test_size=0.2, random_state=42)\n",
    "\n",
    "    xgb = XGBClassifier(use_label_encoder=False, eval_metric='mlogloss', random_state=42)\n",
    "    xgb.fit(X_train, y_train_enc)\n",
    "    y_pred_xgb = xgb.predict(X_test)\n",
    "    y_pred_xgb_labels = le.inverse_transform(y_pred_xgb)\n",
    "    print(f\"XGBoost ({vectorizer_type}):\\n\", classification_report(y_test, y_pred_xgb_labels, zero_division=0))"
   ]
  },
  {
   "cell_type": "markdown",
   "metadata": {},
   "source": [
    "## 5.1 CLASSIFICADORES COM LEMMATIZATION"
   ]
  },
  {
   "cell_type": "code",
   "execution_count": 28,
   "metadata": {},
   "outputs": [],
   "source": [
    "config_name = \"lemmatization\"\n",
    "column_name = preprocessing_configs[config_name][2]\n",
    "best_ngram_range = best_ngrams[config_name]"
   ]
  },
  {
   "cell_type": "markdown",
   "metadata": {},
   "source": [
    "### Bag-of-Words com CountVectorizer"
   ]
  },
  {
   "cell_type": "code",
   "execution_count": 29,
   "metadata": {},
   "outputs": [
    {
     "name": "stdout",
     "output_type": "stream",
     "text": [
      "Naive Bayes (BoW):\n",
      "                             precision    recall  f1-score   support\n",
      "\n",
      "Bank Accounts and Services       0.86      0.90      0.88      1998\n",
      "      Credit Card Services       0.80      0.76      0.78      1950\n",
      "          Credit Reporting       0.72      0.81      0.76      2043\n",
      "           Debt Collection       0.81      0.68      0.74      1993\n",
      "                     Loans       0.84      0.86      0.85      2016\n",
      "\n",
      "                  accuracy                           0.80     10000\n",
      "                 macro avg       0.81      0.80      0.80     10000\n",
      "              weighted avg       0.81      0.80      0.80     10000\n",
      "\n",
      "Logistic Regression (L2) (BoW):\n",
      "                             precision    recall  f1-score   support\n",
      "\n",
      "Bank Accounts and Services       0.87      0.89      0.88      1998\n",
      "      Credit Card Services       0.82      0.81      0.81      1950\n",
      "          Credit Reporting       0.80      0.82      0.81      2043\n",
      "           Debt Collection       0.80      0.78      0.79      1993\n",
      "                     Loans       0.86      0.85      0.86      2016\n",
      "\n",
      "                  accuracy                           0.83     10000\n",
      "                 macro avg       0.83      0.83      0.83     10000\n",
      "              weighted avg       0.83      0.83      0.83     10000\n",
      "\n",
      "Features ativas (L2): 20000\n"
     ]
    },
    {
     "name": "stderr",
     "output_type": "stream",
     "text": [
      "c:\\Users\\User\\AppData\\Local\\Programs\\Python\\Python312\\Lib\\site-packages\\xgboost\\core.py:158: UserWarning: [20:48:10] WARNING: C:\\buildkite-agent\\builds\\buildkite-windows-cpu-autoscaling-group-i-0c55ff5f71b100e98-1\\xgboost\\xgboost-ci-windows\\src\\learner.cc:740: \n",
      "Parameters: { \"use_label_encoder\" } are not used.\n",
      "\n",
      "  warnings.warn(smsg, UserWarning)\n"
     ]
    },
    {
     "name": "stdout",
     "output_type": "stream",
     "text": [
      "XGBoost (BoW):\n",
      "                             precision    recall  f1-score   support\n",
      "\n",
      "Bank Accounts and Services       0.89      0.90      0.90      1998\n",
      "      Credit Card Services       0.84      0.83      0.84      1950\n",
      "          Credit Reporting       0.82      0.84      0.83      2043\n",
      "           Debt Collection       0.82      0.80      0.81      1993\n",
      "                     Loans       0.87      0.87      0.87      2016\n",
      "\n",
      "                  accuracy                           0.85     10000\n",
      "                 macro avg       0.85      0.85      0.85     10000\n",
      "              weighted avg       0.85      0.85      0.85     10000\n",
      "\n"
     ]
    }
   ],
   "source": [
    "vectorizer = CountVectorizer(max_features=4000, stop_words=list(sw))\n",
    "X = vectorizer.fit_transform(data_balanced[column_name])\n",
    "train_and_evaluate_classifiers(X, data_balanced[\"product_5\"], config_name, \"BoW\")"
   ]
  },
  {
   "cell_type": "markdown",
   "metadata": {},
   "source": [
    "### TF-IDF com o Melhor N-grama"
   ]
  },
  {
   "cell_type": "code",
   "execution_count": 30,
   "metadata": {},
   "outputs": [
    {
     "name": "stdout",
     "output_type": "stream",
     "text": [
      "Naive Bayes (TFIDF_Ngrams_(1, 1)):\n",
      "                             precision    recall  f1-score   support\n",
      "\n",
      "Bank Accounts and Services       0.84      0.92      0.87      1998\n",
      "      Credit Card Services       0.80      0.77      0.79      1950\n",
      "          Credit Reporting       0.76      0.80      0.78      2043\n",
      "           Debt Collection       0.81      0.72      0.76      1993\n",
      "                     Loans       0.86      0.86      0.86      2016\n",
      "\n",
      "                  accuracy                           0.81     10000\n",
      "                 macro avg       0.81      0.81      0.81     10000\n",
      "              weighted avg       0.81      0.81      0.81     10000\n",
      "\n",
      "Logistic Regression (L2) (TFIDF_Ngrams_(1, 1)):\n",
      "                             precision    recall  f1-score   support\n",
      "\n",
      "Bank Accounts and Services       0.88      0.92      0.90      1998\n",
      "      Credit Card Services       0.85      0.83      0.84      1950\n",
      "          Credit Reporting       0.82      0.83      0.82      2043\n",
      "           Debt Collection       0.84      0.80      0.82      1993\n",
      "                     Loans       0.87      0.89      0.88      2016\n",
      "\n",
      "                  accuracy                           0.85     10000\n",
      "                 macro avg       0.85      0.85      0.85     10000\n",
      "              weighted avg       0.85      0.85      0.85     10000\n",
      "\n",
      "Features ativas (L2): 20000\n"
     ]
    },
    {
     "name": "stderr",
     "output_type": "stream",
     "text": [
      "c:\\Users\\User\\AppData\\Local\\Programs\\Python\\Python312\\Lib\\site-packages\\xgboost\\core.py:158: UserWarning: [20:48:29] WARNING: C:\\buildkite-agent\\builds\\buildkite-windows-cpu-autoscaling-group-i-0c55ff5f71b100e98-1\\xgboost\\xgboost-ci-windows\\src\\learner.cc:740: \n",
      "Parameters: { \"use_label_encoder\" } are not used.\n",
      "\n",
      "  warnings.warn(smsg, UserWarning)\n"
     ]
    },
    {
     "name": "stdout",
     "output_type": "stream",
     "text": [
      "XGBoost (TFIDF_Ngrams_(1, 1)):\n",
      "                             precision    recall  f1-score   support\n",
      "\n",
      "Bank Accounts and Services       0.89      0.91      0.90      1998\n",
      "      Credit Card Services       0.85      0.83      0.84      1950\n",
      "          Credit Reporting       0.82      0.84      0.83      2043\n",
      "           Debt Collection       0.83      0.81      0.82      1993\n",
      "                     Loans       0.87      0.88      0.88      2016\n",
      "\n",
      "                  accuracy                           0.85     10000\n",
      "                 macro avg       0.85      0.85      0.85     10000\n",
      "              weighted avg       0.85      0.85      0.85     10000\n",
      "\n"
     ]
    }
   ],
   "source": [
    "tfidf_ngrams = TfidfVectorizer(max_features=4000, ngram_range=best_ngram_range, stop_words=list(sw))\n",
    "X_tfidf_ngrams = tfidf_ngrams.fit_transform(data_balanced[column_name])\n",
    "train_and_evaluate_classifiers(X_tfidf_ngrams, data_balanced[\"product_5\"], config_name, f\"TFIDF_Ngrams_{best_ngram_range}\")"
   ]
  },
  {
   "cell_type": "markdown",
   "metadata": {},
   "source": [
    "### TF-IDF com o Melhor N-grama e Normalização"
   ]
  },
  {
   "cell_type": "code",
   "execution_count": 31,
   "metadata": {},
   "outputs": [
    {
     "name": "stdout",
     "output_type": "stream",
     "text": [
      "Naive Bayes (TFIDF_Ngrams_Scaled_(1, 1)):\n",
      "                             precision    recall  f1-score   support\n",
      "\n",
      "Bank Accounts and Services       0.76      0.86      0.81      1998\n",
      "      Credit Card Services       0.72      0.69      0.70      1950\n",
      "          Credit Reporting       0.75      0.76      0.75      2043\n",
      "           Debt Collection       0.77      0.67      0.72      1993\n",
      "                     Loans       0.81      0.83      0.82      2016\n",
      "\n",
      "                  accuracy                           0.76     10000\n",
      "                 macro avg       0.76      0.76      0.76     10000\n",
      "              weighted avg       0.76      0.76      0.76     10000\n",
      "\n",
      "Logistic Regression (L2) (TFIDF_Ngrams_Scaled_(1, 1)):\n",
      "                             precision    recall  f1-score   support\n",
      "\n",
      "Bank Accounts and Services       0.81      0.83      0.82      1998\n",
      "      Credit Card Services       0.77      0.76      0.77      1950\n",
      "          Credit Reporting       0.79      0.77      0.78      2043\n",
      "           Debt Collection       0.77      0.76      0.76      1993\n",
      "                     Loans       0.80      0.82      0.81      2016\n",
      "\n",
      "                  accuracy                           0.79     10000\n",
      "                 macro avg       0.79      0.79      0.79     10000\n",
      "              weighted avg       0.79      0.79      0.79     10000\n",
      "\n",
      "Features ativas (L2): 20000\n"
     ]
    },
    {
     "name": "stderr",
     "output_type": "stream",
     "text": [
      "c:\\Users\\User\\AppData\\Local\\Programs\\Python\\Python312\\Lib\\site-packages\\xgboost\\core.py:158: UserWarning: [20:51:56] WARNING: C:\\buildkite-agent\\builds\\buildkite-windows-cpu-autoscaling-group-i-0c55ff5f71b100e98-1\\xgboost\\xgboost-ci-windows\\src\\learner.cc:740: \n",
      "Parameters: { \"use_label_encoder\" } are not used.\n",
      "\n",
      "  warnings.warn(smsg, UserWarning)\n"
     ]
    },
    {
     "name": "stdout",
     "output_type": "stream",
     "text": [
      "XGBoost (TFIDF_Ngrams_Scaled_(1, 1)):\n",
      "                             precision    recall  f1-score   support\n",
      "\n",
      "Bank Accounts and Services       0.89      0.91      0.90      1998\n",
      "      Credit Card Services       0.85      0.83      0.84      1950\n",
      "          Credit Reporting       0.82      0.84      0.83      2043\n",
      "           Debt Collection       0.83      0.81      0.82      1993\n",
      "                     Loans       0.87      0.88      0.88      2016\n",
      "\n",
      "                  accuracy                           0.85     10000\n",
      "                 macro avg       0.85      0.85      0.85     10000\n",
      "              weighted avg       0.85      0.85      0.85     10000\n",
      "\n"
     ]
    }
   ],
   "source": [
    "scaler = StandardScaler(with_mean=False)\n",
    "X_tfidf_ngrams_scaled = scaler.fit_transform(X_tfidf_ngrams)\n",
    "train_and_evaluate_classifiers(X_tfidf_ngrams_scaled, data_balanced[\"product_5\"], config_name, f\"TFIDF_Ngrams_Scaled_{best_ngram_range}\")"
   ]
  },
  {
   "cell_type": "markdown",
   "metadata": {},
   "source": [
    "### Embedings Glove (representação densa)"
   ]
  },
  {
   "cell_type": "code",
   "execution_count": 32,
   "metadata": {},
   "outputs": [
    {
     "name": "stdout",
     "output_type": "stream",
     "text": [
      "Tamanho do espaço de features com GloVe: 300 dimensões\n",
      "Logistic Regression (L2) (GloVe):\n",
      "                             precision    recall  f1-score   support\n",
      "\n",
      "Bank Accounts and Services       0.84      0.88      0.86      1998\n",
      "      Credit Card Services       0.81      0.78      0.79      1950\n",
      "          Credit Reporting       0.78      0.81      0.79      2043\n",
      "           Debt Collection       0.82      0.75      0.78      1993\n",
      "                     Loans       0.84      0.86      0.85      2016\n",
      "\n",
      "                  accuracy                           0.82     10000\n",
      "                 macro avg       0.82      0.82      0.82     10000\n",
      "              weighted avg       0.82      0.82      0.82     10000\n",
      "\n",
      "Features ativas (L2): 1500\n"
     ]
    },
    {
     "name": "stderr",
     "output_type": "stream",
     "text": [
      "c:\\Users\\User\\AppData\\Local\\Programs\\Python\\Python312\\Lib\\site-packages\\xgboost\\core.py:158: UserWarning: [20:55:07] WARNING: C:\\buildkite-agent\\builds\\buildkite-windows-cpu-autoscaling-group-i-0c55ff5f71b100e98-1\\xgboost\\xgboost-ci-windows\\src\\learner.cc:740: \n",
      "Parameters: { \"use_label_encoder\" } are not used.\n",
      "\n",
      "  warnings.warn(smsg, UserWarning)\n"
     ]
    },
    {
     "name": "stdout",
     "output_type": "stream",
     "text": [
      "XGBoost (GloVe):\n",
      "                             precision    recall  f1-score   support\n",
      "\n",
      "Bank Accounts and Services       0.84      0.86      0.85      1998\n",
      "      Credit Card Services       0.79      0.77      0.78      1950\n",
      "          Credit Reporting       0.81      0.84      0.82      2043\n",
      "           Debt Collection       0.80      0.78      0.79      1993\n",
      "                     Loans       0.84      0.84      0.84      2016\n",
      "\n",
      "                  accuracy                           0.82     10000\n",
      "                 macro avg       0.82      0.82      0.82     10000\n",
      "              weighted avg       0.82      0.82      0.82     10000\n",
      "\n"
     ]
    }
   ],
   "source": [
    "X_glove = glove_vectorize(data_balanced[column_name], glove_embeddings)\n",
    "train_and_evaluate_classifiers(X_glove, data_balanced[\"product_5\"], config_name, \"GloVe\", use_naive_bayes=False)"
   ]
  },
  {
   "cell_type": "markdown",
   "metadata": {},
   "source": [
    "## 5.2 CLASSIFICADORES COM STEMMING"
   ]
  },
  {
   "cell_type": "code",
   "execution_count": 33,
   "metadata": {},
   "outputs": [],
   "source": [
    "config_name = \"stemming\"\n",
    "column_name = preprocessing_configs[config_name][2]\n",
    "best_ngram_range = best_ngrams[config_name]"
   ]
  },
  {
   "cell_type": "markdown",
   "metadata": {},
   "source": [
    "### Bag-of-Words com CountVectorizer"
   ]
  },
  {
   "cell_type": "code",
   "execution_count": 34,
   "metadata": {},
   "outputs": [
    {
     "name": "stdout",
     "output_type": "stream",
     "text": [
      "Naive Bayes (BoW):\n",
      "                             precision    recall  f1-score   support\n",
      "\n",
      "Bank Accounts and Services       0.85      0.90      0.88      1998\n",
      "      Credit Card Services       0.79      0.75      0.77      1950\n",
      "          Credit Reporting       0.71      0.81      0.76      2043\n",
      "           Debt Collection       0.81      0.67      0.73      1993\n",
      "                     Loans       0.84      0.86      0.85      2016\n",
      "\n",
      "                  accuracy                           0.80     10000\n",
      "                 macro avg       0.80      0.80      0.80     10000\n",
      "              weighted avg       0.80      0.80      0.80     10000\n",
      "\n",
      "Logistic Regression (L2) (BoW):\n",
      "                             precision    recall  f1-score   support\n",
      "\n",
      "Bank Accounts and Services       0.86      0.88      0.87      1998\n",
      "      Credit Card Services       0.81      0.80      0.81      1950\n",
      "          Credit Reporting       0.79      0.81      0.80      2043\n",
      "           Debt Collection       0.79      0.78      0.78      1993\n",
      "                     Loans       0.86      0.84      0.85      2016\n",
      "\n",
      "                  accuracy                           0.82     10000\n",
      "                 macro avg       0.82      0.82      0.82     10000\n",
      "              weighted avg       0.82      0.82      0.82     10000\n",
      "\n",
      "Features ativas (L2): 20000\n"
     ]
    },
    {
     "name": "stderr",
     "output_type": "stream",
     "text": [
      "c:\\Users\\User\\AppData\\Local\\Programs\\Python\\Python312\\Lib\\site-packages\\xgboost\\core.py:158: UserWarning: [20:59:32] WARNING: C:\\buildkite-agent\\builds\\buildkite-windows-cpu-autoscaling-group-i-0c55ff5f71b100e98-1\\xgboost\\xgboost-ci-windows\\src\\learner.cc:740: \n",
      "Parameters: { \"use_label_encoder\" } are not used.\n",
      "\n",
      "  warnings.warn(smsg, UserWarning)\n"
     ]
    },
    {
     "name": "stdout",
     "output_type": "stream",
     "text": [
      "XGBoost (BoW):\n",
      "                             precision    recall  f1-score   support\n",
      "\n",
      "Bank Accounts and Services       0.89      0.91      0.90      1998\n",
      "      Credit Card Services       0.84      0.83      0.83      1950\n",
      "          Credit Reporting       0.81      0.83      0.82      2043\n",
      "           Debt Collection       0.83      0.79      0.81      1993\n",
      "                     Loans       0.87      0.88      0.87      2016\n",
      "\n",
      "                  accuracy                           0.85     10000\n",
      "                 macro avg       0.85      0.85      0.85     10000\n",
      "              weighted avg       0.85      0.85      0.85     10000\n",
      "\n"
     ]
    }
   ],
   "source": [
    "vectorizer = CountVectorizer(max_features=4000, stop_words=list(sw))\n",
    "X = vectorizer.fit_transform(data_balanced[column_name])\n",
    "train_and_evaluate_classifiers(X, data_balanced[\"product_5\"], config_name, \"BoW\")"
   ]
  },
  {
   "cell_type": "markdown",
   "metadata": {},
   "source": [
    "### TF-IDF com o Melhor N-grama"
   ]
  },
  {
   "cell_type": "code",
   "execution_count": 35,
   "metadata": {},
   "outputs": [
    {
     "name": "stdout",
     "output_type": "stream",
     "text": [
      "Naive Bayes (TFIDF_Ngrams_(1, 2)):\n",
      "                             precision    recall  f1-score   support\n",
      "\n",
      "Bank Accounts and Services       0.84      0.94      0.89      1998\n",
      "      Credit Card Services       0.82      0.79      0.80      1950\n",
      "          Credit Reporting       0.78      0.78      0.78      2043\n",
      "           Debt Collection       0.81      0.72      0.76      1993\n",
      "                     Loans       0.84      0.87      0.86      2016\n",
      "\n",
      "                  accuracy                           0.82     10000\n",
      "                 macro avg       0.82      0.82      0.82     10000\n",
      "              weighted avg       0.82      0.82      0.82     10000\n",
      "\n",
      "Logistic Regression (L2) (TFIDF_Ngrams_(1, 2)):\n",
      "                             precision    recall  f1-score   support\n",
      "\n",
      "Bank Accounts and Services       0.89      0.92      0.90      1998\n",
      "      Credit Card Services       0.85      0.83      0.84      1950\n",
      "          Credit Reporting       0.81      0.83      0.82      2043\n",
      "           Debt Collection       0.84      0.79      0.81      1993\n",
      "                     Loans       0.87      0.89      0.88      2016\n",
      "\n",
      "                  accuracy                           0.85     10000\n",
      "                 macro avg       0.85      0.85      0.85     10000\n",
      "              weighted avg       0.85      0.85      0.85     10000\n",
      "\n",
      "Features ativas (L2): 20000\n"
     ]
    },
    {
     "name": "stderr",
     "output_type": "stream",
     "text": [
      "c:\\Users\\User\\AppData\\Local\\Programs\\Python\\Python312\\Lib\\site-packages\\xgboost\\core.py:158: UserWarning: [21:00:03] WARNING: C:\\buildkite-agent\\builds\\buildkite-windows-cpu-autoscaling-group-i-0c55ff5f71b100e98-1\\xgboost\\xgboost-ci-windows\\src\\learner.cc:740: \n",
      "Parameters: { \"use_label_encoder\" } are not used.\n",
      "\n",
      "  warnings.warn(smsg, UserWarning)\n"
     ]
    },
    {
     "name": "stdout",
     "output_type": "stream",
     "text": [
      "XGBoost (TFIDF_Ngrams_(1, 2)):\n",
      "                             precision    recall  f1-score   support\n",
      "\n",
      "Bank Accounts and Services       0.89      0.91      0.90      1998\n",
      "      Credit Card Services       0.85      0.83      0.84      1950\n",
      "          Credit Reporting       0.82      0.84      0.83      2043\n",
      "           Debt Collection       0.83      0.80      0.81      1993\n",
      "                     Loans       0.87      0.88      0.87      2016\n",
      "\n",
      "                  accuracy                           0.85     10000\n",
      "                 macro avg       0.85      0.85      0.85     10000\n",
      "              weighted avg       0.85      0.85      0.85     10000\n",
      "\n"
     ]
    }
   ],
   "source": [
    "tfidf_ngrams = TfidfVectorizer(max_features=4000, ngram_range=best_ngram_range, stop_words=list(sw))\n",
    "X_tfidf_ngrams = tfidf_ngrams.fit_transform(data_balanced[column_name])\n",
    "train_and_evaluate_classifiers(X_tfidf_ngrams, data_balanced[\"product_5\"], config_name, f\"TFIDF_Ngrams_{best_ngram_range}\")"
   ]
  },
  {
   "cell_type": "markdown",
   "metadata": {},
   "source": [
    "### TF-IDF com o Melhor N-grama e Normalização"
   ]
  },
  {
   "cell_type": "code",
   "execution_count": 36,
   "metadata": {},
   "outputs": [
    {
     "name": "stdout",
     "output_type": "stream",
     "text": [
      "Naive Bayes (TFIDF_Ngrams_Scaled_(1, 2)):\n",
      "                             precision    recall  f1-score   support\n",
      "\n",
      "Bank Accounts and Services       0.82      0.91      0.86      1998\n",
      "      Credit Card Services       0.79      0.77      0.78      1950\n",
      "          Credit Reporting       0.79      0.74      0.76      2043\n",
      "           Debt Collection       0.77      0.72      0.75      1993\n",
      "                     Loans       0.82      0.86      0.84      2016\n",
      "\n",
      "                  accuracy                           0.80     10000\n",
      "                 macro avg       0.80      0.80      0.80     10000\n",
      "              weighted avg       0.80      0.80      0.80     10000\n",
      "\n",
      "Logistic Regression (L2) (TFIDF_Ngrams_Scaled_(1, 2)):\n",
      "                             precision    recall  f1-score   support\n",
      "\n",
      "Bank Accounts and Services       0.82      0.84      0.83      1998\n",
      "      Credit Card Services       0.78      0.77      0.77      1950\n",
      "          Credit Reporting       0.79      0.78      0.78      2043\n",
      "           Debt Collection       0.76      0.75      0.75      1993\n",
      "                     Loans       0.81      0.82      0.81      2016\n",
      "\n",
      "                  accuracy                           0.79     10000\n",
      "                 macro avg       0.79      0.79      0.79     10000\n",
      "              weighted avg       0.79      0.79      0.79     10000\n",
      "\n",
      "Features ativas (L2): 20000\n"
     ]
    },
    {
     "name": "stderr",
     "output_type": "stream",
     "text": [
      "c:\\Users\\User\\AppData\\Local\\Programs\\Python\\Python312\\Lib\\site-packages\\xgboost\\core.py:158: UserWarning: [21:04:39] WARNING: C:\\buildkite-agent\\builds\\buildkite-windows-cpu-autoscaling-group-i-0c55ff5f71b100e98-1\\xgboost\\xgboost-ci-windows\\src\\learner.cc:740: \n",
      "Parameters: { \"use_label_encoder\" } are not used.\n",
      "\n",
      "  warnings.warn(smsg, UserWarning)\n"
     ]
    },
    {
     "name": "stdout",
     "output_type": "stream",
     "text": [
      "XGBoost (TFIDF_Ngrams_Scaled_(1, 2)):\n",
      "                             precision    recall  f1-score   support\n",
      "\n",
      "Bank Accounts and Services       0.89      0.91      0.90      1998\n",
      "      Credit Card Services       0.85      0.83      0.84      1950\n",
      "          Credit Reporting       0.82      0.84      0.83      2043\n",
      "           Debt Collection       0.83      0.80      0.81      1993\n",
      "                     Loans       0.87      0.88      0.87      2016\n",
      "\n",
      "                  accuracy                           0.85     10000\n",
      "                 macro avg       0.85      0.85      0.85     10000\n",
      "              weighted avg       0.85      0.85      0.85     10000\n",
      "\n"
     ]
    }
   ],
   "source": [
    "scaler = StandardScaler(with_mean=False)\n",
    "X_tfidf_ngrams_scaled = scaler.fit_transform(X_tfidf_ngrams)\n",
    "train_and_evaluate_classifiers(X_tfidf_ngrams_scaled, data_balanced[\"product_5\"], config_name, f\"TFIDF_Ngrams_Scaled_{best_ngram_range}\")"
   ]
  },
  {
   "cell_type": "markdown",
   "metadata": {},
   "source": [
    "### Embedings Glove (representação densa)"
   ]
  },
  {
   "cell_type": "code",
   "execution_count": 37,
   "metadata": {},
   "outputs": [
    {
     "name": "stdout",
     "output_type": "stream",
     "text": [
      "Tamanho do espaço de features com GloVe: 300 dimensões\n",
      "Logistic Regression (L2) (GloVe):\n",
      "                             precision    recall  f1-score   support\n",
      "\n",
      "Bank Accounts and Services       0.84      0.88      0.86      1998\n",
      "      Credit Card Services       0.80      0.77      0.79      1950\n",
      "          Credit Reporting       0.77      0.79      0.78      2043\n",
      "           Debt Collection       0.81      0.73      0.77      1993\n",
      "                     Loans       0.82      0.86      0.84      2016\n",
      "\n",
      "                  accuracy                           0.81     10000\n",
      "                 macro avg       0.81      0.81      0.81     10000\n",
      "              weighted avg       0.81      0.81      0.81     10000\n",
      "\n",
      "Features ativas (L2): 1500\n"
     ]
    },
    {
     "name": "stderr",
     "output_type": "stream",
     "text": [
      "c:\\Users\\User\\AppData\\Local\\Programs\\Python\\Python312\\Lib\\site-packages\\xgboost\\core.py:158: UserWarning: [21:09:00] WARNING: C:\\buildkite-agent\\builds\\buildkite-windows-cpu-autoscaling-group-i-0c55ff5f71b100e98-1\\xgboost\\xgboost-ci-windows\\src\\learner.cc:740: \n",
      "Parameters: { \"use_label_encoder\" } are not used.\n",
      "\n",
      "  warnings.warn(smsg, UserWarning)\n"
     ]
    },
    {
     "name": "stdout",
     "output_type": "stream",
     "text": [
      "XGBoost (GloVe):\n",
      "                             precision    recall  f1-score   support\n",
      "\n",
      "Bank Accounts and Services       0.84      0.85      0.85      1998\n",
      "      Credit Card Services       0.79      0.77      0.78      1950\n",
      "          Credit Reporting       0.79      0.82      0.80      2043\n",
      "           Debt Collection       0.78      0.75      0.77      1993\n",
      "                     Loans       0.83      0.83      0.83      2016\n",
      "\n",
      "                  accuracy                           0.81     10000\n",
      "                 macro avg       0.81      0.81      0.81     10000\n",
      "              weighted avg       0.81      0.81      0.81     10000\n",
      "\n"
     ]
    }
   ],
   "source": [
    "X_glove = glove_vectorize(data_balanced[column_name], glove_embeddings)\n",
    "train_and_evaluate_classifiers(X_glove, data_balanced[\"product_5\"], config_name, \"GloVe\", use_naive_bayes=False)"
   ]
  }
 ],
 "metadata": {
  "kernelspec": {
   "display_name": "Python 3",
   "language": "python",
   "name": "python3"
  },
  "language_info": {
   "codemirror_mode": {
    "name": "ipython",
    "version": 3
   },
   "file_extension": ".py",
   "mimetype": "text/x-python",
   "name": "python",
   "nbconvert_exporter": "python",
   "pygments_lexer": "ipython3",
   "version": "3.12.6"
  }
 },
 "nbformat": 4,
 "nbformat_minor": 2
}
