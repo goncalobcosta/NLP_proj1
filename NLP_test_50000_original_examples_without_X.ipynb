{
 "cells": [
  {
   "cell_type": "code",
   "execution_count": 1,
   "metadata": {},
   "outputs": [],
   "source": [
    "import pandas as pd\n",
    "import nltk\n",
    "import matplotlib.pyplot as plt\n",
    "import seaborn as sns\n",
    "import re\n",
    "from nltk.corpus import stopwords\n",
    "from collections import Counter\n",
    "from sklearn.feature_extraction.text import CountVectorizer, TfidfVectorizer\n",
    "from sklearn.model_selection import train_test_split\n",
    "from sklearn.naive_bayes import MultinomialNB\n",
    "from sklearn.metrics import classification_report, accuracy_score, f1_score\n",
    "from sklearn.linear_model import LogisticRegression\n",
    "from sklearn.preprocessing import StandardScaler\n",
    "from nltk.stem.porter import PorterStemmer\n",
    "from nltk.util import ngrams\n",
    "from nltk.tokenize import word_tokenize, regexp_tokenize\n",
    "import os\n",
    "import joblib\n",
    "import numpy as np\n",
    "import spacy\n",
    "from xgboost import XGBClassifier\n",
    "from sklearn.preprocessing import LabelEncoder\n",
    "from gensim.models import Word2Vec"
   ]
  },
  {
   "cell_type": "code",
   "execution_count": 2,
   "metadata": {},
   "outputs": [
    {
     "name": "stdout",
     "output_type": "stream",
     "text": [
      "Tentar baixar 'punkt_tab'...\n",
      "Tentar baixar 'stopwords'...\n"
     ]
    },
    {
     "name": "stderr",
     "output_type": "stream",
     "text": [
      "[nltk_data] Downloading package punkt_tab to\n",
      "[nltk_data]     C:\\Users\\User\\AppData\\Roaming\\nltk_data...\n",
      "[nltk_data]   Package punkt_tab is already up-to-date!\n",
      "[nltk_data] Downloading package stopwords to\n",
      "[nltk_data]     C:\\Users\\User\\AppData\\Roaming\\nltk_data...\n",
      "[nltk_data]   Package stopwords is already up-to-date!\n"
     ]
    },
    {
     "data": {
      "text/plain": [
       "True"
      ]
     },
     "execution_count": 2,
     "metadata": {},
     "output_type": "execute_result"
    }
   ],
   "source": [
    "print(\"Tentar baixar 'punkt_tab'...\")\n",
    "nltk.download('punkt_tab')\n",
    "print(\"Tentar baixar 'stopwords'...\")\n",
    "nltk.download('stopwords')"
   ]
  },
  {
   "cell_type": "code",
   "execution_count": 3,
   "metadata": {},
   "outputs": [
    {
     "name": "stderr",
     "output_type": "stream",
     "text": [
      "[nltk_data] Downloading package punkt to\n",
      "[nltk_data]     C:\\Users\\User\\AppData\\Roaming\\nltk_data...\n",
      "[nltk_data]   Package punkt is already up-to-date!\n",
      "[nltk_data] Downloading package stopwords to\n",
      "[nltk_data]     C:\\Users\\User\\AppData\\Roaming\\nltk_data...\n",
      "[nltk_data]   Package stopwords is already up-to-date!\n"
     ]
    },
    {
     "data": {
      "text/plain": [
       "True"
      ]
     },
     "execution_count": 3,
     "metadata": {},
     "output_type": "execute_result"
    }
   ],
   "source": [
    "# Download do NLTK (só na primeira vez)\n",
    "nltk.download('punkt')\n",
    "nltk.download('stopwords')"
   ]
  },
  {
   "cell_type": "code",
   "execution_count": 4,
   "metadata": {},
   "outputs": [],
   "source": [
    "# Configurações gerais\n",
    "sns.set(style=\"whitegrid\")\n",
    "plt.rcParams[\"figure.figsize\"] = (12, 6)"
   ]
  },
  {
   "cell_type": "markdown",
   "metadata": {},
   "source": [
    "# 1. CARREGAR E ENTENDER OS DADOS"
   ]
  },
  {
   "cell_type": "code",
   "execution_count": 5,
   "metadata": {},
   "outputs": [
    {
     "name": "stdout",
     "output_type": "stream",
     "text": [
      "Carregar dataset completo em partes...\n",
      "Primeiras 5 linhas do dataset:\n",
      "   Unnamed: 0         product_5  \\\n",
      "0         234  Credit Reporting   \n",
      "1         240   Debt Collection   \n",
      "2         257  Credit Reporting   \n",
      "3         271  Credit Reporting   \n",
      "4         279  Credit Reporting   \n",
      "\n",
      "                                           narrative  \\\n",
      "0  Dear Possible Financial Inc you guyss aree rep...   \n",
      "1  XXXX XXXX XXXX ( debt collector ), sent my boy...   \n",
      "2  I been receiving alerts my information was fou...   \n",
      "3  Subject : Dispute of Inaccurate Information on...   \n",
      "4  Do you believe your company owns the promissor...   \n",
      "\n",
      "                                             Product Date received  \\\n",
      "0  Credit reporting or other personal consumer re...    2024-07-27   \n",
      "1                                    Debt collection    2024-07-27   \n",
      "2  Credit reporting or other personal consumer re...    2024-07-23   \n",
      "3  Credit reporting or other personal consumer re...    2024-07-27   \n",
      "4  Credit reporting or other personal consumer re...    2024-07-26   \n",
      "\n",
      "        Sub-product                                              Issue  \\\n",
      "0  Credit reporting               Incorrect information on your report   \n",
      "1     I do not know  Threatened to contact someone or share informa...   \n",
      "2  Credit reporting                        Improper use of your report   \n",
      "3  Credit reporting                        Improper use of your report   \n",
      "4  Credit reporting                        Improper use of your report   \n",
      "\n",
      "                                           Sub-issue                 Company  \\\n",
      "0                      Account information incorrect  Possible Financial Inc   \n",
      "1            Talked to a third-party about your debt      BlueChip Financial   \n",
      "2  Credit inquiries on your report that you don't...           FC HoldCo LLC   \n",
      "3      Reporting company used your report improperly           CORELOGIC INC   \n",
      "4      Reporting company used your report improperly           CORELOGIC INC   \n",
      "\n",
      "  State Timely response?  \n",
      "0    MI              Yes  \n",
      "1    TX              Yes  \n",
      "2    SC              Yes  \n",
      "3    GA              Yes  \n",
      "4    OH              Yes  \n",
      "\n",
      "Informações do dataset:\n",
      "<class 'pandas.core.frame.DataFrame'>\n",
      "RangeIndex: 1757155 entries, 0 to 1757154\n",
      "Data columns (total 11 columns):\n",
      " #   Column            Dtype \n",
      "---  ------            ----- \n",
      " 0   Unnamed: 0        int64 \n",
      " 1   product_5         object\n",
      " 2   narrative         object\n",
      " 3   Product           object\n",
      " 4   Date received     object\n",
      " 5   Sub-product       object\n",
      " 6   Issue             object\n",
      " 7   Sub-issue         object\n",
      " 8   Company           object\n",
      " 9   State             object\n",
      " 10  Timely response?  object\n",
      "dtypes: int64(1), object(10)\n",
      "memory usage: 147.5+ MB\n",
      "None\n"
     ]
    }
   ],
   "source": [
    "print(\"Carregar dataset completo em partes...\")\n",
    "chunksize = 100000  # Processar em lotes de 100.000 linhas\n",
    "data_chunks = []\n",
    "for chunk in pd.read_csv('complaints.csv', chunksize=chunksize):\n",
    "    chunk = chunk.dropna()\n",
    "    data_chunks.append(chunk)\n",
    "data = pd.concat(data_chunks, ignore_index=True)\n",
    "\n",
    "print(\"Primeiras 5 linhas do dataset:\")\n",
    "print(data.head())\n",
    "print(\"\\nInformações do dataset:\")\n",
    "print(data.info())"
   ]
  },
  {
   "cell_type": "code",
   "execution_count": 6,
   "metadata": {},
   "outputs": [
    {
     "name": "stdout",
     "output_type": "stream",
     "text": [
      "- Origem: Consumer Financial Protection Bureau (CFPB), EUA.\n",
      "- Periodo: de 2015-03-19 00:00:00 a 2024-07-31 00:00:00\n",
      "- Gênero: Reclamações textuais de consumidores sobre serviços financeiros.\n",
      "- Língua: Inglês.\n",
      "- Anotação: Rótulos ('Product') atribuídos pelos consumidores ao submeter reclamações.\n",
      "- Total de reclamações: 1757155\n",
      "- Colunas disponíveis: ['Unnamed: 0', 'product_5', 'narrative', 'Product', 'Date received', 'Sub-product', 'Issue', 'Sub-issue', 'Company', 'State', 'Timely response?']\n",
      "\n",
      "Total de reclamações: 1757155\n"
     ]
    }
   ],
   "source": [
    "# Características\n",
    "print(\"- Origem: Consumer Financial Protection Bureau (CFPB), EUA.\")\n",
    "data[\"Date received\"] = pd.to_datetime(data[\"Date received\"])\n",
    "print(f\"- Periodo: de {data['Date received'].min()} a {data['Date received'].max()}\")\n",
    "print(\"- Gênero: Reclamações textuais de consumidores sobre serviços financeiros.\")\n",
    "print(\"- Língua: Inglês.\")\n",
    "print(\"- Anotação: Rótulos ('Product') atribuídos pelos consumidores ao submeter reclamações.\")\n",
    "print(f\"- Total de reclamações: {len(data)}\")\n",
    "print(f\"- Colunas disponíveis: {list(data.columns)}\")\n",
    "print(f\"\\nTotal de reclamações: {len(data)}\")"
   ]
  },
  {
   "cell_type": "markdown",
   "metadata": {},
   "source": [
    "## 1.1 Seleção Balanceada: 10.000 exemplos por classe (total 50.000)"
   ]
  },
  {
   "cell_type": "code",
   "execution_count": 7,
   "metadata": {},
   "outputs": [],
   "source": [
    "n_samples_per_class = 10000\n",
    "classes = data[\"product_5\"].unique()\n",
    "balanced_data = []\n",
    "\n",
    "for class_name in classes:\n",
    "    class_data = data[data[\"product_5\"] == class_name]\n",
    "    class_sample = class_data.sample(n=n_samples_per_class, random_state=42)\n",
    "    balanced_data.append(class_sample)"
   ]
  },
  {
   "cell_type": "code",
   "execution_count": 8,
   "metadata": {},
   "outputs": [
    {
     "name": "stdout",
     "output_type": "stream",
     "text": [
      "\n",
      "Distribuição das classes após seleção balanceada:\n",
      "product_5\n",
      "Credit Reporting              10000\n",
      "Debt Collection               10000\n",
      "Loans                         10000\n",
      "Bank Accounts and Services    10000\n",
      "Credit Card Services          10000\n",
      "Name: count, dtype: int64\n",
      "Total de exemplos: 50000\n"
     ]
    }
   ],
   "source": [
    "# Concatenar os dados balanceados\n",
    "data_balanced = pd.concat(balanced_data, ignore_index=True)\n",
    "print(\"\\nDistribuição das classes após seleção balanceada:\")\n",
    "print(data_balanced[\"product_5\"].value_counts())\n",
    "print(f\"Total de exemplos: {len(data_balanced)}\")"
   ]
  },
  {
   "cell_type": "code",
   "execution_count": 9,
   "metadata": {},
   "outputs": [
    {
     "name": "stdout",
     "output_type": "stream",
     "text": [
      "Tamanho da reclamação: 90\n",
      "Classe: Credit Reporting\n",
      "\n",
      "Reclamação para exemplos:\n",
      " I was reviewing my consumer report and noticed these inquiries that does not belong to me.\n"
     ]
    }
   ],
   "source": [
    "# Encontrar uma reclamação pequena nas 20 primeiras reclamações para guardar como exemplo\n",
    "complaint_index = None\n",
    "for complaint_index in range(50):\n",
    "    example_complaint = data[\"narrative\"].iloc[complaint_index]\n",
    "    if len(example_complaint) < 150:\n",
    "        print(\"Tamanho da reclamação:\", len(example_complaint))\n",
    "        print(\"Classe:\", data[\"product_5\"].iloc[complaint_index])\n",
    "        print(\"\\nReclamação para exemplos:\\n\", example_complaint)\n",
    "        break"
   ]
  },
  {
   "cell_type": "markdown",
   "metadata": {},
   "source": [
    "# 2. PRÉ-PROCESSAMENTO"
   ]
  },
  {
   "cell_type": "code",
   "execution_count": 10,
   "metadata": {},
   "outputs": [],
   "source": [
    "ps = PorterStemmer()\n",
    "nlp = spacy.load(\"en_core_web_sm\")\n",
    "sw = set(stopwords.words(\"english\"))"
   ]
  },
  {
   "cell_type": "code",
   "execution_count": 11,
   "metadata": {},
   "outputs": [],
   "source": [
    "REGEX_PATTERN = r'''(?x)  # Retirado do Notebook do Professor \"preprocessing.ipynb\"\n",
    "    (?:[A-Z]\\.)+         \n",
    "    | (?!x+\\b)\\w+(?:-\\w+)*  # Exclui palavras só com \"x\"\n",
    "    | \\$?\\d+(?:\\.\\d+)?%? \n",
    "    | \\.\\.\\.             \n",
    "    | [][.,;\"'?():-_`]  \n",
    "'''"
   ]
  },
  {
   "cell_type": "code",
   "execution_count": 12,
   "metadata": {},
   "outputs": [],
   "source": [
    "# Funções de pré-processamento\n",
    "def preprocess_stemming(text):\n",
    "    tokens = regexp_tokenize(str(text).lower(), REGEX_PATTERN)\n",
    "    tokens = [ps.stem(w) for w in tokens if w not in sw]\n",
    "    return ' '.join(tokens)\n",
    "\n",
    "def preprocess_lemmatization(text):\n",
    "    tokens = regexp_tokenize(str(text).lower(), REGEX_PATTERN)\n",
    "    doc = nlp(' '.join(tokens))\n",
    "    tokens = [token.lemma_ for token in doc if token.text not in sw and token.is_alpha]\n",
    "    return ' '.join(tokens)"
   ]
  },
  {
   "cell_type": "code",
   "execution_count": 13,
   "metadata": {},
   "outputs": [],
   "source": [
    "# Dicionário com as configurações de pré-processamento de forma a verificar resultados\n",
    "preprocessing_configs = {\n",
    "    \"stemming\": (preprocess_stemming, \"consumer_complaints_stem_50000.csv\", \"processed_text_stem\"),\n",
    "    \"lemmatization\": (preprocess_lemmatization, \"consumer_complaints_lem_50000.csv\", \"processed_text_lem\")\n",
    "}"
   ]
  },
  {
   "cell_type": "code",
   "execution_count": 14,
   "metadata": {},
   "outputs": [
    {
     "name": "stdout",
     "output_type": "stream",
     "text": [
      "Corpus salvo como 'consumer_complaints_stem_50000.csv'.\n",
      "Corpus salvo como 'consumer_complaints_lem_50000.csv'.\n"
     ]
    }
   ],
   "source": [
    "# Aplicar pré-processamento para cada configuração\n",
    "for config_name, (preprocess_func, file_name, column_name) in preprocessing_configs.items():\n",
    "    corpus = [preprocess_func(review) for review in data_balanced[\"narrative\"]]\n",
    "    data_balanced[column_name] = corpus\n",
    "    data_balanced.to_csv(file_name, index=False)\n",
    "    print(f\"Corpus salvo como '{file_name}'.\")"
   ]
  },
  {
   "cell_type": "code",
   "execution_count": 15,
   "metadata": {},
   "outputs": [],
   "source": [
    "# Comparação de pré-processamento na primeira reclamação\n",
    "comparison_data = {\n",
    "    \"Original\": word_tokenize(example_complaint.lower()),\n",
    "    \"Stemming\": preprocess_stemming(example_complaint).split(),\n",
    "    \"Lemmatization\": preprocess_lemmatization(example_complaint).split()\n",
    "}"
   ]
  },
  {
   "cell_type": "code",
   "execution_count": 16,
   "metadata": {},
   "outputs": [
    {
     "name": "stdout",
     "output_type": "stream",
     "text": [
      "\n",
      "Comparação entre Stemming e Lemmatization:\n",
      "     Original Stemming Lemmatization\n",
      "0           i   review        review\n",
      "1         was   consum      consumer\n",
      "2   reviewing   report        report\n",
      "3          my    notic        notice\n",
      "4    consumer  inquiri       inquiry\n",
      "5      report   belong        belong\n",
      "6         and        .              \n",
      "7     noticed                       \n",
      "8       these                       \n",
      "9   inquiries                       \n",
      "10       that                       \n",
      "11       does                       \n",
      "12        not                       \n",
      "13     belong                       \n",
      "14         to                       \n",
      "15         me                       \n",
      "16          .                       \n",
      "\n",
      "Comparação salva em 'preprocessing_comparison.csv'\n"
     ]
    }
   ],
   "source": [
    "# Ajustar comprimentos para o DataFrame\n",
    "max_len = max(len(tokens) for tokens in comparison_data.values())\n",
    "for key in comparison_data:\n",
    "    comparison_data[key] += [''] * (max_len - len(comparison_data[key]))\n",
    "\n",
    "comparison_df = pd.DataFrame(comparison_data)\n",
    "print(\"\\nComparação entre Stemming e Lemmatization:\")\n",
    "print(comparison_df)\n",
    "comparison_df.to_csv(\"preprocessing_comparison.csv\", index=False)\n",
    "print(\"\\nComparação salva em 'preprocessing_comparison.csv'\")"
   ]
  },
  {
   "cell_type": "markdown",
   "metadata": {},
   "source": [
    "# 3. ANÁLISE EXPLORATÓRIA DOS DADOS (EDA)"
   ]
  },
  {
   "cell_type": "code",
   "execution_count": 17,
   "metadata": {},
   "outputs": [],
   "source": [
    "# Função para realizar EDA num corpus\n",
    "def perform_eda(corpus, config_name):\n",
    "    # Substituir NaN por string vazia para evitar erros no CountVectorizer\n",
    "    corpus = corpus.fillna('')  # Garante que todos os valores sejam strings\n",
    "    \n",
    "    # a) Comprimento das reclamações\n",
    "    word_counts = corpus.apply(lambda x: len(str(x).split()))  # Split simples, pois o corpus já está tokenizado\n",
    "    print(\"\\nEstatísticas do Comprimento das Reclamações:\")\n",
    "    print(word_counts.describe())\n",
    "    \n",
    "    # Histograma com ajuste do eixo X\n",
    "    plt.figure()\n",
    "    sns.histplot(word_counts, bins=50, kde=True)\n",
    "    plt.title(f\"Distribuição do Comprimento das Reclamações ({config_name})\")\n",
    "    plt.xlabel(\"Número de Palavras\")\n",
    "    plt.ylabel(\"Frequência\")\n",
    "    xlim_max = word_counts.quantile(0.99)\n",
    "    plt.xlim(0, xlim_max)\n",
    "    plt.tight_layout()\n",
    "    plt.savefig(f\"word_count_distribution_{config_name.lower().replace(' ', '_')}.png\")\n",
    "    plt.show()\n",
    "    \n",
    "    # b) Análise de vocabulário com CountVectorizer\n",
    "    vectorizer = CountVectorizer(max_features=20, stop_words=list(sw))\n",
    "    X = vectorizer.fit_transform(corpus).toarray()\n",
    "    vocab = vectorizer.get_feature_names_out()\n",
    "    print(f\"\\nTop 20 Palavras no Vocabulário ({config_name}):\")\n",
    "    print(vocab)\n",
    "    custom_stopwords = sw\n",
    "    \n",
    "    # c) N-gramas mais frequentes\n",
    "    bigram_counts = Counter()\n",
    "    batch_size = 10000\n",
    "    for i in range(0, len(corpus), batch_size):\n",
    "        batch_corpus = corpus[i:i + batch_size].astype(str).tolist()\n",
    "        for doc in batch_corpus:\n",
    "            tokens = doc.split()  # Tokens já estão stemmed ou lematizados\n",
    "            bigrams = ngrams(tokens, 2)\n",
    "            bigram_counts.update(bigrams)\n",
    "    \n",
    "    bigram_counts = bigram_counts.most_common(10)\n",
    "    print(f\"\\nTop 10 Bigramas Mais Frequentes ({config_name}):\")\n",
    "    for bigram, count in bigram_counts:\n",
    "        print(f\"{' '.join(bigram)}: {count}\")\n",
    "    \n",
    "    plt.figure()\n",
    "    bigram_labels = [\" \".join(bigram[0]) for bigram in bigram_counts]\n",
    "    bigram_values = [bigram[1] for bigram in bigram_counts]\n",
    "    sns.barplot(x=bigram_labels, y=bigram_values)\n",
    "    plt.title(f\"Top 10 Bigramas Mais Frequentes ({config_name})\")\n",
    "    plt.xlabel(\"Bigrama\")\n",
    "    plt.ylabel(\"Frequência\")\n",
    "    plt.xticks(rotation=45, ha=\"right\")\n",
    "    plt.tight_layout()\n",
    "    plt.savefig(f\"top_bigrams_{config_name.lower().replace(' ', '_')}.png\")\n",
    "    plt.show()\n",
    "    \n",
    "    return custom_stopwords"
   ]
  },
  {
   "cell_type": "code",
   "execution_count": 18,
   "metadata": {},
   "outputs": [
    {
     "name": "stdout",
     "output_type": "stream",
     "text": [
      "\n",
      "Estatísticas do Comprimento das Reclamações:\n",
      "count    50000.000000\n",
      "mean       112.424500\n",
      "std        138.540453\n",
      "min          0.000000\n",
      "25%         38.000000\n",
      "50%         75.000000\n",
      "75%        137.000000\n",
      "max       4579.000000\n",
      "Name: processed_text_stem, dtype: float64\n"
     ]
    },
    {
     "data": {
      "image/png": "[encoded data removed]",
      "text/plain": [
       "<Figure size 1200x600 with 1 Axes>"
      ]
     },
     "metadata": {},
     "output_type": "display_data"
    },
    {
     "name": "stdout",
     "output_type": "stream",
     "text": [
      "\n",
      "Top 20 Palavras no Vocabulário (stemming):\n",
      "['00' 'account' 'bank' 'call' 'card' 'charg' 'check' 'consum' 'credit'\n",
      " 'day' 'debt' 'inform' 'loan' 'payment' 'receiv' 'report' 'state' 'time'\n",
      " 'told' 'would']\n",
      "\n",
      "Top 10 Bigramas Mais Frequentes (stemming):\n",
      "credit report: 23176\n",
      "account .: 16705\n",
      "( ): 14691\n",
      "' ': 13633\n",
      "credit card: 12521\n",
      ". .: 12491\n",
      ". call: 11922\n",
      ", ,: 10593\n",
      "report .: 10163\n",
      ". ,: 9809\n"
     ]
    },
    {
     "data": {
      "image/png": "[encoded data removed]",
      "text/plain": [
       "<Figure size 1200x600 with 1 Axes>"
      ]
     },
     "metadata": {},
     "output_type": "display_data"
    },
    {
     "name": "stdout",
     "output_type": "stream",
     "text": [
      "\n",
      "Estatísticas do Comprimento das Reclamações:\n",
      "count    50000.000000\n",
      "mean        88.824440\n",
      "std        107.606569\n",
      "min          0.000000\n",
      "25%         30.000000\n",
      "50%         59.000000\n",
      "75%        109.000000\n",
      "max       3608.000000\n",
      "Name: processed_text_lem, dtype: float64\n"
     ]
    },
    {
     "data": {
      "image/png": "[encoded data removed]",
      "text/plain": [
       "<Figure size 1200x600 with 1 Axes>"
      ]
     },
     "metadata": {},
     "output_type": "display_data"
    },
    {
     "name": "stdout",
     "output_type": "stream",
     "text": [
      "\n",
      "Top 20 Palavras no Vocabulário (lemmatization):\n",
      "['account' 'bank' 'call' 'card' 'charge' 'credit' 'debt' 'get'\n",
      " 'information' 'loan' 'make' 'pay' 'payment' 'receive' 'report' 'say'\n",
      " 'send' 'tell' 'time' 'would']\n",
      "\n",
      "Top 10 Bigramas Mais Frequentes (lemmatization):\n",
      "credit report: 17600\n",
      "credit card: 12542\n",
      "reporting agency: 6225\n",
      "wells fargo: 5969\n",
      "customer service: 5750\n",
      "credit reporting: 5658\n",
      "make payment: 5540\n",
      "u c: 5224\n",
      "capital one: 4846\n",
      "consumer reporting: 4747\n"
     ]
    },
    {
     "data": {
      "image/png": "[encoded data removed]",
      "text/plain": [
       "<Figure size 1200x600 with 1 Axes>"
      ]
     },
     "metadata": {},
     "output_type": "display_data"
    }
   ],
   "source": [
    "# Executar EDA para cada configuração\n",
    "eda_results = {}\n",
    "for config_name, (_, _, column_name) in preprocessing_configs.items():\n",
    "    custom_stopwords = perform_eda(data_balanced[column_name], config_name)\n",
    "    eda_results[config_name] = custom_stopwords"
   ]
  },
  {
   "cell_type": "markdown",
   "metadata": {},
   "source": [
    "# 4. ENCONTRAR O MELHOR N-GRAMA"
   ]
  },
  {
   "cell_type": "code",
   "execution_count": null,
   "metadata": {},
   "outputs": [],
   "source": [
    "# Definir os intervalos de N-gramas a testar\n",
    "ngram_ranges = [\n",
    "    (1, 1),  # Apenas unigramas\n",
    "    (1, 2),  # Unigramas e bigramas\n",
    "    (1, 3),  # Unigramas, bigramas e trigramas\n",
    "    (1, 4),  # Unigramas, bigramas, trigramas e quadrigramas\n",
    "    (2, 2),  # Apenas bigramas\n",
    "    (2, 3),  # Bigramas e trigramas\n",
    "    (3, 3),  # Apenas trigramas\n",
    "]\n",
    "\n",
    "# Resultados\n",
    "best_ngrams = {}\n",
    "\n",
    "# Função para testar N-gramas e encontrar o melhor\n",
    "def find_best_ngram(config_name, column_name, custom_stopwords):\n",
    "    print(f\"\\n#### Testar N-gramas para {config_name} ####\")\n",
    "    ngram_results = []\n",
    "    \n",
    "    # Loop para testar diferentes N-gramas\n",
    "    for ngram_range in ngram_ranges:\n",
    "        print(f\"\\nTestar N-gramas com intervalo {ngram_range}...\")\n",
    "        \n",
    "        # Criar o vetorizador TF-IDF com o intervalo de N-gramas atual\n",
    "        tfidf = TfidfVectorizer(max_features=4000, ngram_range=ngram_range, stop_words=list(custom_stopwords))\n",
    "        X = tfidf.fit_transform(data_balanced[column_name])\n",
    "        y = data_balanced[\"product_5\"]\n",
    "        \n",
    "        # Divisão treino/teste\n",
    "        X_train, X_test, y_train, y_test = train_test_split(X, y, test_size=0.2, random_state=42)\n",
    "        \n",
    "        # Treinar o classificador (Logistic Regression com L2)\n",
    "        lr_l2 = LogisticRegression(penalty='l2', C=1.0, max_iter=1000, solver='liblinear')\n",
    "        lr_l2.fit(X_train, y_train)\n",
    "        y_pred = lr_l2.predict(X_test)\n",
    "        \n",
    "        # Calcular accuracy e F1-score (média macro)\n",
    "        acc = accuracy_score(y_test, y_pred)\n",
    "        f1 = f1_score(y_test, y_pred, average='macro', zero_division=0)\n",
    "        \n",
    "        print(f\"accuracy: {acc:.4f}\")\n",
    "        print(f\"F1-score (macro): {f1:.4f}\")\n",
    "        \n",
    "        # Salvar os resultados\n",
    "        ngram_results.append({\n",
    "            \"N-gram Range\": ngram_range,\n",
    "            \"Accuracy\": acc,\n",
    "            \"F1-score (macro)\": f1\n",
    "        })\n",
    "    \n",
    "    # Exibir os resultados em um DataFrame\n",
    "    ngram_results_df = pd.DataFrame(ngram_results)\n",
    "    print(f\"\\n### Resultados dos Testes de N-gramas para {config_name} ###\")\n",
    "    print(ngram_results_df)\n",
    "    \n",
    "    # Identificar o melhor N-grama\n",
    "    best_ngram = ngram_results_df.loc[ngram_results_df[\"F1-score (macro)\"].idxmax()]\n",
    "    print(f\"\\nMelhor N-grama para {config_name}: {best_ngram['N-gram Range']}\")\n",
    "    print(f\"accuracy: {best_ngram['Accuracy']:.4f}\")\n",
    "    print(f\"F1-score (macro): {best_ngram['F1-score (macro)']:.4f}\")\n",
    "    \n",
    "    # Salvar os resultados\n",
    "    ngram_results_df.to_csv(f\"ngram_test_results_{config_name}.csv\", index=False)\n",
    "    print(f\"\\nResultados dos testes de N-gramas salvos em 'ngram_test_results_{config_name}.csv'.\")\n",
    "    \n",
    "    return best_ngram[\"N-gram Range\"]"
   ]
  },
  {
   "cell_type": "markdown",
   "metadata": {},
   "source": [
    "## 4.1 Encontrar o Melhor N-grama para Lemmatization"
   ]
  },
  {
   "cell_type": "code",
   "execution_count": 20,
   "metadata": {},
   "outputs": [
    {
     "name": "stdout",
     "output_type": "stream",
     "text": [
      "\n",
      "#### Testar N-gramas para lemmatization ####\n",
      "\n",
      "Testar N-gramas com intervalo (1, 1)...\n",
      "Acurácia: 0.8536\n",
      "F1-score (macro): 0.8531\n",
      "\n",
      "Testar N-gramas com intervalo (1, 2)...\n",
      "Acurácia: 0.8520\n",
      "F1-score (macro): 0.8515\n",
      "\n",
      "Testar N-gramas com intervalo (1, 3)...\n",
      "Acurácia: 0.8516\n",
      "F1-score (macro): 0.8511\n",
      "\n",
      "Testar N-gramas com intervalo (1, 4)...\n",
      "Acurácia: 0.8531\n",
      "F1-score (macro): 0.8527\n",
      "\n",
      "Testar N-gramas com intervalo (2, 2)...\n",
      "Acurácia: 0.8054\n",
      "F1-score (macro): 0.8048\n",
      "\n",
      "Testar N-gramas com intervalo (2, 3)...\n",
      "Acurácia: 0.8004\n",
      "F1-score (macro): 0.7998\n",
      "\n",
      "Testar N-gramas com intervalo (3, 3)...\n",
      "Acurácia: 0.6463\n",
      "F1-score (macro): 0.6502\n",
      "\n",
      "### Resultados dos Testes de N-gramas para lemmatization ###\n",
      "  N-gram Range  Accuracy  F1-score (macro)\n",
      "0       (1, 1)    0.8536          0.853144\n",
      "1       (1, 2)    0.8520          0.851529\n",
      "2       (1, 3)    0.8516          0.851125\n",
      "3       (1, 4)    0.8531          0.852673\n",
      "4       (2, 2)    0.8054          0.804769\n",
      "5       (2, 3)    0.8004          0.799829\n",
      "6       (3, 3)    0.6463          0.650235\n",
      "\n",
      "Melhor N-grama para lemmatization: (1, 1)\n",
      "Acurácia: 0.8536\n",
      "F1-score (macro): 0.8531\n",
      "\n",
      "Resultados dos testes de N-gramas salvos em 'ngram_test_results_lemmatization.csv'.\n"
     ]
    }
   ],
   "source": [
    "config_name = \"lemmatization\"\n",
    "column_name = preprocessing_configs[config_name][2]\n",
    "custom_stopwords = eda_results[config_name]\n",
    "best_ngrams[config_name] = find_best_ngram(config_name, column_name, custom_stopwords)"
   ]
  },
  {
   "cell_type": "markdown",
   "metadata": {},
   "source": [
    "## 4.2 Encontrar o Melhor N-grama para Stemming"
   ]
  },
  {
   "cell_type": "code",
   "execution_count": 21,
   "metadata": {},
   "outputs": [
    {
     "name": "stdout",
     "output_type": "stream",
     "text": [
      "\n",
      "#### Testar N-gramas para stemming ####\n",
      "\n",
      "Testar N-gramas com intervalo (1, 1)...\n",
      "Acurácia: 0.8516\n",
      "F1-score (macro): 0.8512\n",
      "\n",
      "Testar N-gramas com intervalo (1, 2)...\n",
      "Acurácia: 0.8529\n",
      "F1-score (macro): 0.8525\n",
      "\n",
      "Testar N-gramas com intervalo (1, 3)...\n",
      "Acurácia: 0.8528\n",
      "F1-score (macro): 0.8524\n",
      "\n",
      "Testar N-gramas com intervalo (1, 4)...\n",
      "Acurácia: 0.8525\n",
      "F1-score (macro): 0.8521\n",
      "\n",
      "Testar N-gramas com intervalo (2, 2)...\n",
      "Acurácia: 0.8052\n",
      "F1-score (macro): 0.8045\n",
      "\n",
      "Testar N-gramas com intervalo (2, 3)...\n",
      "Acurácia: 0.8014\n",
      "F1-score (macro): 0.8006\n",
      "\n",
      "Testar N-gramas com intervalo (3, 3)...\n",
      "Acurácia: 0.6495\n",
      "F1-score (macro): 0.6531\n",
      "\n",
      "### Resultados dos Testes de N-gramas para stemming ###\n",
      "  N-gram Range  Accuracy  F1-score (macro)\n",
      "0       (1, 1)    0.8516          0.851166\n",
      "1       (1, 2)    0.8529          0.852461\n",
      "2       (1, 3)    0.8528          0.852370\n",
      "3       (1, 4)    0.8525          0.852067\n",
      "4       (2, 2)    0.8052          0.804469\n",
      "5       (2, 3)    0.8014          0.800620\n",
      "6       (3, 3)    0.6495          0.653117\n",
      "\n",
      "Melhor N-grama para stemming: (1, 2)\n",
      "Acurácia: 0.8529\n",
      "F1-score (macro): 0.8525\n",
      "\n",
      "Resultados dos testes de N-gramas salvos em 'ngram_test_results_stemming.csv'.\n"
     ]
    }
   ],
   "source": [
    "config_name = \"stemming\"\n",
    "column_name = preprocessing_configs[config_name][2]\n",
    "custom_stopwords = eda_results[config_name]\n",
    "best_ngrams[config_name] = find_best_ngram(config_name, column_name, custom_stopwords)"
   ]
  },
  {
   "cell_type": "markdown",
   "metadata": {},
   "source": [
    "# 5. CLASSIFICADORES"
   ]
  },
  {
   "cell_type": "code",
   "execution_count": 22,
   "metadata": {},
   "outputs": [],
   "source": [
    "# Função para treinar e avaliar classificadores\n",
    "def train_and_evaluate_classifiers(X, y, config_name, vectorizer_type, use_naive_bayes=True):\n",
    "    print(f\"\\n##### Classificadores com {vectorizer_type} #####\")\n",
    "\n",
    "    # Divisão treino/teste\n",
    "    X_train, X_test, y_train, y_test = train_test_split(X, y, test_size=0.2, random_state=42)\n",
    "\n",
    "    # Naive Bayes (não funciona com embedings porque é só com esparsas)\n",
    "    if use_naive_bayes:\n",
    "        print(\"\\nTreinar Naive Bayes...\")\n",
    "        nb = MultinomialNB()\n",
    "        nb.fit(X_train, y_train)\n",
    "        y_pred_nb = nb.predict(X_test)\n",
    "        print(f\"Naive Bayes ({vectorizer_type}):\\n\", classification_report(y_test, y_pred_nb, zero_division=0))\n",
    "        joblib.dump(nb, f'naive_bayes_{vectorizer_type.lower()}_{config_name.lower()}_50000.joblib')\n",
    "\n",
    "    # Logistic Regression com L2\n",
    "    print(\"\\nTreinar Logistic Regression (L2)...\")\n",
    "    lr_l2 = LogisticRegression(penalty='l2', max_iter=1000, solver='liblinear')\n",
    "    lr_l2.fit(X_train, y_train)\n",
    "    y_pred_lr_l2 = lr_l2.predict(X_test)\n",
    "    print(f\"Logistic Regression (L2) ({vectorizer_type}):\\n\", classification_report(y_test, y_pred_lr_l2, zero_division=0))\n",
    "    print(f\"Features ativas (L2): {(lr_l2.coef_ != 0).sum()}\")\n",
    "    joblib.dump(lr_l2, f'logistic_regression_l2_{vectorizer_type.lower()}_{config_name.lower()}_50000.joblib')\n",
    "\n",
    "    # XGBoost\n",
    "    print(\"\\nTreinar XGBoost...\")\n",
    "    le = LabelEncoder()\n",
    "    y_encoded = le.fit_transform(y)\n",
    "    X_train, X_test, y_train_enc, y_test_enc = train_test_split(X, y_encoded, test_size=0.2, random_state=42)\n",
    "\n",
    "    xgb = XGBClassifier(use_label_encoder=False, eval_metric='mlogloss', random_state=42)\n",
    "    xgb.fit(X_train, y_train_enc)\n",
    "    y_pred_xgb = xgb.predict(X_test)\n",
    "    y_pred_xgb_labels = le.inverse_transform(y_pred_xgb)\n",
    "    print(f\"XGBoost ({vectorizer_type}):\\n\", classification_report(y_test, y_pred_xgb_labels, zero_division=0))\n",
    "    joblib.dump(xgb, f'xgboost_{vectorizer_type.lower()}_{config_name.lower()}_50000.joblib')"
   ]
  },
  {
   "cell_type": "code",
   "execution_count": 23,
   "metadata": {},
   "outputs": [],
   "source": [
    "# Função para treinar Word2Vec e vetorizar documento\n",
    "def train_word2vec_and_vectorize(corpus, config_name):\n",
    "    print(f\"\\n#### Treinar Word2Vec para {config_name} ####\")\n",
    "    \n",
    "    # Tokenizar o corpus\n",
    "    tokenized_corpus = [doc.split() for doc in corpus]\n",
    "    \n",
    "    # Treinar o modelo Word2Vec\n",
    "    w2v_model = Word2Vec(\n",
    "        sentences=tokenized_corpus,\n",
    "        vector_size=100,  # Dimensão dos vetores (baixa para manter o modelo leve)\n",
    "        window=5,         # Tamanho da janela de contexto\n",
    "        min_count=5,      # Ignorar palavras com frequência menor que 5\n",
    "        workers=4,        # Número de threads para treinamento\n",
    "        sg=1,             # Usar Skip-Gram (1) em vez de CBOW (0)\n",
    "        epochs=5          # Número de épocas\n",
    "    )\n",
    "    \n",
    "    # Salvar o modelo Word2Vec\n",
    "    w2v_model.save(f\"word2vec_model_{config_name.lower()}_50000.model\")\n",
    "    print(f\"Modelo Word2Vec salvo como 'word2vec_model_{config_name.lower()}_50000.model'.\")\n",
    "    \n",
    "    # Função para vetorizar um documento (média dos vetores das palavras)\n",
    "    def document_vector(doc):\n",
    "        words = doc.split()\n",
    "        word_vectors = [w2v_model.wv[word] for word in words if word in w2v_model.wv]\n",
    "        if len(word_vectors) == 0:\n",
    "            return np.zeros(w2v_model.vector_size)\n",
    "        return np.mean(word_vectors, axis=0)\n",
    "    \n",
    "    # Vetorizar todos os documentos\n",
    "    X_w2v = np.array([document_vector(doc) for doc in corpus])\n",
    "    print(f\"Tamanho do espaço de features com Word2Vec: {X_w2v.shape[1]} dimensões\")\n",
    "    \n",
    "    return X_w2v"
   ]
  },
  {
   "cell_type": "markdown",
   "metadata": {},
   "source": [
    "## 5.1 CLASSIFICADORES COM LEMMATIZATION"
   ]
  },
  {
   "cell_type": "code",
   "execution_count": 24,
   "metadata": {},
   "outputs": [],
   "source": [
    "# Configuração para Lemmatization\n",
    "config_name = \"lemmatization\"\n",
    "column_name = preprocessing_configs[config_name][2]\n",
    "custom_stopwords = eda_results[config_name]\n",
    "best_ngram_range = best_ngrams[config_name]"
   ]
  },
  {
   "cell_type": "markdown",
   "metadata": {},
   "source": [
    "### Bag-of-Words com CountVectorizer"
   ]
  },
  {
   "cell_type": "code",
   "execution_count": 25,
   "metadata": {},
   "outputs": [
    {
     "name": "stdout",
     "output_type": "stream",
     "text": [
      "Tamanho do espaço de features (BoW): 4000 features\n",
      "\n",
      "##### Classificadores com BoW #####\n",
      "\n",
      "Treinar Naive Bayes...\n",
      "Naive Bayes (BoW):\n",
      "                             precision    recall  f1-score   support\n",
      "\n",
      "Bank Accounts and Services       0.86      0.90      0.88      1998\n",
      "      Credit Card Services       0.80      0.76      0.78      1950\n",
      "          Credit Reporting       0.72      0.81      0.76      2043\n",
      "           Debt Collection       0.81      0.68      0.74      1993\n",
      "                     Loans       0.84      0.86      0.85      2016\n",
      "\n",
      "                  accuracy                           0.80     10000\n",
      "                 macro avg       0.81      0.80      0.80     10000\n",
      "              weighted avg       0.81      0.80      0.80     10000\n",
      "\n",
      "\n",
      "Treinar Logistic Regression (L2)...\n",
      "Logistic Regression (L2) (BoW):\n",
      "                             precision    recall  f1-score   support\n",
      "\n",
      "Bank Accounts and Services       0.87      0.89      0.88      1998\n",
      "      Credit Card Services       0.82      0.81      0.81      1950\n",
      "          Credit Reporting       0.80      0.82      0.81      2043\n",
      "           Debt Collection       0.80      0.78      0.79      1993\n",
      "                     Loans       0.86      0.85      0.86      2016\n",
      "\n",
      "                  accuracy                           0.83     10000\n",
      "                 macro avg       0.83      0.83      0.83     10000\n",
      "              weighted avg       0.83      0.83      0.83     10000\n",
      "\n",
      "Features ativas (L2): 20000\n",
      "\n",
      "Treinar XGBoost...\n"
     ]
    },
    {
     "name": "stderr",
     "output_type": "stream",
     "text": [
      "c:\\Users\\User\\AppData\\Local\\Programs\\Python\\Python312\\Lib\\site-packages\\xgboost\\core.py:158: UserWarning: [15:05:22] WARNING: C:\\buildkite-agent\\builds\\buildkite-windows-cpu-autoscaling-group-i-0c55ff5f71b100e98-1\\xgboost\\xgboost-ci-windows\\src\\learner.cc:740: \n",
      "Parameters: { \"use_label_encoder\" } are not used.\n",
      "\n",
      "  warnings.warn(smsg, UserWarning)\n"
     ]
    },
    {
     "name": "stdout",
     "output_type": "stream",
     "text": [
      "XGBoost (BoW):\n",
      "                             precision    recall  f1-score   support\n",
      "\n",
      "Bank Accounts and Services       0.89      0.90      0.90      1998\n",
      "      Credit Card Services       0.84      0.83      0.84      1950\n",
      "          Credit Reporting       0.82      0.84      0.83      2043\n",
      "           Debt Collection       0.82      0.80      0.81      1993\n",
      "                     Loans       0.87      0.87      0.87      2016\n",
      "\n",
      "                  accuracy                           0.85     10000\n",
      "                 macro avg       0.85      0.85      0.85     10000\n",
      "              weighted avg       0.85      0.85      0.85     10000\n",
      "\n"
     ]
    }
   ],
   "source": [
    "vectorizer = CountVectorizer(max_features=4000, stop_words=list(custom_stopwords))\n",
    "X = vectorizer.fit_transform(data_balanced[column_name])\n",
    "print(f\"Tamanho do espaço de features (BoW): {X.shape[1]} features\")\n",
    "train_and_evaluate_classifiers(X, data_balanced[\"product_5\"], config_name, \"BoW\")"
   ]
  },
  {
   "cell_type": "markdown",
   "metadata": {},
   "source": [
    "### TF-IDF com o Melhor N-grama"
   ]
  },
  {
   "cell_type": "code",
   "execution_count": 26,
   "metadata": {},
   "outputs": [
    {
     "name": "stdout",
     "output_type": "stream",
     "text": [
      "Tamanho do espaço de features com N-grams (TF-IDF): 4000\n",
      "\n",
      "##### Classificadores com TFIDF_Ngrams_(1, 1) #####\n",
      "\n",
      "Treinar Naive Bayes...\n",
      "Naive Bayes (TFIDF_Ngrams_(1, 1)):\n",
      "                             precision    recall  f1-score   support\n",
      "\n",
      "Bank Accounts and Services       0.84      0.92      0.87      1998\n",
      "      Credit Card Services       0.80      0.77      0.79      1950\n",
      "          Credit Reporting       0.76      0.80      0.78      2043\n",
      "           Debt Collection       0.81      0.72      0.76      1993\n",
      "                     Loans       0.86      0.86      0.86      2016\n",
      "\n",
      "                  accuracy                           0.81     10000\n",
      "                 macro avg       0.81      0.81      0.81     10000\n",
      "              weighted avg       0.81      0.81      0.81     10000\n",
      "\n",
      "\n",
      "Treinar Logistic Regression (L2)...\n",
      "Logistic Regression (L2) (TFIDF_Ngrams_(1, 1)):\n",
      "                             precision    recall  f1-score   support\n",
      "\n",
      "Bank Accounts and Services       0.88      0.92      0.90      1998\n",
      "      Credit Card Services       0.85      0.83      0.84      1950\n",
      "          Credit Reporting       0.82      0.83      0.82      2043\n",
      "           Debt Collection       0.84      0.80      0.82      1993\n",
      "                     Loans       0.87      0.89      0.88      2016\n",
      "\n",
      "                  accuracy                           0.85     10000\n",
      "                 macro avg       0.85      0.85      0.85     10000\n",
      "              weighted avg       0.85      0.85      0.85     10000\n",
      "\n",
      "Features ativas (L2): 20000\n",
      "\n",
      "Treinar XGBoost...\n"
     ]
    },
    {
     "name": "stderr",
     "output_type": "stream",
     "text": [
      "c:\\Users\\User\\AppData\\Local\\Programs\\Python\\Python312\\Lib\\site-packages\\xgboost\\core.py:158: UserWarning: [15:05:37] WARNING: C:\\buildkite-agent\\builds\\buildkite-windows-cpu-autoscaling-group-i-0c55ff5f71b100e98-1\\xgboost\\xgboost-ci-windows\\src\\learner.cc:740: \n",
      "Parameters: { \"use_label_encoder\" } are not used.\n",
      "\n",
      "  warnings.warn(smsg, UserWarning)\n"
     ]
    },
    {
     "name": "stdout",
     "output_type": "stream",
     "text": [
      "XGBoost (TFIDF_Ngrams_(1, 1)):\n",
      "                             precision    recall  f1-score   support\n",
      "\n",
      "Bank Accounts and Services       0.89      0.91      0.90      1998\n",
      "      Credit Card Services       0.85      0.83      0.84      1950\n",
      "          Credit Reporting       0.82      0.84      0.83      2043\n",
      "           Debt Collection       0.83      0.81      0.82      1993\n",
      "                     Loans       0.87      0.88      0.88      2016\n",
      "\n",
      "                  accuracy                           0.85     10000\n",
      "                 macro avg       0.85      0.85      0.85     10000\n",
      "              weighted avg       0.85      0.85      0.85     10000\n",
      "\n"
     ]
    }
   ],
   "source": [
    "tfidf_ngrams = TfidfVectorizer(max_features=4000, ngram_range=best_ngram_range, stop_words=list(custom_stopwords))\n",
    "X_tfidf_ngrams = tfidf_ngrams.fit_transform(data_balanced[column_name])\n",
    "print(f\"Tamanho do espaço de features com N-grams (TF-IDF): {X_tfidf_ngrams.shape[1]}\")\n",
    "joblib.dump(tfidf_ngrams, f'tfidf_ngrams_vectorizer_{config_name.lower()}_50000.joblib')\n",
    "train_and_evaluate_classifiers(X_tfidf_ngrams, data_balanced[\"product_5\"], config_name, f\"TFIDF_Ngrams_{best_ngram_range}\")"
   ]
  },
  {
   "cell_type": "markdown",
   "metadata": {},
   "source": [
    "### TF-IDF com o Melhor N-grama e Normalização"
   ]
  },
  {
   "cell_type": "code",
   "execution_count": 27,
   "metadata": {},
   "outputs": [
    {
     "name": "stdout",
     "output_type": "stream",
     "text": [
      "\n",
      "##### Classificadores com TFIDF_Ngrams_Scaled_(1, 1) #####\n",
      "\n",
      "Treinar Naive Bayes...\n",
      "Naive Bayes (TFIDF_Ngrams_Scaled_(1, 1)):\n",
      "                             precision    recall  f1-score   support\n",
      "\n",
      "Bank Accounts and Services       0.76      0.86      0.81      1998\n",
      "      Credit Card Services       0.72      0.69      0.70      1950\n",
      "          Credit Reporting       0.75      0.76      0.75      2043\n",
      "           Debt Collection       0.77      0.67      0.72      1993\n",
      "                     Loans       0.81      0.83      0.82      2016\n",
      "\n",
      "                  accuracy                           0.76     10000\n",
      "                 macro avg       0.76      0.76      0.76     10000\n",
      "              weighted avg       0.76      0.76      0.76     10000\n",
      "\n",
      "\n",
      "Treinar Logistic Regression (L2)...\n",
      "Logistic Regression (L2) (TFIDF_Ngrams_Scaled_(1, 1)):\n",
      "                             precision    recall  f1-score   support\n",
      "\n",
      "Bank Accounts and Services       0.81      0.83      0.82      1998\n",
      "      Credit Card Services       0.77      0.76      0.77      1950\n",
      "          Credit Reporting       0.79      0.77      0.78      2043\n",
      "           Debt Collection       0.77      0.76      0.76      1993\n",
      "                     Loans       0.80      0.82      0.81      2016\n",
      "\n",
      "                  accuracy                           0.79     10000\n",
      "                 macro avg       0.79      0.79      0.79     10000\n",
      "              weighted avg       0.79      0.79      0.79     10000\n",
      "\n",
      "Features ativas (L2): 20000\n",
      "\n",
      "Treinar XGBoost...\n"
     ]
    },
    {
     "name": "stderr",
     "output_type": "stream",
     "text": [
      "c:\\Users\\User\\AppData\\Local\\Programs\\Python\\Python312\\Lib\\site-packages\\xgboost\\core.py:158: UserWarning: [15:07:54] WARNING: C:\\buildkite-agent\\builds\\buildkite-windows-cpu-autoscaling-group-i-0c55ff5f71b100e98-1\\xgboost\\xgboost-ci-windows\\src\\learner.cc:740: \n",
      "Parameters: { \"use_label_encoder\" } are not used.\n",
      "\n",
      "  warnings.warn(smsg, UserWarning)\n"
     ]
    },
    {
     "name": "stdout",
     "output_type": "stream",
     "text": [
      "XGBoost (TFIDF_Ngrams_Scaled_(1, 1)):\n",
      "                             precision    recall  f1-score   support\n",
      "\n",
      "Bank Accounts and Services       0.89      0.91      0.90      1998\n",
      "      Credit Card Services       0.85      0.83      0.84      1950\n",
      "          Credit Reporting       0.82      0.84      0.83      2043\n",
      "           Debt Collection       0.83      0.81      0.82      1993\n",
      "                     Loans       0.87      0.88      0.88      2016\n",
      "\n",
      "                  accuracy                           0.85     10000\n",
      "                 macro avg       0.85      0.85      0.85     10000\n",
      "              weighted avg       0.85      0.85      0.85     10000\n",
      "\n"
     ]
    }
   ],
   "source": [
    "scaler = StandardScaler(with_mean=False)\n",
    "X_tfidf_ngrams_scaled = scaler.fit_transform(X_tfidf_ngrams)\n",
    "train_and_evaluate_classifiers(X_tfidf_ngrams_scaled, data_balanced[\"product_5\"], config_name, f\"TFIDF_Ngrams_Scaled_{best_ngram_range}\")"
   ]
  },
  {
   "cell_type": "markdown",
   "metadata": {},
   "source": [
    "### Embedings Word2Vec (representação densa)"
   ]
  },
  {
   "cell_type": "code",
   "execution_count": 28,
   "metadata": {},
   "outputs": [
    {
     "name": "stdout",
     "output_type": "stream",
     "text": [
      "\n",
      "#### Treinar Word2Vec para lemmatization ####\n",
      "Modelo Word2Vec salvo como 'word2vec_model_lemmatization_50000.model'.\n",
      "Tamanho do espaço de features com Word2Vec: 100 dimensões\n",
      "\n",
      "##### Classificadores com Word2Vec #####\n",
      "\n",
      "Treinar Logistic Regression (L2)...\n",
      "Logistic Regression (L2) (Word2Vec):\n",
      "                             precision    recall  f1-score   support\n",
      "\n",
      "Bank Accounts and Services       0.83      0.89      0.86      1998\n",
      "      Credit Card Services       0.77      0.77      0.77      1950\n",
      "          Credit Reporting       0.76      0.78      0.77      2043\n",
      "           Debt Collection       0.80      0.71      0.76      1993\n",
      "                     Loans       0.83      0.85      0.84      2016\n",
      "\n",
      "                  accuracy                           0.80     10000\n",
      "                 macro avg       0.80      0.80      0.80     10000\n",
      "              weighted avg       0.80      0.80      0.80     10000\n",
      "\n",
      "Features ativas (L2): 500\n",
      "\n",
      "Treinar XGBoost...\n"
     ]
    },
    {
     "name": "stderr",
     "output_type": "stream",
     "text": [
      "c:\\Users\\User\\AppData\\Local\\Programs\\Python\\Python312\\Lib\\site-packages\\xgboost\\core.py:158: UserWarning: [15:11:09] WARNING: C:\\buildkite-agent\\builds\\buildkite-windows-cpu-autoscaling-group-i-0c55ff5f71b100e98-1\\xgboost\\xgboost-ci-windows\\src\\learner.cc:740: \n",
      "Parameters: { \"use_label_encoder\" } are not used.\n",
      "\n",
      "  warnings.warn(smsg, UserWarning)\n"
     ]
    },
    {
     "name": "stdout",
     "output_type": "stream",
     "text": [
      "XGBoost (Word2Vec):\n",
      "                             precision    recall  f1-score   support\n",
      "\n",
      "Bank Accounts and Services       0.86      0.87      0.87      1998\n",
      "      Credit Card Services       0.79      0.78      0.79      1950\n",
      "          Credit Reporting       0.81      0.84      0.82      2043\n",
      "           Debt Collection       0.82      0.78      0.80      1993\n",
      "                     Loans       0.84      0.85      0.85      2016\n",
      "\n",
      "                  accuracy                           0.82     10000\n",
      "                 macro avg       0.82      0.82      0.82     10000\n",
      "              weighted avg       0.82      0.82      0.82     10000\n",
      "\n"
     ]
    }
   ],
   "source": [
    "X_w2v = train_word2vec_and_vectorize(data_balanced[column_name], config_name)\n",
    "train_and_evaluate_classifiers(X_w2v, data_balanced[\"product_5\"], config_name, \"Word2Vec\", use_naive_bayes=False)"
   ]
  },
  {
   "cell_type": "markdown",
   "metadata": {},
   "source": [
    "## 5.2 CLASSIFICADORES COM STEMMING"
   ]
  },
  {
   "cell_type": "code",
   "execution_count": 29,
   "metadata": {},
   "outputs": [],
   "source": [
    "# Configuração para Stemming\n",
    "config_name = \"stemming\"\n",
    "column_name = preprocessing_configs[config_name][2]\n",
    "custom_stopwords = eda_results[config_name]\n",
    "best_ngram_range = best_ngrams[config_name]"
   ]
  },
  {
   "cell_type": "markdown",
   "metadata": {},
   "source": [
    "### Bag-of-Words com CountVectorizer"
   ]
  },
  {
   "cell_type": "code",
   "execution_count": 30,
   "metadata": {},
   "outputs": [
    {
     "name": "stdout",
     "output_type": "stream",
     "text": [
      "Tamanho do espaço de features (BoW): 4000 features\n",
      "\n",
      "##### Classificadores com BoW #####\n",
      "\n",
      "Treinar Naive Bayes...\n",
      "Naive Bayes (BoW):\n",
      "                             precision    recall  f1-score   support\n",
      "\n",
      "Bank Accounts and Services       0.85      0.90      0.88      1998\n",
      "      Credit Card Services       0.79      0.75      0.77      1950\n",
      "          Credit Reporting       0.71      0.81      0.76      2043\n",
      "           Debt Collection       0.81      0.67      0.73      1993\n",
      "                     Loans       0.84      0.86      0.85      2016\n",
      "\n",
      "                  accuracy                           0.80     10000\n",
      "                 macro avg       0.80      0.80      0.80     10000\n",
      "              weighted avg       0.80      0.80      0.80     10000\n",
      "\n",
      "\n",
      "Treinar Logistic Regression (L2)...\n",
      "Logistic Regression (L2) (BoW):\n",
      "                             precision    recall  f1-score   support\n",
      "\n",
      "Bank Accounts and Services       0.86      0.88      0.87      1998\n",
      "      Credit Card Services       0.81      0.80      0.81      1950\n",
      "          Credit Reporting       0.79      0.81      0.80      2043\n",
      "           Debt Collection       0.79      0.78      0.78      1993\n",
      "                     Loans       0.86      0.84      0.85      2016\n",
      "\n",
      "                  accuracy                           0.82     10000\n",
      "                 macro avg       0.82      0.82      0.82     10000\n",
      "              weighted avg       0.82      0.82      0.82     10000\n",
      "\n",
      "Features ativas (L2): 20000\n",
      "\n",
      "Treinar XGBoost...\n"
     ]
    },
    {
     "name": "stderr",
     "output_type": "stream",
     "text": [
      "c:\\Users\\User\\AppData\\Local\\Programs\\Python\\Python312\\Lib\\site-packages\\xgboost\\core.py:158: UserWarning: [15:13:51] WARNING: C:\\buildkite-agent\\builds\\buildkite-windows-cpu-autoscaling-group-i-0c55ff5f71b100e98-1\\xgboost\\xgboost-ci-windows\\src\\learner.cc:740: \n",
      "Parameters: { \"use_label_encoder\" } are not used.\n",
      "\n",
      "  warnings.warn(smsg, UserWarning)\n"
     ]
    },
    {
     "name": "stdout",
     "output_type": "stream",
     "text": [
      "XGBoost (BoW):\n",
      "                             precision    recall  f1-score   support\n",
      "\n",
      "Bank Accounts and Services       0.89      0.91      0.90      1998\n",
      "      Credit Card Services       0.84      0.83      0.83      1950\n",
      "          Credit Reporting       0.81      0.83      0.82      2043\n",
      "           Debt Collection       0.83      0.79      0.81      1993\n",
      "                     Loans       0.87      0.88      0.87      2016\n",
      "\n",
      "                  accuracy                           0.85     10000\n",
      "                 macro avg       0.85      0.85      0.85     10000\n",
      "              weighted avg       0.85      0.85      0.85     10000\n",
      "\n"
     ]
    }
   ],
   "source": [
    "vectorizer = CountVectorizer(max_features=4000, stop_words=list(custom_stopwords))\n",
    "X = vectorizer.fit_transform(data_balanced[column_name])\n",
    "print(f\"Tamanho do espaço de features (BoW): {X.shape[1]} features\")\n",
    "train_and_evaluate_classifiers(X, data_balanced[\"product_5\"], config_name, \"BoW\")"
   ]
  },
  {
   "cell_type": "markdown",
   "metadata": {},
   "source": [
    "### TF-IDF com o Melhor N-grama"
   ]
  },
  {
   "cell_type": "code",
   "execution_count": 31,
   "metadata": {},
   "outputs": [
    {
     "name": "stdout",
     "output_type": "stream",
     "text": [
      "Tamanho do espaço de features com N-grams (TF-IDF): 4000\n",
      "\n",
      "##### Classificadores com TFIDF_Ngrams_(1, 2) #####\n",
      "\n",
      "Treinar Naive Bayes...\n",
      "Naive Bayes (TFIDF_Ngrams_(1, 2)):\n",
      "                             precision    recall  f1-score   support\n",
      "\n",
      "Bank Accounts and Services       0.84      0.94      0.89      1998\n",
      "      Credit Card Services       0.82      0.79      0.80      1950\n",
      "          Credit Reporting       0.78      0.78      0.78      2043\n",
      "           Debt Collection       0.81      0.72      0.76      1993\n",
      "                     Loans       0.84      0.87      0.86      2016\n",
      "\n",
      "                  accuracy                           0.82     10000\n",
      "                 macro avg       0.82      0.82      0.82     10000\n",
      "              weighted avg       0.82      0.82      0.82     10000\n",
      "\n",
      "\n",
      "Treinar Logistic Regression (L2)...\n",
      "Logistic Regression (L2) (TFIDF_Ngrams_(1, 2)):\n",
      "                             precision    recall  f1-score   support\n",
      "\n",
      "Bank Accounts and Services       0.89      0.92      0.90      1998\n",
      "      Credit Card Services       0.85      0.83      0.84      1950\n",
      "          Credit Reporting       0.81      0.83      0.82      2043\n",
      "           Debt Collection       0.84      0.79      0.81      1993\n",
      "                     Loans       0.87      0.89      0.88      2016\n",
      "\n",
      "                  accuracy                           0.85     10000\n",
      "                 macro avg       0.85      0.85      0.85     10000\n",
      "              weighted avg       0.85      0.85      0.85     10000\n",
      "\n",
      "Features ativas (L2): 20000\n",
      "\n",
      "Treinar XGBoost...\n"
     ]
    },
    {
     "name": "stderr",
     "output_type": "stream",
     "text": [
      "c:\\Users\\User\\AppData\\Local\\Programs\\Python\\Python312\\Lib\\site-packages\\xgboost\\core.py:158: UserWarning: [15:14:39] WARNING: C:\\buildkite-agent\\builds\\buildkite-windows-cpu-autoscaling-group-i-0c55ff5f71b100e98-1\\xgboost\\xgboost-ci-windows\\src\\learner.cc:740: \n",
      "Parameters: { \"use_label_encoder\" } are not used.\n",
      "\n",
      "  warnings.warn(smsg, UserWarning)\n"
     ]
    },
    {
     "name": "stdout",
     "output_type": "stream",
     "text": [
      "XGBoost (TFIDF_Ngrams_(1, 2)):\n",
      "                             precision    recall  f1-score   support\n",
      "\n",
      "Bank Accounts and Services       0.89      0.91      0.90      1998\n",
      "      Credit Card Services       0.85      0.83      0.84      1950\n",
      "          Credit Reporting       0.82      0.84      0.83      2043\n",
      "           Debt Collection       0.83      0.80      0.81      1993\n",
      "                     Loans       0.87      0.88      0.87      2016\n",
      "\n",
      "                  accuracy                           0.85     10000\n",
      "                 macro avg       0.85      0.85      0.85     10000\n",
      "              weighted avg       0.85      0.85      0.85     10000\n",
      "\n"
     ]
    }
   ],
   "source": [
    "tfidf_ngrams = TfidfVectorizer(max_features=4000, ngram_range=best_ngram_range, stop_words=list(custom_stopwords))\n",
    "X_tfidf_ngrams = tfidf_ngrams.fit_transform(data_balanced[column_name])\n",
    "print(f\"Tamanho do espaço de features com N-grams (TF-IDF): {X_tfidf_ngrams.shape[1]}\")\n",
    "joblib.dump(tfidf_ngrams, f'tfidf_ngrams_vectorizer_{config_name.lower()}_50000.joblib')\n",
    "train_and_evaluate_classifiers(X_tfidf_ngrams, data_balanced[\"product_5\"], config_name, f\"TFIDF_Ngrams_{best_ngram_range}\")"
   ]
  },
  {
   "cell_type": "markdown",
   "metadata": {},
   "source": [
    "### TF-IDF com o Melhor N-grama e Normalização"
   ]
  },
  {
   "cell_type": "code",
   "execution_count": 32,
   "metadata": {},
   "outputs": [
    {
     "name": "stdout",
     "output_type": "stream",
     "text": [
      "\n",
      "##### Classificadores com TFIDF_Ngrams_Scaled_(1, 2) #####\n",
      "\n",
      "Treinar Naive Bayes...\n",
      "Naive Bayes (TFIDF_Ngrams_Scaled_(1, 2)):\n",
      "                             precision    recall  f1-score   support\n",
      "\n",
      "Bank Accounts and Services       0.82      0.91      0.86      1998\n",
      "      Credit Card Services       0.79      0.77      0.78      1950\n",
      "          Credit Reporting       0.79      0.74      0.76      2043\n",
      "           Debt Collection       0.77      0.72      0.75      1993\n",
      "                     Loans       0.82      0.86      0.84      2016\n",
      "\n",
      "                  accuracy                           0.80     10000\n",
      "                 macro avg       0.80      0.80      0.80     10000\n",
      "              weighted avg       0.80      0.80      0.80     10000\n",
      "\n",
      "\n",
      "Treinar Logistic Regression (L2)...\n",
      "Logistic Regression (L2) (TFIDF_Ngrams_Scaled_(1, 2)):\n",
      "                             precision    recall  f1-score   support\n",
      "\n",
      "Bank Accounts and Services       0.82      0.84      0.83      1998\n",
      "      Credit Card Services       0.78      0.77      0.77      1950\n",
      "          Credit Reporting       0.79      0.78      0.78      2043\n",
      "           Debt Collection       0.76      0.75      0.75      1993\n",
      "                     Loans       0.81      0.82      0.81      2016\n",
      "\n",
      "                  accuracy                           0.79     10000\n",
      "                 macro avg       0.79      0.79      0.79     10000\n",
      "              weighted avg       0.79      0.79      0.79     10000\n",
      "\n",
      "Features ativas (L2): 20000\n",
      "\n",
      "Treinar XGBoost...\n"
     ]
    },
    {
     "name": "stderr",
     "output_type": "stream",
     "text": [
      "c:\\Users\\User\\AppData\\Local\\Programs\\Python\\Python312\\Lib\\site-packages\\xgboost\\core.py:158: UserWarning: [15:18:23] WARNING: C:\\buildkite-agent\\builds\\buildkite-windows-cpu-autoscaling-group-i-0c55ff5f71b100e98-1\\xgboost\\xgboost-ci-windows\\src\\learner.cc:740: \n",
      "Parameters: { \"use_label_encoder\" } are not used.\n",
      "\n",
      "  warnings.warn(smsg, UserWarning)\n"
     ]
    },
    {
     "name": "stdout",
     "output_type": "stream",
     "text": [
      "XGBoost (TFIDF_Ngrams_Scaled_(1, 2)):\n",
      "                             precision    recall  f1-score   support\n",
      "\n",
      "Bank Accounts and Services       0.89      0.91      0.90      1998\n",
      "      Credit Card Services       0.85      0.83      0.84      1950\n",
      "          Credit Reporting       0.82      0.84      0.83      2043\n",
      "           Debt Collection       0.83      0.80      0.81      1993\n",
      "                     Loans       0.87      0.88      0.87      2016\n",
      "\n",
      "                  accuracy                           0.85     10000\n",
      "                 macro avg       0.85      0.85      0.85     10000\n",
      "              weighted avg       0.85      0.85      0.85     10000\n",
      "\n"
     ]
    }
   ],
   "source": [
    "scaler = StandardScaler(with_mean=False)\n",
    "X_tfidf_ngrams_scaled = scaler.fit_transform(X_tfidf_ngrams)\n",
    "train_and_evaluate_classifiers(X_tfidf_ngrams_scaled, data_balanced[\"product_5\"], config_name, f\"TFIDF_Ngrams_Scaled_{best_ngram_range}\")"
   ]
  },
  {
   "cell_type": "markdown",
   "metadata": {},
   "source": [
    "### Embedings Word2Vec"
   ]
  },
  {
   "cell_type": "code",
   "execution_count": 33,
   "metadata": {},
   "outputs": [
    {
     "name": "stdout",
     "output_type": "stream",
     "text": [
      "\n",
      "#### Treinar Word2Vec para stemming ####\n",
      "Modelo Word2Vec salvo como 'word2vec_model_stemming_50000.model'.\n",
      "Tamanho do espaço de features com Word2Vec: 100 dimensões\n",
      "\n",
      "##### Classificadores com Word2Vec #####\n",
      "\n",
      "Treinar Logistic Regression (L2)...\n",
      "Logistic Regression (L2) (Word2Vec):\n",
      "                             precision    recall  f1-score   support\n",
      "\n",
      "Bank Accounts and Services       0.83      0.87      0.85      1998\n",
      "      Credit Card Services       0.76      0.75      0.76      1950\n",
      "          Credit Reporting       0.75      0.78      0.77      2043\n",
      "           Debt Collection       0.81      0.72      0.76      1993\n",
      "                     Loans       0.83      0.85      0.84      2016\n",
      "\n",
      "                  accuracy                           0.80     10000\n",
      "                 macro avg       0.80      0.79      0.79     10000\n",
      "              weighted avg       0.80      0.80      0.79     10000\n",
      "\n",
      "Features ativas (L2): 500\n",
      "\n",
      "Treinar XGBoost...\n"
     ]
    },
    {
     "name": "stderr",
     "output_type": "stream",
     "text": [
      "c:\\Users\\User\\AppData\\Local\\Programs\\Python\\Python312\\Lib\\site-packages\\xgboost\\core.py:158: UserWarning: [15:22:22] WARNING: C:\\buildkite-agent\\builds\\buildkite-windows-cpu-autoscaling-group-i-0c55ff5f71b100e98-1\\xgboost\\xgboost-ci-windows\\src\\learner.cc:740: \n",
      "Parameters: { \"use_label_encoder\" } are not used.\n",
      "\n",
      "  warnings.warn(smsg, UserWarning)\n"
     ]
    },
    {
     "name": "stdout",
     "output_type": "stream",
     "text": [
      "XGBoost (Word2Vec):\n",
      "                             precision    recall  f1-score   support\n",
      "\n",
      "Bank Accounts and Services       0.85      0.85      0.85      1998\n",
      "      Credit Card Services       0.77      0.76      0.77      1950\n",
      "          Credit Reporting       0.81      0.83      0.82      2043\n",
      "           Debt Collection       0.81      0.78      0.79      1993\n",
      "                     Loans       0.83      0.84      0.83      2016\n",
      "\n",
      "                  accuracy                           0.81     10000\n",
      "                 macro avg       0.81      0.81      0.81     10000\n",
      "              weighted avg       0.81      0.81      0.81     10000\n",
      "\n"
     ]
    }
   ],
   "source": [
    "X_w2v = train_word2vec_and_vectorize(data_balanced[column_name], config_name)\n",
    "train_and_evaluate_classifiers(X_w2v, data_balanced[\"product_5\"], config_name, \"Word2Vec\", use_naive_bayes=False)"
   ]
  },
  {
   "cell_type": "code",
   "execution_count": 34,
   "metadata": {},
   "outputs": [
    {
     "name": "stdout",
     "output_type": "stream",
     "text": [
      "\n",
      "Dataset processado salvo como 'consumer_complaints_50000_processed.csv'.\n"
     ]
    }
   ],
   "source": [
    "# Salvar dataset processado\n",
    "data_balanced.to_csv(\"consumer_complaints_50000_processed.csv\", index=False)\n",
    "print(\"\\nDataset processado salvo como 'consumer_complaints_50000_processed.csv'.\")"
   ]
  }
 ],
 "metadata": {
  "kernelspec": {
   "display_name": "Python 3",
   "language": "python",
   "name": "python3"
  },
  "language_info": {
   "codemirror_mode": {
    "name": "ipython",
    "version": 3
   },
   "file_extension": ".py",
   "mimetype": "text/x-python",
   "name": "python",
   "nbconvert_exporter": "python",
   "pygments_lexer": "ipython3",
   "version": "3.12.6"
  }
 },
 "nbformat": 4,
 "nbformat_minor": 2
}
