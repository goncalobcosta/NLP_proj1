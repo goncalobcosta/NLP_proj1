{
  "cells": [
    {
      "cell_type": "code",
      "execution_count": null,
      "metadata": {},
      "outputs": [
        {
          "data": {
            "text/plain": [
              "True"
            ]
          },
          "execution_count": 2,
          "metadata": {},
          "output_type": "execute_result"
        }
      ],
      "source": [
        "import pandas as pd\n",
        "import nltk\n",
        "import matplotlib.pyplot as plt\n",
        "import seaborn as sns\n",
        "from nltk.corpus import stopwords\n",
        "from sklearn.feature_extraction.text import TfidfVectorizer\n",
        "from sklearn.model_selection import train_test_split\n",
        "from sklearn.metrics import classification_report\n",
        "from nltk.tokenize import regexp_tokenize\n",
        "import os\n",
        "import joblib\n",
        "import spacy\n",
        "from sklearn.preprocessing import LabelEncoder\n",
        "from imblearn.over_sampling import SMOTE\n",
        "from sklearn.decomposition import PCA\n",
        "from sklearn.linear_model import LogisticRegression\n",
        "from tqdm import tqdm\n",
        "\n",
        "nltk.download('punkt_tab', quiet=True)\n",
        "nltk.download('stopwords', quiet=True)\n",
        "nltk.download('punkt', quiet=True)"
      ]
    },
    {
      "cell_type": "code",
      "execution_count": 3,
      "metadata": {},
      "outputs": [],
      "source": [
        "# Configurações gerais para visualização\n",
        "sns.set(style=\"whitegrid\")\n",
        "plt.rcParams[\"figure.figsize\"] = (12, 6)\n",
        "\n",
        "# Carregar o modelo do spaCy\n",
        "nlp = spacy.load(\"en_core_web_sm\", disable=[\"ner\", \"parser\"])\n",
        "\n",
        "# Stopwords\n",
        "sw = set(stopwords.words(\"english\"))"
      ]
    },
    {
      "cell_type": "code",
      "execution_count": 4,
      "metadata": {},
      "outputs": [],
      "source": [
        "REGEX_PATTERN = r'''(?x)  # Retirado do Notebook do Professor \"preprocessing.ipynb\"\n",
        "    (?:[A-Z]\\.)+         \n",
        "    | (?!x+\\b)\\w+(?:-\\w+)*  # Exclui palavras só com \"x\"\n",
        "    | \\$?\\d+(?:\\.\\d+)?%? \n",
        "    | \\.\\.\\.             \n",
        "    | [][.,;\"'?():-_`]  \n",
        "'''"
      ]
    },
    {
      "cell_type": "code",
      "execution_count": 5,
      "metadata": {},
      "outputs": [],
      "source": [
        "def preprocess_lemmatization(text):\n",
        "    text = str(text) if pd.notna(text) else ''\n",
        "    tokens = regexp_tokenize(text.lower(), REGEX_PATTERN)\n",
        "    doc = nlp(' '.join(tokens))\n",
        "    tokens = [token.lemma_ for token in doc if token.text not in sw and token.is_alpha]\n",
        "    return ' '.join(tokens)"
      ]
    },
    {
      "cell_type": "code",
      "execution_count": 6,
      "metadata": {},
      "outputs": [],
      "source": [
        "# Parâmetros\n",
        "chunksize = 100000\n",
        "file_name = \"consumer_complaints_full_lem.csv\"\n",
        "column_name = \"processed_text_lem\""
      ]
    },
    {
      "cell_type": "markdown",
      "metadata": {},
      "source": [
        "# 1. CARREGAR E PROCESSAR O DATASET COMPLETO"
      ]
    },
    {
      "cell_type": "code",
      "execution_count": 7,
      "metadata": {},
      "outputs": [
        {
          "name": "stderr",
          "output_type": "stream",
          "text": [
            "Processing chunk 1: 100%|██████████| 96979/96979 [14:27<00:00, 111.78it/s]\n",
            "C:\\Users\\User\\AppData\\Local\\Temp\\ipykernel_13564\\2618809734.py:5: SettingWithCopyWarning: \n",
            "A value is trying to be set on a copy of a slice from a DataFrame.\n",
            "Try using .loc[row_indexer,col_indexer] = value instead\n",
            "\n",
            "See the caveats in the documentation: https://pandas.pydata.org/pandas-docs/stable/user_guide/indexing.html#returning-a-view-versus-a-copy\n",
            "  chunk.loc[:, column_name] = [\n"
          ]
        },
        {
          "name": "stdout",
          "output_type": "stream",
          "text": [
            "Processed chunk 1...\n"
          ]
        },
        {
          "name": "stderr",
          "output_type": "stream",
          "text": [
            "Processing chunk 2: 100%|██████████| 95151/95151 [14:55<00:00, 106.27it/s]\n",
            "C:\\Users\\User\\AppData\\Local\\Temp\\ipykernel_13564\\2618809734.py:5: SettingWithCopyWarning: \n",
            "A value is trying to be set on a copy of a slice from a DataFrame.\n",
            "Try using .loc[row_indexer,col_indexer] = value instead\n",
            "\n",
            "See the caveats in the documentation: https://pandas.pydata.org/pandas-docs/stable/user_guide/indexing.html#returning-a-view-versus-a-copy\n",
            "  chunk.loc[:, column_name] = [\n"
          ]
        },
        {
          "name": "stdout",
          "output_type": "stream",
          "text": [
            "Processed chunk 2...\n"
          ]
        },
        {
          "name": "stderr",
          "output_type": "stream",
          "text": [
            "Processing chunk 3: 100%|██████████| 94205/94205 [14:21<00:00, 109.34it/s]\n",
            "C:\\Users\\User\\AppData\\Local\\Temp\\ipykernel_13564\\2618809734.py:5: SettingWithCopyWarning: \n",
            "A value is trying to be set on a copy of a slice from a DataFrame.\n",
            "Try using .loc[row_indexer,col_indexer] = value instead\n",
            "\n",
            "See the caveats in the documentation: https://pandas.pydata.org/pandas-docs/stable/user_guide/indexing.html#returning-a-view-versus-a-copy\n",
            "  chunk.loc[:, column_name] = [\n"
          ]
        },
        {
          "name": "stdout",
          "output_type": "stream",
          "text": [
            "Processed chunk 3...\n"
          ]
        },
        {
          "name": "stderr",
          "output_type": "stream",
          "text": [
            "Processing chunk 4: 100%|██████████| 92633/92633 [13:50<00:00, 111.60it/s]\n",
            "C:\\Users\\User\\AppData\\Local\\Temp\\ipykernel_13564\\2618809734.py:5: SettingWithCopyWarning: \n",
            "A value is trying to be set on a copy of a slice from a DataFrame.\n",
            "Try using .loc[row_indexer,col_indexer] = value instead\n",
            "\n",
            "See the caveats in the documentation: https://pandas.pydata.org/pandas-docs/stable/user_guide/indexing.html#returning-a-view-versus-a-copy\n",
            "  chunk.loc[:, column_name] = [\n"
          ]
        },
        {
          "name": "stdout",
          "output_type": "stream",
          "text": [
            "Processed chunk 4...\n"
          ]
        },
        {
          "name": "stderr",
          "output_type": "stream",
          "text": [
            "Processing chunk 5: 100%|██████████| 93535/93535 [14:14<00:00, 109.41it/s]\n",
            "C:\\Users\\User\\AppData\\Local\\Temp\\ipykernel_13564\\2618809734.py:5: SettingWithCopyWarning: \n",
            "A value is trying to be set on a copy of a slice from a DataFrame.\n",
            "Try using .loc[row_indexer,col_indexer] = value instead\n",
            "\n",
            "See the caveats in the documentation: https://pandas.pydata.org/pandas-docs/stable/user_guide/indexing.html#returning-a-view-versus-a-copy\n",
            "  chunk.loc[:, column_name] = [\n"
          ]
        },
        {
          "name": "stdout",
          "output_type": "stream",
          "text": [
            "Processed chunk 5...\n"
          ]
        },
        {
          "name": "stderr",
          "output_type": "stream",
          "text": [
            "Processing chunk 6: 100%|██████████| 91932/91932 [14:11<00:00, 107.94it/s]\n",
            "C:\\Users\\User\\AppData\\Local\\Temp\\ipykernel_13564\\2618809734.py:5: SettingWithCopyWarning: \n",
            "A value is trying to be set on a copy of a slice from a DataFrame.\n",
            "Try using .loc[row_indexer,col_indexer] = value instead\n",
            "\n",
            "See the caveats in the documentation: https://pandas.pydata.org/pandas-docs/stable/user_guide/indexing.html#returning-a-view-versus-a-copy\n",
            "  chunk.loc[:, column_name] = [\n"
          ]
        },
        {
          "name": "stdout",
          "output_type": "stream",
          "text": [
            "Processed chunk 6...\n"
          ]
        },
        {
          "name": "stderr",
          "output_type": "stream",
          "text": [
            "Processing chunk 7: 100%|██████████| 90606/90606 [14:24<00:00, 104.83it/s]\n",
            "C:\\Users\\User\\AppData\\Local\\Temp\\ipykernel_13564\\2618809734.py:5: SettingWithCopyWarning: \n",
            "A value is trying to be set on a copy of a slice from a DataFrame.\n",
            "Try using .loc[row_indexer,col_indexer] = value instead\n",
            "\n",
            "See the caveats in the documentation: https://pandas.pydata.org/pandas-docs/stable/user_guide/indexing.html#returning-a-view-versus-a-copy\n",
            "  chunk.loc[:, column_name] = [\n"
          ]
        },
        {
          "name": "stdout",
          "output_type": "stream",
          "text": [
            "Processed chunk 7...\n"
          ]
        },
        {
          "name": "stderr",
          "output_type": "stream",
          "text": [
            "Processing chunk 8: 100%|██████████| 91648/91648 [14:08<00:00, 108.06it/s]\n",
            "C:\\Users\\User\\AppData\\Local\\Temp\\ipykernel_13564\\2618809734.py:5: SettingWithCopyWarning: \n",
            "A value is trying to be set on a copy of a slice from a DataFrame.\n",
            "Try using .loc[row_indexer,col_indexer] = value instead\n",
            "\n",
            "See the caveats in the documentation: https://pandas.pydata.org/pandas-docs/stable/user_guide/indexing.html#returning-a-view-versus-a-copy\n",
            "  chunk.loc[:, column_name] = [\n"
          ]
        },
        {
          "name": "stdout",
          "output_type": "stream",
          "text": [
            "Processed chunk 8...\n"
          ]
        },
        {
          "name": "stderr",
          "output_type": "stream",
          "text": [
            "Processing chunk 9: 100%|██████████| 92556/92556 [13:57<00:00, 110.52it/s]\n",
            "C:\\Users\\User\\AppData\\Local\\Temp\\ipykernel_13564\\2618809734.py:5: SettingWithCopyWarning: \n",
            "A value is trying to be set on a copy of a slice from a DataFrame.\n",
            "Try using .loc[row_indexer,col_indexer] = value instead\n",
            "\n",
            "See the caveats in the documentation: https://pandas.pydata.org/pandas-docs/stable/user_guide/indexing.html#returning-a-view-versus-a-copy\n",
            "  chunk.loc[:, column_name] = [\n"
          ]
        },
        {
          "name": "stdout",
          "output_type": "stream",
          "text": [
            "Processed chunk 9...\n"
          ]
        },
        {
          "name": "stderr",
          "output_type": "stream",
          "text": [
            "Processing chunk 10: 100%|██████████| 91931/91931 [13:44<00:00, 111.56it/s]\n",
            "C:\\Users\\User\\AppData\\Local\\Temp\\ipykernel_13564\\2618809734.py:5: SettingWithCopyWarning: \n",
            "A value is trying to be set on a copy of a slice from a DataFrame.\n",
            "Try using .loc[row_indexer,col_indexer] = value instead\n",
            "\n",
            "See the caveats in the documentation: https://pandas.pydata.org/pandas-docs/stable/user_guide/indexing.html#returning-a-view-versus-a-copy\n",
            "  chunk.loc[:, column_name] = [\n"
          ]
        },
        {
          "name": "stdout",
          "output_type": "stream",
          "text": [
            "Processed chunk 10...\n"
          ]
        },
        {
          "name": "stderr",
          "output_type": "stream",
          "text": [
            "Processing chunk 11: 100%|██████████| 89461/89461 [13:57<00:00, 106.77it/s]\n",
            "C:\\Users\\User\\AppData\\Local\\Temp\\ipykernel_13564\\2618809734.py:5: SettingWithCopyWarning: \n",
            "A value is trying to be set on a copy of a slice from a DataFrame.\n",
            "Try using .loc[row_indexer,col_indexer] = value instead\n",
            "\n",
            "See the caveats in the documentation: https://pandas.pydata.org/pandas-docs/stable/user_guide/indexing.html#returning-a-view-versus-a-copy\n",
            "  chunk.loc[:, column_name] = [\n"
          ]
        },
        {
          "name": "stdout",
          "output_type": "stream",
          "text": [
            "Processed chunk 11...\n"
          ]
        },
        {
          "name": "stderr",
          "output_type": "stream",
          "text": [
            "Processing chunk 12: 100%|██████████| 88531/88531 [13:53<00:00, 106.24it/s]\n",
            "C:\\Users\\User\\AppData\\Local\\Temp\\ipykernel_13564\\2618809734.py:5: SettingWithCopyWarning: \n",
            "A value is trying to be set on a copy of a slice from a DataFrame.\n",
            "Try using .loc[row_indexer,col_indexer] = value instead\n",
            "\n",
            "See the caveats in the documentation: https://pandas.pydata.org/pandas-docs/stable/user_guide/indexing.html#returning-a-view-versus-a-copy\n",
            "  chunk.loc[:, column_name] = [\n"
          ]
        },
        {
          "name": "stdout",
          "output_type": "stream",
          "text": [
            "Processed chunk 12...\n"
          ]
        },
        {
          "name": "stderr",
          "output_type": "stream",
          "text": [
            "Processing chunk 13: 100%|██████████| 87475/87475 [13:24<00:00, 108.67it/s]\n",
            "C:\\Users\\User\\AppData\\Local\\Temp\\ipykernel_13564\\2618809734.py:5: SettingWithCopyWarning: \n",
            "A value is trying to be set on a copy of a slice from a DataFrame.\n",
            "Try using .loc[row_indexer,col_indexer] = value instead\n",
            "\n",
            "See the caveats in the documentation: https://pandas.pydata.org/pandas-docs/stable/user_guide/indexing.html#returning-a-view-versus-a-copy\n",
            "  chunk.loc[:, column_name] = [\n"
          ]
        },
        {
          "name": "stdout",
          "output_type": "stream",
          "text": [
            "Processed chunk 13...\n"
          ]
        },
        {
          "name": "stderr",
          "output_type": "stream",
          "text": [
            "Processing chunk 14: 100%|██████████| 90065/90065 [13:27<00:00, 111.52it/s]\n",
            "C:\\Users\\User\\AppData\\Local\\Temp\\ipykernel_13564\\2618809734.py:5: SettingWithCopyWarning: \n",
            "A value is trying to be set on a copy of a slice from a DataFrame.\n",
            "Try using .loc[row_indexer,col_indexer] = value instead\n",
            "\n",
            "See the caveats in the documentation: https://pandas.pydata.org/pandas-docs/stable/user_guide/indexing.html#returning-a-view-versus-a-copy\n",
            "  chunk.loc[:, column_name] = [\n"
          ]
        },
        {
          "name": "stdout",
          "output_type": "stream",
          "text": [
            "Processed chunk 14...\n"
          ]
        },
        {
          "name": "stderr",
          "output_type": "stream",
          "text": [
            "Processing chunk 15: 100%|██████████| 88817/88817 [13:38<00:00, 108.51it/s]\n",
            "C:\\Users\\User\\AppData\\Local\\Temp\\ipykernel_13564\\2618809734.py:5: SettingWithCopyWarning: \n",
            "A value is trying to be set on a copy of a slice from a DataFrame.\n",
            "Try using .loc[row_indexer,col_indexer] = value instead\n",
            "\n",
            "See the caveats in the documentation: https://pandas.pydata.org/pandas-docs/stable/user_guide/indexing.html#returning-a-view-versus-a-copy\n",
            "  chunk.loc[:, column_name] = [\n"
          ]
        },
        {
          "name": "stdout",
          "output_type": "stream",
          "text": [
            "Processed chunk 15...\n"
          ]
        },
        {
          "name": "stderr",
          "output_type": "stream",
          "text": [
            "Processing chunk 16: 100%|██████████| 88481/88481 [13:40<00:00, 107.80it/s]\n",
            "C:\\Users\\User\\AppData\\Local\\Temp\\ipykernel_13564\\2618809734.py:5: SettingWithCopyWarning: \n",
            "A value is trying to be set on a copy of a slice from a DataFrame.\n",
            "Try using .loc[row_indexer,col_indexer] = value instead\n",
            "\n",
            "See the caveats in the documentation: https://pandas.pydata.org/pandas-docs/stable/user_guide/indexing.html#returning-a-view-versus-a-copy\n",
            "  chunk.loc[:, column_name] = [\n"
          ]
        },
        {
          "name": "stdout",
          "output_type": "stream",
          "text": [
            "Processed chunk 16...\n"
          ]
        },
        {
          "name": "stderr",
          "output_type": "stream",
          "text": [
            "Processing chunk 17: 100%|██████████| 86010/86010 [13:26<00:00, 106.66it/s]\n",
            "C:\\Users\\User\\AppData\\Local\\Temp\\ipykernel_13564\\2618809734.py:5: SettingWithCopyWarning: \n",
            "A value is trying to be set on a copy of a slice from a DataFrame.\n",
            "Try using .loc[row_indexer,col_indexer] = value instead\n",
            "\n",
            "See the caveats in the documentation: https://pandas.pydata.org/pandas-docs/stable/user_guide/indexing.html#returning-a-view-versus-a-copy\n",
            "  chunk.loc[:, column_name] = [\n"
          ]
        },
        {
          "name": "stdout",
          "output_type": "stream",
          "text": [
            "Processed chunk 17...\n"
          ]
        },
        {
          "name": "stderr",
          "output_type": "stream",
          "text": [
            "Processing chunk 18: 100%|██████████| 71350/71350 [11:10<00:00, 106.43it/s]\n",
            "C:\\Users\\User\\AppData\\Local\\Temp\\ipykernel_13564\\2618809734.py:5: SettingWithCopyWarning: \n",
            "A value is trying to be set on a copy of a slice from a DataFrame.\n",
            "Try using .loc[row_indexer,col_indexer] = value instead\n",
            "\n",
            "See the caveats in the documentation: https://pandas.pydata.org/pandas-docs/stable/user_guide/indexing.html#returning-a-view-versus-a-copy\n",
            "  chunk.loc[:, column_name] = [\n"
          ]
        },
        {
          "name": "stdout",
          "output_type": "stream",
          "text": [
            "Processed chunk 18...\n"
          ]
        },
        {
          "name": "stderr",
          "output_type": "stream",
          "text": [
            "Processing chunk 19: 100%|██████████| 56564/56564 [08:33<00:00, 110.16it/s]\n",
            "C:\\Users\\User\\AppData\\Local\\Temp\\ipykernel_13564\\2618809734.py:5: SettingWithCopyWarning: \n",
            "A value is trying to be set on a copy of a slice from a DataFrame.\n",
            "Try using .loc[row_indexer,col_indexer] = value instead\n",
            "\n",
            "See the caveats in the documentation: https://pandas.pydata.org/pandas-docs/stable/user_guide/indexing.html#returning-a-view-versus-a-copy\n",
            "  chunk.loc[:, column_name] = [\n"
          ]
        },
        {
          "name": "stdout",
          "output_type": "stream",
          "text": [
            "Processed chunk 19...\n"
          ]
        },
        {
          "name": "stderr",
          "output_type": "stream",
          "text": [
            "Processing chunk 20: 100%|██████████| 58685/58685 [09:01<00:00, 108.28it/s]\n",
            "C:\\Users\\User\\AppData\\Local\\Temp\\ipykernel_13564\\2618809734.py:5: SettingWithCopyWarning: \n",
            "A value is trying to be set on a copy of a slice from a DataFrame.\n",
            "Try using .loc[row_indexer,col_indexer] = value instead\n",
            "\n",
            "See the caveats in the documentation: https://pandas.pydata.org/pandas-docs/stable/user_guide/indexing.html#returning-a-view-versus-a-copy\n",
            "  chunk.loc[:, column_name] = [\n"
          ]
        },
        {
          "name": "stdout",
          "output_type": "stream",
          "text": [
            "Processed chunk 20...\n"
          ]
        },
        {
          "name": "stderr",
          "output_type": "stream",
          "text": [
            "Processing chunk 21: 100%|██████████| 20540/20540 [03:20<00:00, 102.52it/s]\n",
            "C:\\Users\\User\\AppData\\Local\\Temp\\ipykernel_13564\\2618809734.py:5: SettingWithCopyWarning: \n",
            "A value is trying to be set on a copy of a slice from a DataFrame.\n",
            "Try using .loc[row_indexer,col_indexer] = value instead\n",
            "\n",
            "See the caveats in the documentation: https://pandas.pydata.org/pandas-docs/stable/user_guide/indexing.html#returning-a-view-versus-a-copy\n",
            "  chunk.loc[:, column_name] = [\n"
          ]
        },
        {
          "name": "stdout",
          "output_type": "stream",
          "text": [
            "Processed chunk 21...\n",
            "Corpus completo salvo como 'consumer_complaints_full_lem.csv'.\n"
          ]
        }
      ],
      "source": [
        "if not os.path.exists(file_name):\n",
        "    corpus = []\n",
        "    for i, chunk in enumerate(pd.read_csv('complaints.csv', chunksize=chunksize)):\n",
        "        chunk = chunk.dropna()  # Remove NaN\n",
        "        chunk.loc[:, column_name] = [\n",
        "            preprocess_lemmatization(review) \n",
        "            for review in tqdm(chunk[\"narrative\"], desc=f\"Processing chunk {i+1}\")\n",
        "        ]\n",
        "        corpus.append(chunk)\n",
        "        print(f\"Processed chunk {i+1}...\")\n",
        "    \n",
        "    # Concatenar todos os chunks\n",
        "    data_processed = pd.concat(corpus, ignore_index=True)\n",
        "    data_processed.to_csv(file_name, index=False)\n",
        "    print(f\"Corpus completo salvo como '{file_name}'.\")\n",
        "else:\n",
        "    data_processed = pd.read_csv(file_name)\n",
        "    print(f\"Carregado '{file_name}' existente.\")"
      ]
    },
    {
      "cell_type": "code",
      "execution_count": 8,
      "metadata": {},
      "outputs": [
        {
          "name": "stdout",
          "output_type": "stream",
          "text": [
            "\n",
            "Total de linhas no dataset completo: 1757155\n",
            "Distribuição inicial das classes:\n",
            "product_5\n",
            "Credit Reporting              1160112\n",
            "Debt Collection                266514\n",
            "Credit Card Services           140699\n",
            "Bank Accounts and Services      99530\n",
            "Loans                           90300\n",
            "Name: count, dtype: int64\n"
          ]
        }
      ],
      "source": [
        "# Exibir informações do dataset\n",
        "print(\"\\nTotal de linhas no dataset completo:\", len(data_processed))\n",
        "print(\"Distribuição inicial das classes:\")\n",
        "print(data_processed[\"product_5\"].value_counts())"
      ]
    },
    {
      "cell_type": "markdown",
      "metadata": {},
      "source": [
        "# 2. VETORIZAÇÃO (TF-IDF com N-gramas (1,3))"
      ]
    },
    {
      "cell_type": "code",
      "execution_count": 9,
      "metadata": {},
      "outputs": [
        {
          "name": "stdout",
          "output_type": "stream",
          "text": [
            "Vetorizando o dataset completo com TF-IDF...\n",
            "Tamanho do espaço de features: (1757155, 4000)\n"
          ]
        }
      ],
      "source": [
        "print(\"Vetorizando o dataset completo com TF-IDF...\")\n",
        "tfidf = TfidfVectorizer(max_features=4000, ngram_range=(1, 3), stop_words=list(sw))\n",
        "X = tfidf.fit_transform(data_processed[column_name])\n",
        "y = data_processed[\"product_5\"]\n",
        "joblib.dump(tfidf, 'tfidf_vectorizer_full.joblib')\n",
        "print(f\"Tamanho do espaço de features: {X.shape}\")"
      ]
    },
    {
      "cell_type": "code",
      "execution_count": 10,
      "metadata": {},
      "outputs": [
        {
          "data": {
            "text/plain": [
              "'# Visualização com PCA antes do SMOTE\\npca = PCA(n_components=2)\\nX_pca = pca.fit_transform(X.toarray())\\ndf_pca = pd.DataFrame(X_pca, columns=[\"PC1\", \"PC2\"])\\ndf_pca[\"Class\"] = y.values\\n\\nplt.figure()\\nsns.scatterplot(x=\"PC1\", y=\"PC2\", hue=\"Class\", data=df_pca, alpha=0.6)\\nplt.title(\"Distribuição das Classes Antes do SMOTE (Dataset Completo)\")\\nplt.legend()\\nplt.tight_layout()\\nplt.savefig(\"smote_before_full_pca.png\")\\nplt.show()'"
            ]
          },
          "execution_count": 10,
          "metadata": {},
          "output_type": "execute_result"
        }
      ],
      "source": [
        "'''# Visualização com PCA antes do SMOTE\n",
        "pca = PCA(n_components=2)\n",
        "X_pca = pca.fit_transform(X.toarray())\n",
        "df_pca = pd.DataFrame(X_pca, columns=[\"PC1\", \"PC2\"])\n",
        "df_pca[\"Class\"] = y.values\n",
        "\n",
        "plt.figure()\n",
        "sns.scatterplot(x=\"PC1\", y=\"PC2\", hue=\"Class\", data=df_pca, alpha=0.6)\n",
        "plt.title(\"Distribuição das Classes Antes do SMOTE (Dataset Completo)\")\n",
        "plt.legend()\n",
        "plt.tight_layout()\n",
        "plt.savefig(\"smote_before_full_pca.png\")\n",
        "plt.show()'''"
      ]
    },
    {
      "cell_type": "markdown",
      "metadata": {},
      "source": [
        "# 3. OVERSAMPLING COM SMOTE"
      ]
    },
    {
      "cell_type": "code",
      "execution_count": 11,
      "metadata": {},
      "outputs": [
        {
          "name": "stdout",
          "output_type": "stream",
          "text": [
            "\n",
            "Distribuição das classes após SMOTE:\n",
            "product_5\n",
            "Credit Reporting              1160112\n",
            "Debt Collection               1160112\n",
            "Loans                         1160112\n",
            "Bank Accounts and Services    1160112\n",
            "Credit Card Services          1160112\n",
            "Name: count, dtype: int64\n"
          ]
        }
      ],
      "source": [
        "smote = SMOTE(random_state=42, k_neighbors=5)\n",
        "X_smote, y_smote = smote.fit_resample(X, y)\n",
        "print(\"\\nDistribuição das classes após SMOTE:\")\n",
        "print(pd.Series(y_smote).value_counts())"
      ]
    },
    {
      "cell_type": "code",
      "execution_count": 12,
      "metadata": {},
      "outputs": [
        {
          "data": {
            "text/plain": [
              "'# Visualização com PCA após o SMOTE\\nX_smote_pca = pca.transform(X_smote.toarray())\\ndf_smote_pca = pd.DataFrame(X_smote_pca, columns=[\"PC1\", \"PC2\"])\\ndf_smote_pca[\"Class\"] = y_smote\\n\\nplt.figure()\\nsns.scatterplot(x=\"PC1\", y=\"PC2\", hue=\"Class\", data=df_smote_pca, alpha=0.6)\\nplt.title(\"Distribuição das Classes Após o SMOTE (Dataset Completo)\")\\nplt.legend()\\nplt.tight_layout()\\nplt.savefig(\"smote_after_full_pca.png\")\\nplt.show()'"
            ]
          },
          "execution_count": 12,
          "metadata": {},
          "output_type": "execute_result"
        }
      ],
      "source": [
        "'''# Visualização com PCA após o SMOTE\n",
        "X_smote_pca = pca.transform(X_smote.toarray())\n",
        "df_smote_pca = pd.DataFrame(X_smote_pca, columns=[\"PC1\", \"PC2\"])\n",
        "df_smote_pca[\"Class\"] = y_smote\n",
        "\n",
        "plt.figure()\n",
        "sns.scatterplot(x=\"PC1\", y=\"PC2\", hue=\"Class\", data=df_smote_pca, alpha=0.6)\n",
        "plt.title(\"Distribuição das Classes Após o SMOTE (Dataset Completo)\")\n",
        "plt.legend()\n",
        "plt.tight_layout()\n",
        "plt.savefig(\"smote_after_full_pca.png\")\n",
        "plt.show()'''"
      ]
    },
    {
      "cell_type": "markdown",
      "metadata": {},
      "source": [
        "# 4. TREINAR E AVALIAR COM LOGISTIC REGRESSION L2"
      ]
    },
    {
      "cell_type": "code",
      "execution_count": 13,
      "metadata": {},
      "outputs": [
        {
          "name": "stdout",
          "output_type": "stream",
          "text": [
            "Logistic Regression (SMOTE Oversampling Full Dataset):\n",
            "                             precision    recall  f1-score   support\n",
            "\n",
            "Bank Accounts and Services       0.89      0.92      0.91    231263\n",
            "      Credit Card Services       0.87      0.83      0.85    232681\n",
            "          Credit Reporting       0.87      0.85      0.86    232040\n",
            "           Debt Collection       0.85      0.82      0.84    232277\n",
            "                     Loans       0.85      0.90      0.87    231851\n",
            "\n",
            "                  accuracy                           0.87   1160112\n",
            "                 macro avg       0.87      0.87      0.87   1160112\n",
            "              weighted avg       0.87      0.87      0.87   1160112\n",
            "\n"
          ]
        }
      ],
      "source": [
        "def train_and_evaluate_lr(X, y, scenario_name):    \n",
        "    X_train, X_test, y_train, y_test = train_test_split(X, y, test_size=0.2, random_state=42)\n",
        "    lr_l2 = LogisticRegression(penalty='l2', max_iter=1000, solver='liblinear', random_state=42)\n",
        "    lr_l2.fit(X_train, y_train)\n",
        "    y_pred = lr_l2.predict(X_test)\n",
        "    print(f\"Logistic Regression ({scenario_name}):\\n\", classification_report(y_test, y_pred, zero_division=0))\n",
        "    joblib.dump(lr_l2, f'lr_l2_{scenario_name.lower().replace(\" \", \"_\")}_3percent.joblib')\n",
        "\n",
        "train_and_evaluate_lr(X_smote, y_smote, \"SMOTE Oversampling Full Dataset\")"
      ]
    }
  ],
  "metadata": {
    "colab": {
      "provenance": []
    },
    "kernelspec": {
      "display_name": "Python 3",
      "language": "python",
      "name": "python3"
    },
    "language_info": {
      "codemirror_mode": {
        "name": "ipython",
        "version": 3
      },
      "file_extension": ".py",
      "mimetype": "text/x-python",
      "name": "python",
      "nbconvert_exporter": "python",
      "pygments_lexer": "ipython3",
      "version": "3.12.6"
    }
  },
  "nbformat": 4,
  "nbformat_minor": 0
}
