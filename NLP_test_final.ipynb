{
  "cells": [
    {
      "cell_type": "code",
      "execution_count": 5,
      "metadata": {},
      "outputs": [],
      "source": [
        "import pandas as pd\n",
        "import nltk\n",
        "import matplotlib.pyplot as plt\n",
        "import seaborn as sns\n",
        "import re\n",
        "from nltk.corpus import stopwords\n",
        "from sklearn.feature_extraction.text import TfidfVectorizer\n",
        "from sklearn.model_selection import train_test_split\n",
        "from sklearn.metrics import classification_report\n",
        "from nltk.tokenize import regexp_tokenize\n",
        "import os\n",
        "import joblib\n",
        "import numpy as np\n",
        "import spacy\n",
        "from sklearn.preprocessing import LabelEncoder\n",
        "from imblearn.over_sampling import SMOTE\n",
        "from sklearn.decomposition import PCA\n",
        "from sklearn.linear_model import LogisticRegression"
      ]
    },
    {
      "cell_type": "code",
      "execution_count": 6,
      "metadata": {},
      "outputs": [],
      "source": [
        "# Downloads necessários do NLTK\n",
        "nltk.download('punkt_tab', quiet=True)\n",
        "nltk.download('stopwords', quiet=True)\n",
        "nltk.download('punkt', quiet=True)\n",
        "\n",
        "# Configurações gerais para visualização\n",
        "sns.set(style=\"whitegrid\")\n",
        "plt.rcParams[\"figure.figsize\"] = (12, 6)"
      ]
    },
    {
      "cell_type": "code",
      "execution_count": 7,
      "metadata": {},
      "outputs": [],
      "source": [
        "# Carregar o modelo do spaCy\n",
        "nlp = spacy.load(\"en_core_web_sm\", disable=[\"ner\", \"parser\"])\n",
        "\n",
        "# Stopwords\n",
        "sw = set(stopwords.words(\"english\"))"
      ]
    },
    {
      "cell_type": "markdown",
      "metadata": {},
      "source": [
        "# 1. CARREGAR O DATASET COMPLETO"
      ]
    },
    {
      "cell_type": "code",
      "execution_count": null,
      "metadata": {},
      "outputs": [],
      "source": [
        "chunksize = 100000  # Processar em lotes de 100.000 linhas\n",
        "data_chunks = []\n",
        "for chunk in pd.read_csv('complaints.csv', chunksize=chunksize):\n",
        "    chunk = chunk.dropna()\n",
        "    data_chunks.append(chunk)\n",
        "data = pd.concat(data_chunks, ignore_index=True)\n",
        "\n",
        "print(\"\\nTotal de linhas no dataset completo:\", len(data))\n",
        "print(\"Distribuição inicial das classes:\")\n",
        "print(data[\"product_5\"].value_counts())"
      ]
    },
    {
      "cell_type": "markdown",
      "metadata": {},
      "source": [
        "# 2. PRÉ-PROCESSAMENTO (Lemmatization)"
      ]
    },
    {
      "cell_type": "code",
      "execution_count": null,
      "metadata": {},
      "outputs": [],
      "source": [
        "REGEX_PATTERN = r'''(?x)  # Retirado do Notebook do Professor \"preprocessing.ipynb\"\n",
        "    (?:[A-Z]\\.)+         \n",
        "    | (?!x+\\b)\\w+(?:-\\w+)*  # Exclui palavras só com \"x\"\n",
        "    | \\$?\\d+(?:\\.\\d+)?%? \n",
        "    | \\.\\.\\.             \n",
        "    | [][.,;\"'?():-_`]  \n",
        "'''"
      ]
    },
    {
      "cell_type": "code",
      "execution_count": null,
      "metadata": {},
      "outputs": [],
      "source": [
        "def preprocess_lemmatization(text):\n",
        "    text = str(text) if pd.notna(text) else ''\n",
        "    tokens = regexp_tokenize(text.lower(), REGEX_PATTERN)\n",
        "    doc = nlp(' '.join(tokens))\n",
        "    tokens = [token.lemma_ for token in doc if token.text not in sw and token.is_alpha]\n",
        "    return ' '.join(tokens)"
      ]
    },
    {
      "cell_type": "code",
      "execution_count": null,
      "metadata": {},
      "outputs": [
        {
          "name": "stderr",
          "output_type": "stream",
          "text": [
            "Processing chunk 1: 100%|██████████| 96979/96979 [18:21<00:00, 88.00it/s]  \n",
            "C:\\Users\\User\\AppData\\Local\\Temp\\ipykernel_12620\\4240825333.py:12: SettingWithCopyWarning: \n",
            "A value is trying to be set on a copy of a slice from a DataFrame.\n",
            "Try using .loc[row_indexer,col_indexer] = value instead\n",
            "\n",
            "See the caveats in the documentation: https://pandas.pydata.org/pandas-docs/stable/user_guide/indexing.html#returning-a-view-versus-a-copy\n",
            "  chunk.loc[:, column_name] = [\n"
          ]
        },
        {
          "name": "stdout",
          "output_type": "stream",
          "text": [
            "Processed chunk 1...\n"
          ]
        },
        {
          "name": "stderr",
          "output_type": "stream",
          "text": [
            "Processing chunk 2: 100%|██████████| 95151/95151 [15:40<00:00, 101.13it/s]\n",
            "C:\\Users\\User\\AppData\\Local\\Temp\\ipykernel_12620\\4240825333.py:12: SettingWithCopyWarning: \n",
            "A value is trying to be set on a copy of a slice from a DataFrame.\n",
            "Try using .loc[row_indexer,col_indexer] = value instead\n",
            "\n",
            "See the caveats in the documentation: https://pandas.pydata.org/pandas-docs/stable/user_guide/indexing.html#returning-a-view-versus-a-copy\n",
            "  chunk.loc[:, column_name] = [\n"
          ]
        },
        {
          "name": "stdout",
          "output_type": "stream",
          "text": [
            "Processed chunk 2...\n"
          ]
        },
        {
          "name": "stderr",
          "output_type": "stream",
          "text": [
            "Processing chunk 3: 100%|██████████| 94205/94205 [15:06<00:00, 103.89it/s]\n",
            "C:\\Users\\User\\AppData\\Local\\Temp\\ipykernel_12620\\4240825333.py:12: SettingWithCopyWarning: \n",
            "A value is trying to be set on a copy of a slice from a DataFrame.\n",
            "Try using .loc[row_indexer,col_indexer] = value instead\n",
            "\n",
            "See the caveats in the documentation: https://pandas.pydata.org/pandas-docs/stable/user_guide/indexing.html#returning-a-view-versus-a-copy\n",
            "  chunk.loc[:, column_name] = [\n"
          ]
        },
        {
          "name": "stdout",
          "output_type": "stream",
          "text": [
            "Processed chunk 3...\n"
          ]
        },
        {
          "name": "stderr",
          "output_type": "stream",
          "text": [
            "Processing chunk 4: 100%|██████████| 92633/92633 [14:44<00:00, 104.76it/s]\n",
            "C:\\Users\\User\\AppData\\Local\\Temp\\ipykernel_12620\\4240825333.py:12: SettingWithCopyWarning: \n",
            "A value is trying to be set on a copy of a slice from a DataFrame.\n",
            "Try using .loc[row_indexer,col_indexer] = value instead\n",
            "\n",
            "See the caveats in the documentation: https://pandas.pydata.org/pandas-docs/stable/user_guide/indexing.html#returning-a-view-versus-a-copy\n",
            "  chunk.loc[:, column_name] = [\n"
          ]
        },
        {
          "name": "stdout",
          "output_type": "stream",
          "text": [
            "Processed chunk 4...\n"
          ]
        },
        {
          "name": "stderr",
          "output_type": "stream",
          "text": [
            "Processing chunk 5:  53%|█████▎    | 49268/93535 [07:59<08:31, 86.59it/s] "
          ]
        }
      ],
      "source": [
        "from tqdm import tqdm  # For progress tracking\n",
        "\n",
        "file_name = \"consumer_complaints_full_lem.csv\"\n",
        "column_name = \"processed_text_lem\"\n",
        "chunksize = 100000\n",
        "\n",
        "corpus = []\n",
        "for i, chunk in enumerate(pd.read_csv('complaints.csv', chunksize=chunksize)):\n",
        "    \n",
        "    # Use .loc to avoid SettingWithCopyWarning and add progress bar\n",
        "    chunk.loc[:, column_name] = [\n",
        "        preprocess_lemmatization(review) \n",
        "        for review in tqdm(chunk[\"narrative\"], desc=f\"Processing chunk {i+1}\")\n",
        "    ]\n",
        "    \n",
        "    corpus.append(chunk)\n",
        "    print(f\"Processed chunk {i+1}...\")\n",
        "\n",
        "# Concatenate all chunks into a single DataFrame\n",
        "data_processed = pd.concat(corpus, ignore_index=True)\n",
        "\n",
        "# Save to CSV\n",
        "data_processed.to_csv(file_name, index=False)\n",
        "print(f\"Corpus completo saved as '{file_name}'.\")"
      ]
    },
    {
      "cell_type": "markdown",
      "metadata": {},
      "source": [
        "# 3. VETORIZAÇÃO (TF-IDF com N-gramas (1,3))"
      ]
    },
    {
      "cell_type": "code",
      "execution_count": null,
      "metadata": {},
      "outputs": [],
      "source": [
        "print(\"Vetorizando o dataset completo com TF-IDF...\")\n",
        "tfidf = TfidfVectorizer(max_features=4000, ngram_range=(1, 3), stop_words=list(sw))\n",
        "X = tfidf.fit_transform(data_processed[column_name])\n",
        "y = data_processed[\"product_5\"]\n",
        "joblib.dump(tfidf, 'tfidf_vectorizer_full.joblib')\n",
        "print(f\"Tamanho do espaço de features: {X.shape}\")"
      ]
    },
    {
      "cell_type": "code",
      "execution_count": null,
      "metadata": {},
      "outputs": [],
      "source": [
        "# Visualização com PCA antes do SMOTE\n",
        "pca = PCA(n_components=2)\n",
        "X_pca = pca.fit_transform(X.toarray())  # Pode ser necessário amostrar se for muito grande\n",
        "df_pca = pd.DataFrame(X_pca, columns=[\"PC1\", \"PC2\"])\n",
        "df_pca[\"Class\"] = y.values\n",
        "\n",
        "plt.figure()\n",
        "sns.scatterplot(x=\"PC1\", y=\"PC2\", hue=\"Class\", data=df_pca, alpha=0.6)\n",
        "plt.title(\"Distribuição das Classes Antes do SMOTE (Dataset Completo)\")\n",
        "plt.legend()\n",
        "plt.tight_layout()\n",
        "plt.savefig(\"smote_before_full_pca.png\")\n",
        "plt.show()"
      ]
    },
    {
      "cell_type": "markdown",
      "metadata": {},
      "source": [
        "# 4. OVERSAMPLING COM SMOTE APÓS O TF-IDF"
      ]
    },
    {
      "cell_type": "code",
      "execution_count": null,
      "metadata": {},
      "outputs": [],
      "source": [
        "smote = SMOTE(random_state=42, k_neighbors=5)\n",
        "X_smote, y_smote = smote.fit_resample(X, y)\n",
        "\n",
        "print(\"\\nDistribuição das classes após SMOTE:\")\n",
        "print(pd.Series(y_smote).value_counts())"
      ]
    },
    {
      "cell_type": "code",
      "execution_count": null,
      "metadata": {},
      "outputs": [],
      "source": [
        "# Visualização com PCA após o SMOTE\n",
        "X_smote_pca = pca.transform(X_smote.toarray())\n",
        "df_smote_pca = pd.DataFrame(X_smote_pca, columns=[\"PC1\", \"PC2\"])\n",
        "df_smote_pca[\"Class\"] = y_smote\n",
        "\n",
        "plt.figure()\n",
        "sns.scatterplot(x=\"PC1\", y=\"PC2\", hue=\"Class\", data=df_smote_pca, alpha=0.6)\n",
        "plt.title(\"Distribuição das Classes Após o SMOTE (Dataset Completo)\")\n",
        "plt.legend()\n",
        "plt.tight_layout()\n",
        "plt.savefig(\"smote_after_full_pca.png\")\n",
        "plt.show()"
      ]
    },
    {
      "cell_type": "markdown",
      "metadata": {},
      "source": [
        "# 5. TREINAMENTO E AVALIAÇÃO COM Logistic Regression"
      ]
    },
    {
      "cell_type": "code",
      "execution_count": null,
      "metadata": {},
      "outputs": [],
      "source": [
        "def train_and_evaluate_lr(X, y, scenario_name):    \n",
        "    \n",
        "    X_train, X_test, y_train, y_test = train_test_split(X, y, test_size=0.2, random_state=42)\n",
        "    \n",
        "    # Modelo LogisticRegression com L2\n",
        "    lr_l2 = LogisticRegression(penalty='l2', max_iter=1000, solver='liblinear', random_state=42)\n",
        "    lr_l2.fit(X_train, y_train)\n",
        "    y_pred_enc = lr_l2.predict(X_test)\n",
        "    \n",
        "    print(f\"Logistic Regression ({scenario_name}):\\n\", classification_report(y_test, y_pred_enc, zero_division=0))\n",
        "    joblib.dump(lr_l2, f'lr_l2_{scenario_name.lower().replace(\" \", \"_\")}_3percent.joblib')\n",
        "\n",
        "train_and_evaluate_lr(X_smote, y_smote, \"SMOTE Oversampling Full Dataset\")"
      ]
    }
  ],
  "metadata": {
    "colab": {
      "provenance": []
    },
    "kernelspec": {
      "display_name": "Python 3",
      "language": "python",
      "name": "python3"
    },
    "language_info": {
      "codemirror_mode": {
        "name": "ipython",
        "version": 3
      },
      "file_extension": ".py",
      "mimetype": "text/x-python",
      "name": "python",
      "nbconvert_exporter": "python",
      "pygments_lexer": "ipython3",
      "version": "3.12.6"
    }
  },
  "nbformat": 4,
  "nbformat_minor": 0
}
