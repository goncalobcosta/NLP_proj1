{
  "cells": [
    {
      "cell_type": "code",
      "execution_count": 5,
      "metadata": {},
      "outputs": [],
      "source": [
        "import pandas as pd\n",
        "import nltk\n",
        "import matplotlib.pyplot as plt\n",
        "import seaborn as sns\n",
        "import re\n",
        "from nltk.corpus import stopwords\n",
        "from sklearn.feature_extraction.text import TfidfVectorizer\n",
        "from sklearn.model_selection import train_test_split\n",
        "from sklearn.metrics import classification_report\n",
        "from nltk.tokenize import regexp_tokenize\n",
        "import os\n",
        "import joblib\n",
        "import numpy as np\n",
        "import spacy\n",
        "from sklearn.preprocessing import LabelEncoder\n",
        "from imblearn.over_sampling import SMOTE\n",
        "from sklearn.decomposition import PCA\n",
        "from sklearn.linear_model import LogisticRegression"
      ]
    },
    {
      "cell_type": "code",
      "execution_count": 6,
      "metadata": {},
      "outputs": [],
      "source": [
        "# Downloads necessários do NLTK\n",
        "nltk.download('punkt_tab', quiet=True)\n",
        "nltk.download('stopwords', quiet=True)\n",
        "nltk.download('punkt', quiet=True)\n",
        "\n",
        "# Configurações gerais para visualização\n",
        "sns.set(style=\"whitegrid\")\n",
        "plt.rcParams[\"figure.figsize\"] = (12, 6)"
      ]
    },
    {
      "cell_type": "code",
      "execution_count": 7,
      "metadata": {},
      "outputs": [],
      "source": [
        "# Carregar o modelo do spaCy\n",
        "nlp = spacy.load(\"en_core_web_sm\", disable=[\"ner\", \"parser\"])\n",
        "\n",
        "# Stopwords\n",
        "sw = set(stopwords.words(\"english\"))"
      ]
    },
    {
      "cell_type": "markdown",
      "metadata": {},
      "source": [
        "# 1. CARREGAR O DATASET COMPLETO"
      ]
    },
    {
      "cell_type": "code",
      "execution_count": 8,
      "metadata": {},
      "outputs": [
        {
          "name": "stdout",
          "output_type": "stream",
          "text": [
            "\n",
            "Total de linhas no dataset completo: 1757155\n",
            "Distribuição inicial das classes:\n",
            "product_5\n",
            "Credit Reporting              1160112\n",
            "Debt Collection                266514\n",
            "Credit Card Services           140699\n",
            "Bank Accounts and Services      99530\n",
            "Loans                           90300\n",
            "Name: count, dtype: int64\n"
          ]
        }
      ],
      "source": [
        "chunksize = 100000  # Processar em lotes de 100.000 linhas\n",
        "data_chunks = []\n",
        "for chunk in pd.read_csv('complaints.csv', chunksize=chunksize):\n",
        "    chunk = chunk.dropna()\n",
        "    data_chunks.append(chunk)\n",
        "data = pd.concat(data_chunks, ignore_index=True)\n",
        "\n",
        "print(\"\\nTotal de linhas no dataset completo:\", len(data))\n",
        "print(\"Distribuição inicial das classes:\")\n",
        "print(data[\"product_5\"].value_counts())"
      ]
    },
    {
      "cell_type": "markdown",
      "metadata": {},
      "source": [
        "# 2. PRÉ-PROCESSAMENTO (Lemmatization)"
      ]
    },
    {
      "cell_type": "code",
      "execution_count": 9,
      "metadata": {},
      "outputs": [],
      "source": [
        "REGEX_PATTERN = r'''(?x)  # Retirado do Notebook do Professor \"preprocessing.ipynb\"\n",
        "    (?:[A-Z]\\.)+         \n",
        "    | (?!x+\\b)\\w+(?:-\\w+)*  # Exclui palavras só com \"x\"\n",
        "    | \\$?\\d+(?:\\.\\d+)?%? \n",
        "    | \\.\\.\\.             \n",
        "    | [][.,;\"'?():-_`]  \n",
        "'''"
      ]
    },
    {
      "cell_type": "code",
      "execution_count": 10,
      "metadata": {},
      "outputs": [],
      "source": [
        "def preprocess_lemmatization(text):\n",
        "    text = str(text) if pd.notna(text) else ''\n",
        "    tokens = regexp_tokenize(text.lower(), REGEX_PATTERN)\n",
        "    doc = nlp(' '.join(tokens))\n",
        "    tokens = [token.lemma_ for token in doc if token.text not in sw and token.is_alpha]\n",
        "    return ' '.join(tokens)"
      ]
    },
    {
      "cell_type": "code",
      "execution_count": 11,
      "metadata": {},
      "outputs": [
        {
          "name": "stderr",
          "output_type": "stream",
          "text": [
            "Processing chunk 1: 100%|██████████| 100000/100000 [15:06<00:00, 110.34it/s]\n"
          ]
        },
        {
          "name": "stdout",
          "output_type": "stream",
          "text": [
            "Processed chunk 1...\n"
          ]
        },
        {
          "name": "stderr",
          "output_type": "stream",
          "text": [
            "Processing chunk 2: 100%|██████████| 100000/100000 [16:16<00:00, 102.38it/s]\n"
          ]
        },
        {
          "name": "stdout",
          "output_type": "stream",
          "text": [
            "Processed chunk 2...\n"
          ]
        },
        {
          "name": "stderr",
          "output_type": "stream",
          "text": [
            "Processing chunk 3: 100%|██████████| 100000/100000 [15:54<00:00, 104.75it/s]\n"
          ]
        },
        {
          "name": "stdout",
          "output_type": "stream",
          "text": [
            "Processed chunk 3...\n"
          ]
        },
        {
          "name": "stderr",
          "output_type": "stream",
          "text": [
            "Processing chunk 4: 100%|██████████| 100000/100000 [15:36<00:00, 106.78it/s]\n"
          ]
        },
        {
          "name": "stdout",
          "output_type": "stream",
          "text": [
            "Processed chunk 4...\n"
          ]
        },
        {
          "name": "stderr",
          "output_type": "stream",
          "text": [
            "Processing chunk 5: 100%|██████████| 100000/100000 [15:54<00:00, 104.82it/s]\n"
          ]
        },
        {
          "name": "stdout",
          "output_type": "stream",
          "text": [
            "Processed chunk 5...\n"
          ]
        },
        {
          "name": "stderr",
          "output_type": "stream",
          "text": [
            "Processing chunk 6: 100%|██████████| 100000/100000 [16:15<00:00, 102.54it/s]\n"
          ]
        },
        {
          "name": "stdout",
          "output_type": "stream",
          "text": [
            "Processed chunk 6...\n"
          ]
        },
        {
          "name": "stderr",
          "output_type": "stream",
          "text": [
            "Processing chunk 7: 100%|██████████| 100000/100000 [16:49<00:00, 99.03it/s]\n"
          ]
        },
        {
          "name": "stdout",
          "output_type": "stream",
          "text": [
            "Processed chunk 7...\n"
          ]
        },
        {
          "name": "stderr",
          "output_type": "stream",
          "text": [
            "Processing chunk 8: 100%|██████████| 100000/100000 [16:19<00:00, 102.07it/s]\n"
          ]
        },
        {
          "name": "stdout",
          "output_type": "stream",
          "text": [
            "Processed chunk 8...\n"
          ]
        },
        {
          "name": "stderr",
          "output_type": "stream",
          "text": [
            "Processing chunk 9: 100%|██████████| 100000/100000 [15:54<00:00, 104.75it/s]\n"
          ]
        },
        {
          "name": "stdout",
          "output_type": "stream",
          "text": [
            "Processed chunk 9...\n"
          ]
        },
        {
          "name": "stderr",
          "output_type": "stream",
          "text": [
            "Processing chunk 10: 100%|██████████| 100000/100000 [15:52<00:00, 104.94it/s]\n"
          ]
        },
        {
          "name": "stdout",
          "output_type": "stream",
          "text": [
            "Processed chunk 10...\n"
          ]
        },
        {
          "name": "stderr",
          "output_type": "stream",
          "text": [
            "Processing chunk 11: 100%|██████████| 100000/100000 [16:44<00:00, 99.57it/s] \n"
          ]
        },
        {
          "name": "stdout",
          "output_type": "stream",
          "text": [
            "Processed chunk 11...\n"
          ]
        },
        {
          "name": "stderr",
          "output_type": "stream",
          "text": [
            "Processing chunk 12: 100%|██████████| 100000/100000 [16:59<00:00, 98.07it/s]\n"
          ]
        },
        {
          "name": "stdout",
          "output_type": "stream",
          "text": [
            "Processed chunk 12...\n"
          ]
        },
        {
          "name": "stderr",
          "output_type": "stream",
          "text": [
            "Processing chunk 13: 100%|██████████| 100000/100000 [16:48<00:00, 99.18it/s]\n"
          ]
        },
        {
          "name": "stdout",
          "output_type": "stream",
          "text": [
            "Processed chunk 13...\n"
          ]
        },
        {
          "name": "stderr",
          "output_type": "stream",
          "text": [
            "Processing chunk 14: 100%|██████████| 100000/100000 [16:23<00:00, 101.63it/s]\n"
          ]
        },
        {
          "name": "stdout",
          "output_type": "stream",
          "text": [
            "Processed chunk 14...\n"
          ]
        },
        {
          "name": "stderr",
          "output_type": "stream",
          "text": [
            "Processing chunk 15: 100%|██████████| 100000/100000 [16:39<00:00, 100.02it/s]\n"
          ]
        },
        {
          "name": "stdout",
          "output_type": "stream",
          "text": [
            "Processed chunk 15...\n"
          ]
        },
        {
          "name": "stderr",
          "output_type": "stream",
          "text": [
            "Processing chunk 16: 100%|██████████| 100000/100000 [16:34<00:00, 100.58it/s]\n"
          ]
        },
        {
          "name": "stdout",
          "output_type": "stream",
          "text": [
            "Processed chunk 16...\n"
          ]
        },
        {
          "name": "stderr",
          "output_type": "stream",
          "text": [
            "Processing chunk 17: 100%|██████████| 100000/100000 [16:45<00:00, 99.47it/s]\n"
          ]
        },
        {
          "name": "stdout",
          "output_type": "stream",
          "text": [
            "Processed chunk 17...\n"
          ]
        },
        {
          "name": "stderr",
          "output_type": "stream",
          "text": [
            "Processing chunk 18: 100%|██████████| 100000/100000 [17:06<00:00, 97.43it/s]\n"
          ]
        },
        {
          "name": "stdout",
          "output_type": "stream",
          "text": [
            "Processed chunk 18...\n"
          ]
        },
        {
          "name": "stderr",
          "output_type": "stream",
          "text": [
            "Processing chunk 19: 100%|██████████| 100000/100000 [17:09<00:00, 97.16it/s]\n"
          ]
        },
        {
          "name": "stdout",
          "output_type": "stream",
          "text": [
            "Processed chunk 19...\n"
          ]
        },
        {
          "name": "stderr",
          "output_type": "stream",
          "text": [
            "Processing chunk 20: 100%|██████████| 100000/100000 [17:16<00:00, 96.44it/s]\n"
          ]
        },
        {
          "name": "stdout",
          "output_type": "stream",
          "text": [
            "Processed chunk 20...\n"
          ]
        },
        {
          "name": "stderr",
          "output_type": "stream",
          "text": [
            "Processing chunk 21: 100%|██████████| 23066/23066 [04:20<00:00, 88.63it/s] \n"
          ]
        },
        {
          "name": "stdout",
          "output_type": "stream",
          "text": [
            "Processed chunk 21...\n",
            "Corpus completo saved as 'consumer_complaints_full_lem.csv'.\n"
          ]
        }
      ],
      "source": [
        "from tqdm import tqdm  # For progress tracking\n",
        "\n",
        "file_name = \"consumer_complaints_full_lem.csv\"\n",
        "column_name = \"processed_text_lem\"\n",
        "chunksize = 100000\n",
        "\n",
        "corpus = []\n",
        "for i, chunk in enumerate(pd.read_csv('complaints.csv', chunksize=chunksize)):\n",
        "    \n",
        "    # Use .loc to avoid SettingWithCopyWarning and add progress bar\n",
        "    chunk.loc[:, column_name] = [\n",
        "        preprocess_lemmatization(review) \n",
        "        for review in tqdm(chunk[\"narrative\"], desc=f\"Processing chunk {i+1}\")\n",
        "    ]\n",
        "    \n",
        "    corpus.append(chunk)\n",
        "    print(f\"Processed chunk {i+1}...\")\n",
        "\n",
        "# Concatenate all chunks into a single DataFrame\n",
        "data_processed = pd.concat(corpus, ignore_index=True)\n",
        "\n",
        "# Save to CSV\n",
        "data_processed.to_csv(file_name, index=False)\n",
        "print(f\"Corpus completo saved as '{file_name}'.\")"
      ]
    },
    {
      "cell_type": "markdown",
      "metadata": {},
      "source": [
        "# 3. VETORIZAÇÃO (TF-IDF com N-gramas (1,3))"
      ]
    },
    {
      "cell_type": "code",
      "execution_count": 12,
      "metadata": {},
      "outputs": [
        {
          "name": "stdout",
          "output_type": "stream",
          "text": [
            "Vetorizando o dataset completo com TF-IDF...\n",
            "Tamanho do espaço de features: (2023066, 4000)\n"
          ]
        }
      ],
      "source": [
        "print(\"Vetorizando o dataset completo com TF-IDF...\")\n",
        "tfidf = TfidfVectorizer(max_features=4000, ngram_range=(1, 3), stop_words=list(sw))\n",
        "X = tfidf.fit_transform(data_processed[column_name])\n",
        "y = data_processed[\"product_5\"]\n",
        "joblib.dump(tfidf, 'tfidf_vectorizer_full.joblib')\n",
        "print(f\"Tamanho do espaço de features: {X.shape}\")"
      ]
    },
    {
      "cell_type": "code",
      "execution_count": 13,
      "metadata": {},
      "outputs": [
        {
          "ename": "MemoryError",
          "evalue": "Unable to allocate 60.3 GiB for an array with shape (2023066, 4000) and data type float64",
          "output_type": "error",
          "traceback": [
            "\u001b[1;31m---------------------------------------------------------------------------\u001b[0m",
            "\u001b[1;31mMemoryError\u001b[0m                               Traceback (most recent call last)",
            "Cell \u001b[1;32mIn[13], line 3\u001b[0m\n\u001b[0;32m      1\u001b[0m \u001b[38;5;66;03m# Visualização com PCA antes do SMOTE\u001b[39;00m\n\u001b[0;32m      2\u001b[0m pca \u001b[38;5;241m=\u001b[39m PCA(n_components\u001b[38;5;241m=\u001b[39m\u001b[38;5;241m2\u001b[39m)\n\u001b[1;32m----> 3\u001b[0m X_pca \u001b[38;5;241m=\u001b[39m pca\u001b[38;5;241m.\u001b[39mfit_transform(\u001b[43mX\u001b[49m\u001b[38;5;241;43m.\u001b[39;49m\u001b[43mtoarray\u001b[49m\u001b[43m(\u001b[49m\u001b[43m)\u001b[49m)  \u001b[38;5;66;03m# Pode ser necessário amostrar se for muito grande\u001b[39;00m\n\u001b[0;32m      4\u001b[0m df_pca \u001b[38;5;241m=\u001b[39m pd\u001b[38;5;241m.\u001b[39mDataFrame(X_pca, columns\u001b[38;5;241m=\u001b[39m[\u001b[38;5;124m\"\u001b[39m\u001b[38;5;124mPC1\u001b[39m\u001b[38;5;124m\"\u001b[39m, \u001b[38;5;124m\"\u001b[39m\u001b[38;5;124mPC2\u001b[39m\u001b[38;5;124m\"\u001b[39m])\n\u001b[0;32m      5\u001b[0m df_pca[\u001b[38;5;124m\"\u001b[39m\u001b[38;5;124mClass\u001b[39m\u001b[38;5;124m\"\u001b[39m] \u001b[38;5;241m=\u001b[39m y\u001b[38;5;241m.\u001b[39mvalues\n",
            "File \u001b[1;32mc:\\Users\\User\\AppData\\Local\\Programs\\Python\\Python312\\Lib\\site-packages\\scipy\\sparse\\_compressed.py:1106\u001b[0m, in \u001b[0;36m_cs_matrix.toarray\u001b[1;34m(self, order, out)\u001b[0m\n\u001b[0;32m   1104\u001b[0m \u001b[38;5;28;01mif\u001b[39;00m out \u001b[38;5;129;01mis\u001b[39;00m \u001b[38;5;28;01mNone\u001b[39;00m \u001b[38;5;129;01mand\u001b[39;00m order \u001b[38;5;129;01mis\u001b[39;00m \u001b[38;5;28;01mNone\u001b[39;00m:\n\u001b[0;32m   1105\u001b[0m     order \u001b[38;5;241m=\u001b[39m \u001b[38;5;28mself\u001b[39m\u001b[38;5;241m.\u001b[39m_swap(\u001b[38;5;124m'\u001b[39m\u001b[38;5;124mcf\u001b[39m\u001b[38;5;124m'\u001b[39m)[\u001b[38;5;241m0\u001b[39m]\n\u001b[1;32m-> 1106\u001b[0m out \u001b[38;5;241m=\u001b[39m \u001b[38;5;28;43mself\u001b[39;49m\u001b[38;5;241;43m.\u001b[39;49m\u001b[43m_process_toarray_args\u001b[49m\u001b[43m(\u001b[49m\u001b[43morder\u001b[49m\u001b[43m,\u001b[49m\u001b[43m \u001b[49m\u001b[43mout\u001b[49m\u001b[43m)\u001b[49m\n\u001b[0;32m   1107\u001b[0m \u001b[38;5;28;01mif\u001b[39;00m \u001b[38;5;129;01mnot\u001b[39;00m (out\u001b[38;5;241m.\u001b[39mflags\u001b[38;5;241m.\u001b[39mc_contiguous \u001b[38;5;129;01mor\u001b[39;00m out\u001b[38;5;241m.\u001b[39mflags\u001b[38;5;241m.\u001b[39mf_contiguous):\n\u001b[0;32m   1108\u001b[0m     \u001b[38;5;28;01mraise\u001b[39;00m \u001b[38;5;167;01mValueError\u001b[39;00m(\u001b[38;5;124m'\u001b[39m\u001b[38;5;124mOutput array must be C or F contiguous\u001b[39m\u001b[38;5;124m'\u001b[39m)\n",
            "File \u001b[1;32mc:\\Users\\User\\AppData\\Local\\Programs\\Python\\Python312\\Lib\\site-packages\\scipy\\sparse\\_base.py:1327\u001b[0m, in \u001b[0;36m_spbase._process_toarray_args\u001b[1;34m(self, order, out)\u001b[0m\n\u001b[0;32m   1325\u001b[0m     \u001b[38;5;28;01mreturn\u001b[39;00m out\n\u001b[0;32m   1326\u001b[0m \u001b[38;5;28;01melse\u001b[39;00m:\n\u001b[1;32m-> 1327\u001b[0m     \u001b[38;5;28;01mreturn\u001b[39;00m \u001b[43mnp\u001b[49m\u001b[38;5;241;43m.\u001b[39;49m\u001b[43mzeros\u001b[49m\u001b[43m(\u001b[49m\u001b[38;5;28;43mself\u001b[39;49m\u001b[38;5;241;43m.\u001b[39;49m\u001b[43mshape\u001b[49m\u001b[43m,\u001b[49m\u001b[43m \u001b[49m\u001b[43mdtype\u001b[49m\u001b[38;5;241;43m=\u001b[39;49m\u001b[38;5;28;43mself\u001b[39;49m\u001b[38;5;241;43m.\u001b[39;49m\u001b[43mdtype\u001b[49m\u001b[43m,\u001b[49m\u001b[43m \u001b[49m\u001b[43morder\u001b[49m\u001b[38;5;241;43m=\u001b[39;49m\u001b[43morder\u001b[49m\u001b[43m)\u001b[49m\n",
            "\u001b[1;31mMemoryError\u001b[0m: Unable to allocate 60.3 GiB for an array with shape (2023066, 4000) and data type float64"
          ]
        }
      ],
      "source": [
        "# Visualização com PCA antes do SMOTE\n",
        "pca = PCA(n_components=2)\n",
        "X_pca = pca.fit_transform(X.toarray())  # Pode ser necessário amostrar se for muito grande\n",
        "df_pca = pd.DataFrame(X_pca, columns=[\"PC1\", \"PC2\"])\n",
        "df_pca[\"Class\"] = y.values\n",
        "\n",
        "plt.figure()\n",
        "sns.scatterplot(x=\"PC1\", y=\"PC2\", hue=\"Class\", data=df_pca, alpha=0.6)\n",
        "plt.title(\"Distribuição das Classes Antes do SMOTE (Dataset Completo)\")\n",
        "plt.legend()\n",
        "plt.tight_layout()\n",
        "plt.savefig(\"smote_before_full_pca.png\")\n",
        "plt.show()"
      ]
    },
    {
      "cell_type": "markdown",
      "metadata": {},
      "source": [
        "# 4. OVERSAMPLING COM SMOTE APÓS O TF-IDF"
      ]
    },
    {
      "cell_type": "code",
      "execution_count": 14,
      "metadata": {},
      "outputs": [
        {
          "name": "stdout",
          "output_type": "stream",
          "text": [
            "\n",
            "Distribuição das classes após SMOTE:\n",
            "product_5\n",
            "Credit Reporting              1205275\n",
            "Debt Collection               1205275\n",
            "Loans                         1205275\n",
            "Bank Accounts and Services    1205275\n",
            "Credit Card Services          1205275\n",
            "Name: count, dtype: int64\n"
          ]
        }
      ],
      "source": [
        "smote = SMOTE(random_state=42, k_neighbors=5)\n",
        "X_smote, y_smote = smote.fit_resample(X, y)\n",
        "\n",
        "print(\"\\nDistribuição das classes após SMOTE:\")\n",
        "print(pd.Series(y_smote).value_counts())"
      ]
    },
    {
      "cell_type": "code",
      "execution_count": null,
      "metadata": {},
      "outputs": [],
      "source": [
        "# Visualização com PCA após o SMOTE\n",
        "X_smote_pca = pca.transform(X_smote.toarray())\n",
        "df_smote_pca = pd.DataFrame(X_smote_pca, columns=[\"PC1\", \"PC2\"])\n",
        "df_smote_pca[\"Class\"] = y_smote\n",
        "\n",
        "plt.figure()\n",
        "sns.scatterplot(x=\"PC1\", y=\"PC2\", hue=\"Class\", data=df_smote_pca, alpha=0.6)\n",
        "plt.title(\"Distribuição das Classes Após o SMOTE (Dataset Completo)\")\n",
        "plt.legend()\n",
        "plt.tight_layout()\n",
        "plt.savefig(\"smote_after_full_pca.png\")\n",
        "plt.show()"
      ]
    },
    {
      "cell_type": "markdown",
      "metadata": {},
      "source": [
        "# 5. TREINAR E AVALIAÇÃO COM Logistic Regression"
      ]
    },
    {
      "cell_type": "code",
      "execution_count": 15,
      "metadata": {},
      "outputs": [
        {
          "name": "stdout",
          "output_type": "stream",
          "text": [
            "Logistic Regression (SMOTE Oversampling Full Dataset):\n",
            "                             precision    recall  f1-score   support\n",
            "\n",
            "Bank Accounts and Services       0.88      0.91      0.89    240982\n",
            "      Credit Card Services       0.86      0.83      0.84    241025\n",
            "          Credit Reporting       0.87      0.85      0.86    241234\n",
            "           Debt Collection       0.84      0.84      0.84    241267\n",
            "                     Loans       0.89      0.89      0.89    240767\n",
            "\n",
            "                  accuracy                           0.87   1205275\n",
            "                 macro avg       0.87      0.87      0.87   1205275\n",
            "              weighted avg       0.87      0.87      0.87   1205275\n",
            "\n"
          ]
        }
      ],
      "source": [
        "def train_and_evaluate_lr(X, y, scenario_name):    \n",
        "    \n",
        "    X_train, X_test, y_train, y_test = train_test_split(X, y, test_size=0.2, random_state=42)\n",
        "    \n",
        "    # Modelo LogisticRegression com L2\n",
        "    lr_l2 = LogisticRegression(penalty='l2', max_iter=1000, solver='liblinear', random_state=42)\n",
        "    lr_l2.fit(X_train, y_train)\n",
        "    y_pred_enc = lr_l2.predict(X_test)\n",
        "    \n",
        "    print(f\"Logistic Regression ({scenario_name}):\\n\", classification_report(y_test, y_pred_enc, zero_division=0))\n",
        "    joblib.dump(lr_l2, f'lr_l2_{scenario_name.lower().replace(\" \", \"_\")}_3percent.joblib')\n",
        "\n",
        "train_and_evaluate_lr(X_smote, y_smote, \"SMOTE Oversampling Full Dataset\")"
      ]
    }
  ],
  "metadata": {
    "colab": {
      "provenance": []
    },
    "kernelspec": {
      "display_name": "Python 3",
      "language": "python",
      "name": "python3"
    },
    "language_info": {
      "codemirror_mode": {
        "name": "ipython",
        "version": 3
      },
      "file_extension": ".py",
      "mimetype": "text/x-python",
      "name": "python",
      "nbconvert_exporter": "python",
      "pygments_lexer": "ipython3",
      "version": "3.12.6"
    }
  },
  "nbformat": 4,
  "nbformat_minor": 0
}
