{
  "cells": [
    {
      "cell_type": "code",
      "execution_count": null,
      "metadata": {},
      "outputs": [],
      "source": [
        "import pandas as pd\n",
        "import nltk\n",
        "import matplotlib.pyplot as plt\n",
        "import seaborn as sns\n",
        "import re\n",
        "from nltk.corpus import stopwords\n",
        "from sklearn.feature_extraction.text import TfidfVectorizer\n",
        "from sklearn.model_selection import train_test_split\n",
        "from sklearn.metrics import classification_report\n",
        "from nltk.tokenize import regexp_tokenize\n",
        "import os\n",
        "import joblib\n",
        "import numpy as np\n",
        "import spacy\n",
        "from sklearn.preprocessing import LabelEncoder\n",
        "from imblearn.over_sampling import SMOTE\n",
        "from sklearn.decomposition import PCA\n",
        "from sklearn.linear_model import LogisticRegression\n",
        "from tqdm import tqdm\n",
        "\n",
        "nltk.download('punkt_tab', quiet=True)\n",
        "nltk.download('stopwords', quiet=True)\n",
        "nltk.download('punkt', quiet=True)"
      ]
    },
    {
      "cell_type": "code",
      "execution_count": null,
      "metadata": {},
      "outputs": [],
      "source": [
        "# Configurações gerais para visualização\n",
        "sns.set(style=\"whitegrid\")\n",
        "plt.rcParams[\"figure.figsize\"] = (12, 6)\n",
        "\n",
        "# Carregar o modelo do spaCy\n",
        "nlp = spacy.load(\"en_core_web_sm\", disable=[\"ner\", \"parser\"])\n",
        "\n",
        "# Stopwords\n",
        "sw = set(stopwords.words(\"english\"))"
      ]
    },
    {
      "cell_type": "code",
      "execution_count": null,
      "metadata": {},
      "outputs": [],
      "source": [
        "REGEX_PATTERN = r'''(?x)  # Retirado do Notebook do Professor \"preprocessing.ipynb\"\n",
        "    (?:[A-Z]\\.)+         \n",
        "    | (?!x+\\b)\\w+(?:-\\w+)*  # Exclui palavras só com \"x\"\n",
        "    | \\$?\\d+(?:\\.\\d+)?%? \n",
        "    | \\.\\.\\.             \n",
        "    | [][.,;\"'?():-_`]  \n",
        "'''"
      ]
    },
    {
      "cell_type": "code",
      "execution_count": null,
      "metadata": {},
      "outputs": [],
      "source": [
        "def preprocess_lemmatization(text):\n",
        "    text = str(text) if pd.notna(text) else ''\n",
        "    tokens = regexp_tokenize(text.lower(), REGEX_PATTERN)\n",
        "    doc = nlp(' '.join(tokens))\n",
        "    tokens = [token.lemma_ for token in doc if token.text not in sw and token.is_alpha]\n",
        "    return ' '.join(tokens)"
      ]
    },
    {
      "cell_type": "code",
      "execution_count": null,
      "metadata": {},
      "outputs": [],
      "source": [
        "# Parâmetros\n",
        "chunksize = 100000\n",
        "file_name = \"consumer_complaints_full_lem.csv\"\n",
        "column_name = \"processed_text_lem\""
      ]
    },
    {
      "cell_type": "markdown",
      "metadata": {},
      "source": [
        "# 1. CARREGAR E PROCESSAR O DATASET COMPLETO"
      ]
    },
    {
      "cell_type": "code",
      "execution_count": null,
      "metadata": {},
      "outputs": [
        {
          "ename": "NameError",
          "evalue": "name 'os' is not defined",
          "output_type": "error",
          "traceback": [
            "\u001b[1;31m---------------------------------------------------------------------------\u001b[0m",
            "\u001b[1;31mNameError\u001b[0m                                 Traceback (most recent call last)",
            "Cell \u001b[1;32mIn[1], line 1\u001b[0m\n\u001b[1;32m----> 1\u001b[0m \u001b[38;5;28;01mif\u001b[39;00m \u001b[38;5;129;01mnot\u001b[39;00m \u001b[43mos\u001b[49m\u001b[38;5;241m.\u001b[39mpath\u001b[38;5;241m.\u001b[39mexists(file_name):\n\u001b[0;32m      2\u001b[0m     corpus \u001b[38;5;241m=\u001b[39m []\n\u001b[0;32m      3\u001b[0m     \u001b[38;5;28;01mfor\u001b[39;00m i, chunk \u001b[38;5;129;01min\u001b[39;00m \u001b[38;5;28menumerate\u001b[39m(pd\u001b[38;5;241m.\u001b[39mread_csv(\u001b[38;5;124m'\u001b[39m\u001b[38;5;124mcomplaints.csv\u001b[39m\u001b[38;5;124m'\u001b[39m, chunksize\u001b[38;5;241m=\u001b[39mchunksize)):\n",
            "\u001b[1;31mNameError\u001b[0m: name 'os' is not defined"
          ]
        }
      ],
      "source": [
        "if not os.path.exists(file_name):\n",
        "    corpus = []\n",
        "    for i, chunk in enumerate(pd.read_csv('complaints.csv', chunksize=chunksize)):\n",
        "        chunk = chunk.dropna()  # Remove NaN\n",
        "        chunk.loc[:, column_name] = [\n",
        "            preprocess_lemmatization(review) \n",
        "            for review in tqdm(chunk[\"narrative\"], desc=f\"Processing chunk {i+1}\")\n",
        "        ]\n",
        "        corpus.append(chunk)\n",
        "        print(f\"Processed chunk {i+1}...\")\n",
        "    \n",
        "    # Concatenar todos os chunks\n",
        "    data_processed = pd.concat(corpus, ignore_index=True)\n",
        "    data_processed.to_csv(file_name, index=False)\n",
        "    print(f\"Corpus completo salvo como '{file_name}'.\")\n",
        "else:\n",
        "    data_processed = pd.read_csv(file_name)\n",
        "    print(f\"Carregado '{file_name}' existente.\")"
      ]
    },
    {
      "cell_type": "code",
      "execution_count": null,
      "metadata": {},
      "outputs": [],
      "source": [
        "# Exibir informações do dataset\n",
        "print(\"\\nTotal de linhas no dataset completo:\", len(data_processed))\n",
        "print(\"Distribuição inicial das classes:\")\n",
        "print(data_processed[\"product_5\"].value_counts())"
      ]
    },
    {
      "cell_type": "markdown",
      "metadata": {},
      "source": [
        "# 2. VETORIZAÇÃO (TF-IDF com N-gramas (1,3))"
      ]
    },
    {
      "cell_type": "code",
      "execution_count": null,
      "metadata": {},
      "outputs": [],
      "source": [
        "print(\"Vetorizando o dataset completo com TF-IDF...\")\n",
        "tfidf = TfidfVectorizer(max_features=4000, ngram_range=(1, 3), stop_words=list(sw))\n",
        "X = tfidf.fit_transform(data_processed[column_name])\n",
        "y = data_processed[\"product_5\"]\n",
        "joblib.dump(tfidf, 'tfidf_vectorizer_full.joblib')\n",
        "print(f\"Tamanho do espaço de features: {X.shape}\")"
      ]
    },
    {
      "cell_type": "code",
      "execution_count": null,
      "metadata": {},
      "outputs": [],
      "source": [
        "'''# Visualização com PCA antes do SMOTE\n",
        "pca = PCA(n_components=2)\n",
        "X_pca = pca.fit_transform(X.toarray())\n",
        "df_pca = pd.DataFrame(X_pca, columns=[\"PC1\", \"PC2\"])\n",
        "df_pca[\"Class\"] = y.values\n",
        "\n",
        "plt.figure()\n",
        "sns.scatterplot(x=\"PC1\", y=\"PC2\", hue=\"Class\", data=df_pca, alpha=0.6)\n",
        "plt.title(\"Distribuição das Classes Antes do SMOTE (Dataset Completo)\")\n",
        "plt.legend()\n",
        "plt.tight_layout()\n",
        "plt.savefig(\"smote_before_full_pca.png\")\n",
        "plt.show()'''"
      ]
    },
    {
      "cell_type": "markdown",
      "metadata": {},
      "source": [
        "# 3. OVERSAMPLING COM SMOTE"
      ]
    },
    {
      "cell_type": "code",
      "execution_count": null,
      "metadata": {},
      "outputs": [],
      "source": [
        "smote = SMOTE(random_state=42, k_neighbors=5)\n",
        "X_smote, y_smote = smote.fit_resample(X, y)\n",
        "print(\"\\nDistribuição das classes após SMOTE:\")\n",
        "print(pd.Series(y_smote).value_counts())"
      ]
    },
    {
      "cell_type": "code",
      "execution_count": null,
      "metadata": {},
      "outputs": [],
      "source": [
        "'''# Visualização com PCA após o SMOTE\n",
        "X_smote_pca = pca.transform(X_smote.toarray())\n",
        "df_smote_pca = pd.DataFrame(X_smote_pca, columns=[\"PC1\", \"PC2\"])\n",
        "df_smote_pca[\"Class\"] = y_smote\n",
        "\n",
        "plt.figure()\n",
        "sns.scatterplot(x=\"PC1\", y=\"PC2\", hue=\"Class\", data=df_smote_pca, alpha=0.6)\n",
        "plt.title(\"Distribuição das Classes Após o SMOTE (Dataset Completo)\")\n",
        "plt.legend()\n",
        "plt.tight_layout()\n",
        "plt.savefig(\"smote_after_full_pca.png\")\n",
        "plt.show()'''"
      ]
    },
    {
      "cell_type": "markdown",
      "metadata": {},
      "source": [
        "# 4. TREINAR E AVALIAR COM LOGISTIC REGRESSION L2"
      ]
    },
    {
      "cell_type": "code",
      "execution_count": null,
      "metadata": {},
      "outputs": [],
      "source": [
        "def train_and_evaluate_lr(X, y, scenario_name):    \n",
        "    X_train, X_test, y_train, y_test = train_test_split(X, y, test_size=0.2, random_state=42)\n",
        "    lr_l2 = LogisticRegression(penalty='l2', max_iter=1000, solver='liblinear', random_state=42)\n",
        "    lr_l2.fit(X_train, y_train)\n",
        "    y_pred = lr_l2.predict(X_test)\n",
        "    print(f\"Logistic Regression ({scenario_name}):\\n\", classification_report(y_test, y_pred, zero_division=0))\n",
        "    joblib.dump(lr_l2, f'lr_l2_{scenario_name.lower().replace(\" \", \"_\")}_3percent.joblib')\n",
        "\n",
        "train_and_evaluate_lr(X_smote, y_smote, \"SMOTE Oversampling Full Dataset\")"
      ]
    }
  ],
  "metadata": {
    "colab": {
      "provenance": []
    },
    "kernelspec": {
      "display_name": "Python 3",
      "language": "python",
      "name": "python3"
    },
    "language_info": {
      "codemirror_mode": {
        "name": "ipython",
        "version": 3
      },
      "file_extension": ".py",
      "mimetype": "text/x-python",
      "name": "python",
      "nbconvert_exporter": "python",
      "pygments_lexer": "ipython3",
      "version": "3.12.6"
    }
  },
  "nbformat": 4,
  "nbformat_minor": 0
}
